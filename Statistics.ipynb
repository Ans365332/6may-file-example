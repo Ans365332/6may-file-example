{
  "nbformat": 4,
  "nbformat_minor": 0,
  "metadata": {
    "colab": {
      "provenance": [],
      "authorship_tag": "ABX9TyPDxHs5FWDB3y7vh/CBiJTQ",
      "include_colab_link": true
    },
    "kernelspec": {
      "name": "python3",
      "display_name": "Python 3"
    },
    "language_info": {
      "name": "python"
    }
  },
  "cells": [
    {
      "cell_type": "markdown",
      "metadata": {
        "id": "view-in-github",
        "colab_type": "text"
      },
      "source": [
        "<a href=\"https://colab.research.google.com/github/Ans365332/6may-file-example/blob/main/Statistics.ipynb\" target=\"_parent\"><img src=\"https://colab.research.google.com/assets/colab-badge.svg\" alt=\"Open In Colab\"/></a>"
      ]
    },
    {
      "cell_type": "markdown",
      "source": [
        "# Statistics-->\n",
        "statistics is a mathematical science including methods for analysing data or summarising data and according to that we would able to conclude the decision. Ex-Age distribution\n",
        "\n",
        "# Motivation behind stats:-\n",
        "- weather forcasting\n",
        "- sports analytics\n",
        "- Election"
      ],
      "metadata": {
        "id": "arCiJ5sAZbts"
      }
    },
    {
      "cell_type": "markdown",
      "source": [
        "# There are two types of statistic--\n",
        "- 1.Descriptive stats-\n",
        "-> it consists of organising & summarising the data\n",
        "- 2.Inferential stats\n",
        "-> it consists of using the data to measure from population for conclusion (- used when the population is very large, time and resources constraints)\n",
        "\n",
        "\n",
        "# Techniques of descriptive stats-\n",
        "- measures of central tendency(mean,meadian,mode)\n",
        "- measures of symmetricity(skewness [left skwed,right skwed])\n",
        "- measures of dispersion(standard deviation,variation)\n",
        "\n",
        "\n",
        "# Types of sampling techniques->\n",
        "1. Simple random sampling\n",
        "\n",
        "2. Statified sapling\n",
        "\n",
        "3. Clustered sampling\n",
        "\n",
        "4. Systematic sampling\n"
      ],
      "metadata": {
        "id": "I-unNnzKbukk"
      }
    },
    {
      "cell_type": "markdown",
      "source": [],
      "metadata": {
        "id": "_A0S7arDjWy1"
      }
    },
    {
      "cell_type": "code",
      "execution_count": null,
      "metadata": {
        "id": "g5xovWr0W4Cl"
      },
      "outputs": [],
      "source": []
    }
  ]
}