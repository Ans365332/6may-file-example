{
  "nbformat": 4,
  "nbformat_minor": 0,
  "metadata": {
    "colab": {
      "provenance": [],
      "authorship_tag": "ABX9TyNku8qHVFNyfvN/VIP342/8",
      "include_colab_link": true
    },
    "kernelspec": {
      "name": "python3",
      "display_name": "Python 3"
    },
    "language_info": {
      "name": "python"
    }
  },
  "cells": [
    {
      "cell_type": "markdown",
      "metadata": {
        "id": "view-in-github",
        "colab_type": "text"
      },
      "source": [
        "<a href=\"https://colab.research.google.com/github/Ans365332/6may-file-example/blob/main/list_practice.ipynb\" target=\"_parent\"><img src=\"https://colab.research.google.com/assets/colab-badge.svg\" alt=\"Open In Colab\"/></a>"
      ]
    },
    {
      "cell_type": "code",
      "execution_count": 2,
      "metadata": {
        "colab": {
          "base_uri": "https://localhost:8080/"
        },
        "id": "0zJGiK2fhNRe",
        "outputId": "de9dcd94-147a-4214-cc53-3a5cd5087574"
      },
      "outputs": [
        {
          "output_type": "stream",
          "name": "stdout",
          "text": [
            "99\n"
          ]
        }
      ],
      "source": [
        "n=[10,20,4,45,99]\n",
        "max=n[0]\n",
        "for i in range(0,len(n)):\n",
        "  if(n[i]>max):\n",
        "    max=n[i]\n",
        "print(max)"
      ]
    },
    {
      "cell_type": "code",
      "source": [
        "n=[10,20,30,40]\n",
        "sum=0\n",
        "for i in range(0,len(n)):\n",
        "  sum+=n[i]\n",
        "print(sum)"
      ],
      "metadata": {
        "colab": {
          "base_uri": "https://localhost:8080/"
        },
        "id": "IcB45UtIh74p",
        "outputId": "771aa8fa-4fdf-4c36-93ce-58fb83e2db49"
      },
      "execution_count": 4,
      "outputs": [
        {
          "output_type": "stream",
          "name": "stdout",
          "text": [
            "100\n"
          ]
        }
      ]
    },
    {
      "cell_type": "code",
      "source": [
        "n=[1,2,3,4,5]\n",
        "j=len(n)-1\n",
        "\n",
        "for i in range(len(n)//2):\n",
        "  s=n[i]\n",
        "  n[i]=n[j]\n",
        "  n[j]=s\n",
        "print(n)"
      ],
      "metadata": {
        "colab": {
          "base_uri": "https://localhost:8080/"
        },
        "id": "itLTT1NriXmZ",
        "outputId": "3ac132ba-1b35-45e9-d249-47e5502ef234"
      },
      "execution_count": 6,
      "outputs": [
        {
          "output_type": "stream",
          "name": "stdout",
          "text": [
            "[5, 1, 3, 4, 2]\n"
          ]
        }
      ]
    }
  ]
}