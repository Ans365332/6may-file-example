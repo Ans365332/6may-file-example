{
  "cells": [
    {
      "cell_type": "markdown",
      "metadata": {
        "id": "view-in-github",
        "colab_type": "text"
      },
      "source": [
        "<a href=\"https://colab.research.google.com/github/Ans365332/6may-file-example/blob/main/Numpy_A_16.ipynb\" target=\"_parent\"><img src=\"https://colab.research.google.com/assets/colab-badge.svg\" alt=\"Open In Colab\"/></a>"
      ]
    },
    {
      "cell_type": "code",
      "execution_count": null,
      "metadata": {
        "id": "jAdzFLb-VcrE"
      },
      "outputs": [],
      "source": [
        "#NUMPY---->\n",
        "#-numpy is basically used for numerical operation on the array\n",
        "#-Numpy is the library which is used for the numerical computation\n",
        "#-Numpy,short for Numerical python,is a fundamental library in python for scientific computing.It provide support for large\n",
        "#,multi-dimensional arrays and matrices, along with collection of high-level mathematical function to operate on these array\n",
        "#efficiently\n",
        "#-It work on the homogeneous data"
      ]
    },
    {
      "cell_type": "code",
      "execution_count": null,
      "metadata": {
        "id": "WOZfFfwmXQjr"
      },
      "outputs": [],
      "source": [
        "import numpy as np"
      ]
    },
    {
      "cell_type": "code",
      "execution_count": null,
      "metadata": {
        "colab": {
          "base_uri": "https://localhost:8080/"
        },
        "id": "HRt49IoYcYcs",
        "outputId": "2267a8df-0f05-4ea6-d344-b1cbb14ddb5b"
      },
      "outputs": [
        {
          "data": {
            "text/plain": [
              "array([1, 2, 3, 4])"
            ]
          },
          "execution_count": 9,
          "metadata": {},
          "output_type": "execute_result"
        }
      ],
      "source": [
        "arr=np.array([1,2,3,4])  #It will create an array from numpy package\n",
        "arr"
      ]
    },
    {
      "cell_type": "code",
      "execution_count": null,
      "metadata": {
        "colab": {
          "base_uri": "https://localhost:8080/"
        },
        "id": "7Itd745gaPjM",
        "outputId": "0aca75f3-ec74-4ccb-985b-082904e52152"
      },
      "outputs": [
        {
          "data": {
            "text/plain": [
              "array([ 1,  2,  3,  4,  5,  6,  7,  8,  9, 10])"
            ]
          },
          "execution_count": 2,
          "metadata": {},
          "output_type": "execute_result"
        }
      ],
      "source": [
        "a=np.arange(1,11)  # it will create an array for particular range\n",
        "a"
      ]
    },
    {
      "cell_type": "code",
      "execution_count": null,
      "metadata": {
        "colab": {
          "base_uri": "https://localhost:8080/"
        },
        "id": "G6mHBMZTera5",
        "outputId": "144730b6-8c4d-4f69-9d9d-04a39e99a7db"
      },
      "outputs": [
        {
          "data": {
            "text/plain": [
              "array([1, 3, 5, 7, 9])"
            ]
          },
          "execution_count": 17,
          "metadata": {},
          "output_type": "execute_result"
        }
      ],
      "source": [
        "a=np.arange(1,10,2)\n",
        "a"
      ]
    },
    {
      "cell_type": "code",
      "execution_count": null,
      "metadata": {
        "colab": {
          "base_uri": "https://localhost:8080/"
        },
        "id": "zhUrpXqAaYAA",
        "outputId": "b55e7268-2e4f-4849-b4fa-4a7d3296ca02"
      },
      "outputs": [
        {
          "data": {
            "text/plain": [
              "array([[ 1,  2,  3,  4],\n",
              "       [ 5,  6,  7,  8],\n",
              "       [ 9, 10, 11, 12]])"
            ]
          },
          "execution_count": 3,
          "metadata": {},
          "output_type": "execute_result"
        }
      ],
      "source": [
        "a=np.arange(1,13).reshape(3,4)\n",
        "a"
      ]
    },
    {
      "cell_type": "code",
      "execution_count": null,
      "metadata": {
        "colab": {
          "base_uri": "https://localhost:8080/"
        },
        "id": "mxfozrOzbB1Z",
        "outputId": "1d2cb61a-58d1-4f9f-d4bb-6b7e36500cad"
      },
      "outputs": [
        {
          "data": {
            "text/plain": [
              "2"
            ]
          },
          "execution_count": 4,
          "metadata": {},
          "output_type": "execute_result"
        }
      ],
      "source": [
        "a.ndim     # it will show the dimension"
      ]
    },
    {
      "cell_type": "code",
      "execution_count": null,
      "metadata": {
        "colab": {
          "base_uri": "https://localhost:8080/"
        },
        "id": "6J-WI2QjbnaX",
        "outputId": "d1af724a-c982-4e71-a0c2-90b93b4ee2de"
      },
      "outputs": [
        {
          "data": {
            "text/plain": [
              "(3, 4)"
            ]
          },
          "execution_count": 6,
          "metadata": {},
          "output_type": "execute_result"
        }
      ],
      "source": [
        "a.shape  # it will  show row and column"
      ]
    },
    {
      "cell_type": "code",
      "execution_count": null,
      "metadata": {
        "colab": {
          "base_uri": "https://localhost:8080/"
        },
        "id": "8U2-OJAWbtR0",
        "outputId": "0e71e592-a082-4f23-8e61-28ee2ca1112c"
      },
      "outputs": [
        {
          "data": {
            "text/plain": [
              "12"
            ]
          },
          "execution_count": 7,
          "metadata": {},
          "output_type": "execute_result"
        }
      ],
      "source": [
        "a.size  # it will show count of element"
      ]
    },
    {
      "cell_type": "code",
      "execution_count": null,
      "metadata": {
        "colab": {
          "base_uri": "https://localhost:8080/"
        },
        "id": "0FYKI_phb_A7",
        "outputId": "6ce19aa3-b81a-4c54-889a-809a0d5e7e07"
      },
      "outputs": [
        {
          "data": {
            "text/plain": [
              "8"
            ]
          },
          "execution_count": 8,
          "metadata": {},
          "output_type": "execute_result"
        }
      ],
      "source": [
        "a.itemsize  #"
      ]
    },
    {
      "cell_type": "code",
      "execution_count": null,
      "metadata": {
        "colab": {
          "base_uri": "https://localhost:8080/"
        },
        "id": "NvNh9Wwkb-hh",
        "outputId": "01ba389a-5ee0-4cac-e1f5-0c40e17db181"
      },
      "outputs": [
        {
          "data": {
            "text/plain": [
              "array([[1., 2.],\n",
              "       [3., 4.]])"
            ]
          },
          "execution_count": 10,
          "metadata": {},
          "output_type": "execute_result"
        }
      ],
      "source": [
        "c=np.array([[1,2],[3,4]],dtype=float)  # by using dtype we can change the data type of array\n",
        "c"
      ]
    },
    {
      "cell_type": "code",
      "execution_count": null,
      "metadata": {
        "colab": {
          "base_uri": "https://localhost:8080/"
        },
        "id": "lvxgGjM9dX1r",
        "outputId": "9d2261e0-6077-491a-c8ac-10564a5e8197"
      },
      "outputs": [
        {
          "data": {
            "text/plain": [
              "array([[0., 0., 0., 0.],\n",
              "       [0., 0., 0., 0.],\n",
              "       [0., 0., 0., 0.]])"
            ]
          },
          "execution_count": 11,
          "metadata": {},
          "output_type": "execute_result"
        }
      ],
      "source": [
        "a=np.zeros((3,4))   # it will create the matrix of 0\n",
        "a"
      ]
    },
    {
      "cell_type": "code",
      "execution_count": null,
      "metadata": {
        "colab": {
          "base_uri": "https://localhost:8080/"
        },
        "id": "sv9Mka6AdqvY",
        "outputId": "cf580e60-65c2-44c5-f62f-d3af689c2dd6"
      },
      "outputs": [
        {
          "data": {
            "text/plain": [
              "array([[1., 1., 1., 1.],\n",
              "       [1., 1., 1., 1.],\n",
              "       [1., 1., 1., 1.]])"
            ]
          },
          "execution_count": 12,
          "metadata": {},
          "output_type": "execute_result"
        }
      ],
      "source": [
        "a=np.ones((3,4))    #it will create the matrix of 1\n",
        "a"
      ]
    },
    {
      "cell_type": "code",
      "execution_count": null,
      "metadata": {
        "colab": {
          "base_uri": "https://localhost:8080/"
        },
        "id": "0dDR9wnXd0f2",
        "outputId": "f9fc5c3f-538b-4d3d-a695-a56bda9047a6"
      },
      "outputs": [
        {
          "data": {
            "text/plain": [
              "array([[1., 1., 1., 1.],\n",
              "       [1., 1., 1., 1.],\n",
              "       [1., 1., 1., 1.]])"
            ]
          },
          "execution_count": 16,
          "metadata": {},
          "output_type": "execute_result"
        }
      ],
      "source": [
        "a=np.empty((3,4))    #It will create a matrix with random number in memory\n",
        "a"
      ]
    },
    {
      "cell_type": "code",
      "execution_count": null,
      "metadata": {
        "colab": {
          "base_uri": "https://localhost:8080/"
        },
        "id": "fyuy_dMkeO2E",
        "outputId": "756c1bca-0abd-45e8-bd5b-8901f16575d5"
      },
      "outputs": [
        {
          "data": {
            "text/plain": [
              "array([ 1.  ,  3.25,  5.5 ,  7.75, 10.  ])"
            ]
          },
          "execution_count": 18,
          "metadata": {},
          "output_type": "execute_result"
        }
      ],
      "source": [
        "a=np.linspace(1,10,5)  #it will create an array with particular range with given no. of element\n",
        "a"
      ]
    },
    {
      "cell_type": "code",
      "execution_count": null,
      "metadata": {
        "colab": {
          "base_uri": "https://localhost:8080/"
        },
        "id": "XUcEhXnQfL-Y",
        "outputId": "b86e11a5-4d5d-4d8e-b306-3acb8e6950cc"
      },
      "outputs": [
        {
          "data": {
            "text/plain": [
              "array([[[ 1.  ]],\n",
              "\n",
              "       [[ 3.25]],\n",
              "\n",
              "       [[ 5.5 ]],\n",
              "\n",
              "       [[ 7.75]],\n",
              "\n",
              "       [[10.  ]]])"
            ]
          },
          "execution_count": 21,
          "metadata": {},
          "output_type": "execute_result"
        }
      ],
      "source": [
        "a=np.linspace(1,10,5).reshape(5,1,1) #it will create an array with particular range with given no. of element\n",
        "a"
      ]
    },
    {
      "cell_type": "code",
      "execution_count": null,
      "metadata": {
        "id": "cWwDQreXfjEI"
      },
      "outputs": [],
      "source": [
        "#--Operations between two array-->"
      ]
    },
    {
      "cell_type": "code",
      "execution_count": null,
      "metadata": {
        "id": "9HzfO8QTgNTx"
      },
      "outputs": [],
      "source": [
        "#Q-Generate an array with the range of 1 to 1000,power(2)\n",
        "#take two array-->addition , multi, substraction"
      ]
    },
    {
      "cell_type": "code",
      "execution_count": null,
      "metadata": {
        "colab": {
          "base_uri": "https://localhost:8080/"
        },
        "id": "XkO0wsI0giyK",
        "outputId": "872b7d38-096e-4d66-d861-21a40f39e1f5"
      },
      "outputs": [
        {
          "data": {
            "text/plain": [
              "array([ 1,  4,  9, 16, 25, 36, 49, 64, 81])"
            ]
          },
          "execution_count": 2,
          "metadata": {},
          "output_type": "execute_result"
        }
      ],
      "source": [
        "a=np.arange(1,10)\n",
        "ar=a**2\n",
        "ar"
      ]
    },
    {
      "cell_type": "code",
      "execution_count": null,
      "metadata": {
        "colab": {
          "base_uri": "https://localhost:8080/"
        },
        "id": "O4EiqWoqgiGy",
        "outputId": "11b3fdf8-b9de-45f5-a4ea-5d1d68f3eea4"
      },
      "outputs": [
        {
          "data": {
            "text/plain": [
              "array([5, 7, 9])"
            ]
          },
          "execution_count": 24,
          "metadata": {},
          "output_type": "execute_result"
        }
      ],
      "source": [
        "a1=np.array([1,2,3])\n",
        "a2=np.array([4,5,6])\n",
        "a1+a2"
      ]
    },
    {
      "cell_type": "code",
      "execution_count": null,
      "metadata": {
        "colab": {
          "base_uri": "https://localhost:8080/"
        },
        "id": "5e28btOHg56Z",
        "outputId": "0ca6d1d6-5eb5-4dfc-b2b9-19b3db4fe290"
      },
      "outputs": [
        {
          "data": {
            "text/plain": [
              "array([-3, -3, -3])"
            ]
          },
          "execution_count": 25,
          "metadata": {},
          "output_type": "execute_result"
        }
      ],
      "source": [
        "a1-a2"
      ]
    },
    {
      "cell_type": "code",
      "execution_count": null,
      "metadata": {
        "colab": {
          "base_uri": "https://localhost:8080/"
        },
        "id": "OxwseIsFg8E_",
        "outputId": "9f057d00-9ae8-48ce-c103-716e857c20e9"
      },
      "outputs": [
        {
          "data": {
            "text/plain": [
              "array([ 4, 10, 18])"
            ]
          },
          "execution_count": 26,
          "metadata": {},
          "output_type": "execute_result"
        }
      ],
      "source": [
        "a1*a2"
      ]
    },
    {
      "cell_type": "code",
      "execution_count": null,
      "metadata": {
        "colab": {
          "base_uri": "https://localhost:8080/"
        },
        "id": "zA8Oqop7hWPW",
        "outputId": "0a50e017-351d-4ac3-c54b-cb723228197d"
      },
      "outputs": [
        {
          "data": {
            "text/plain": [
              "array([[19, 22],\n",
              "       [43, 50]])"
            ]
          },
          "execution_count": 29,
          "metadata": {},
          "output_type": "execute_result"
        }
      ],
      "source": [
        "ar1=np.array([[1,2],[3,4]])\n",
        "ar2=np.array([[5,6],[7,8]])    # it will done the matrix multiplication\n",
        "a=ar1.dot(ar2)\n",
        "a"
      ]
    },
    {
      "cell_type": "code",
      "execution_count": null,
      "metadata": {
        "id": "mWjMiFSIijDt"
      },
      "outputs": [],
      "source": [
        "#Random numbers--->"
      ]
    },
    {
      "cell_type": "code",
      "execution_count": null,
      "metadata": {
        "colab": {
          "base_uri": "https://localhost:8080/"
        },
        "id": "iwJmz2CPjFJJ",
        "outputId": "d6bd60a9-a47c-44d3-9c2d-2ac2e088d7a1"
      },
      "outputs": [
        {
          "data": {
            "text/plain": [
              "array([[0.51182162, 0.9504637 , 0.14415961, 0.94864945],\n",
              "       [0.31183145, 0.42332645, 0.82770259, 0.40919914],\n",
              "       [0.54959369, 0.02755911, 0.75351311, 0.53814331]])"
            ]
          },
          "execution_count": 30,
          "metadata": {},
          "output_type": "execute_result"
        }
      ],
      "source": [
        "#random no. generator\n",
        "a=np.random.default_rng(1)   # it will create the instance for random number\n",
        "b=a.random((3,4))     #it will generate random number\n",
        "b"
      ]
    },
    {
      "cell_type": "code",
      "execution_count": null,
      "metadata": {
        "colab": {
          "base_uri": "https://localhost:8080/"
        },
        "id": "QW161llSjlKh",
        "outputId": "b5385aec-69ac-4048-d431-e44c99b75df0"
      },
      "outputs": [
        {
          "data": {
            "text/plain": [
              "np.int64(10)"
            ]
          },
          "execution_count": 31,
          "metadata": {},
          "output_type": "execute_result"
        }
      ],
      "source": [
        "a=np.array([1,2,3,4])\n",
        "a.sum()"
      ]
    },
    {
      "cell_type": "code",
      "execution_count": null,
      "metadata": {
        "colab": {
          "base_uri": "https://localhost:8080/"
        },
        "id": "iSM_WIzGj5Il",
        "outputId": "c9d2906f-d629-4451-96c9-c142398c9908"
      },
      "outputs": [
        {
          "data": {
            "text/plain": [
              "np.int64(4)"
            ]
          },
          "execution_count": 32,
          "metadata": {},
          "output_type": "execute_result"
        }
      ],
      "source": [
        "a.max()"
      ]
    },
    {
      "cell_type": "code",
      "execution_count": null,
      "metadata": {
        "colab": {
          "base_uri": "https://localhost:8080/"
        },
        "id": "cUcdyor-j7N3",
        "outputId": "b8bc7f75-08fb-4e4e-9cf6-fa7b126b1f45"
      },
      "outputs": [
        {
          "data": {
            "text/plain": [
              "np.int64(1)"
            ]
          },
          "execution_count": 33,
          "metadata": {},
          "output_type": "execute_result"
        }
      ],
      "source": [
        "a.min()"
      ]
    },
    {
      "cell_type": "code",
      "execution_count": null,
      "metadata": {
        "colab": {
          "base_uri": "https://localhost:8080/"
        },
        "id": "AhoRi3XZj9vG",
        "outputId": "9968c737-c097-4742-e359-93e1e9b8c239"
      },
      "outputs": [
        {
          "data": {
            "text/plain": [
              "array([[1, 2],\n",
              "       [3, 4]])"
            ]
          },
          "execution_count": 35,
          "metadata": {},
          "output_type": "execute_result"
        }
      ],
      "source": [
        "arr=np.array([[1,2],[3,4]])\n",
        "arr"
      ]
    },
    {
      "cell_type": "code",
      "execution_count": null,
      "metadata": {
        "colab": {
          "base_uri": "https://localhost:8080/"
        },
        "id": "_uXLLs_IkQnw",
        "outputId": "76429c64-0066-4321-ade0-3f88c160d033"
      },
      "outputs": [
        {
          "data": {
            "text/plain": [
              "array([3, 7])"
            ]
          },
          "execution_count": 36,
          "metadata": {},
          "output_type": "execute_result"
        }
      ],
      "source": [
        "arr.sum(axis=1)  #sum of row"
      ]
    },
    {
      "cell_type": "code",
      "execution_count": null,
      "metadata": {
        "colab": {
          "base_uri": "https://localhost:8080/"
        },
        "id": "aZt5WPWMkZnF",
        "outputId": "97c7ae47-6beb-4f6d-a84b-deb9a41176d3"
      },
      "outputs": [
        {
          "data": {
            "text/plain": [
              "array([4, 6])"
            ]
          },
          "execution_count": 37,
          "metadata": {},
          "output_type": "execute_result"
        }
      ],
      "source": [
        "arr.sum(axis=0)  #sum of column"
      ]
    },
    {
      "cell_type": "code",
      "execution_count": null,
      "metadata": {
        "colab": {
          "base_uri": "https://localhost:8080/"
        },
        "id": "LpM3_t4wkley",
        "outputId": "a2407c52-0771-4e9a-c595-6e383ae8717e"
      },
      "outputs": [
        {
          "data": {
            "text/plain": [
              "array([ 1,  3,  6, 10])"
            ]
          },
          "execution_count": 38,
          "metadata": {},
          "output_type": "execute_result"
        }
      ],
      "source": [
        "a=np.array([1,2,3,4])\n",
        "a.cumsum()  # it is cummulative sum( like fabonacci series)"
      ]
    },
    {
      "cell_type": "code",
      "execution_count": null,
      "metadata": {
        "colab": {
          "base_uri": "https://localhost:8080/"
        },
        "id": "hRoIA9cSlVnC",
        "outputId": "942f9bfa-1d9e-46ab-82c2-899921617dd2"
      },
      "outputs": [
        {
          "data": {
            "text/plain": [
              "array([[[ 0,  1,  2,  3,  4,  5,  6,  7,  8,  9]],\n",
              "\n",
              "       [[10, 11, 12, 13, 14, 15, 16, 17, 18, 19]],\n",
              "\n",
              "       [[20, 21, 22, 23, 24, 25, 26, 27, 28, 29]],\n",
              "\n",
              "       [[30, 31, 32, 33, 34, 35, 36, 37, 38, 39]],\n",
              "\n",
              "       [[40, 41, 42, 43, 44, 45, 46, 47, 48, 49]],\n",
              "\n",
              "       [[50, 51, 52, 53, 54, 55, 56, 57, 58, 59]],\n",
              "\n",
              "       [[60, 61, 62, 63, 64, 65, 66, 67, 68, 69]],\n",
              "\n",
              "       [[70, 71, 72, 73, 74, 75, 76, 77, 78, 79]],\n",
              "\n",
              "       [[80, 81, 82, 83, 84, 85, 86, 87, 88, 89]],\n",
              "\n",
              "       [[90, 91, 92, 93, 94, 95, 96, 97, 98, 99]]])"
            ]
          },
          "execution_count": 6,
          "metadata": {},
          "output_type": "execute_result"
        }
      ],
      "source": [
        "a=np.arange(0,100).reshape(10,1,10)\n",
        "a"
      ]
    },
    {
      "cell_type": "code",
      "execution_count": null,
      "metadata": {
        "colab": {
          "base_uri": "https://localhost:8080/"
        },
        "id": "v7QAFg-iFywa",
        "outputId": "e2aeeafa-9482-4e24-8f8d-855ac9969f35"
      },
      "outputs": [
        {
          "data": {
            "text/plain": [
              "array([[[1, 1, 1, 1, 1, 1, 1, 1, 1, 1]],\n",
              "\n",
              "       [[1, 1, 1, 1, 1, 1, 1, 1, 1, 1]],\n",
              "\n",
              "       [[1, 1, 1, 1, 1, 1, 1, 1, 1, 1]],\n",
              "\n",
              "       [[1, 1, 1, 1, 1, 1, 1, 1, 1, 1]],\n",
              "\n",
              "       [[1, 1, 1, 1, 1, 1, 1, 1, 1, 1]],\n",
              "\n",
              "       [[1, 1, 1, 1, 1, 1, 1, 1, 1, 1]],\n",
              "\n",
              "       [[1, 1, 1, 1, 1, 1, 1, 1, 1, 1]],\n",
              "\n",
              "       [[1, 1, 1, 1, 1, 1, 1, 1, 1, 1]],\n",
              "\n",
              "       [[1, 1, 1, 1, 1, 1, 1, 1, 1, 1]],\n",
              "\n",
              "       [[1, 1, 1, 1, 1, 1, 1, 1, 1, 1]]])"
            ]
          },
          "execution_count": 5,
          "metadata": {},
          "output_type": "execute_result"
        }
      ],
      "source": [
        "arr=np.ones_like(a) # it will create matrix exactly in dimension like first one but with 1 value\n",
        "arr"
      ]
    },
    {
      "cell_type": "code",
      "execution_count": null,
      "metadata": {
        "colab": {
          "base_uri": "https://localhost:8080/"
        },
        "id": "H11lMGz-HAkR",
        "outputId": "73267259-e53d-4462-fdfc-c664444c315f"
      },
      "outputs": [
        {
          "data": {
            "text/plain": [
              "array([[[0, 0, 0, 0, 0, 0, 0, 0, 0, 0]],\n",
              "\n",
              "       [[0, 0, 0, 0, 0, 0, 0, 0, 0, 0]],\n",
              "\n",
              "       [[0, 0, 0, 0, 0, 0, 0, 0, 0, 0]],\n",
              "\n",
              "       [[0, 0, 0, 0, 0, 0, 0, 0, 0, 0]],\n",
              "\n",
              "       [[0, 0, 0, 0, 0, 0, 0, 0, 0, 0]],\n",
              "\n",
              "       [[0, 0, 0, 0, 0, 0, 0, 0, 0, 0]],\n",
              "\n",
              "       [[0, 0, 0, 0, 0, 0, 0, 0, 0, 0]],\n",
              "\n",
              "       [[0, 0, 0, 0, 0, 0, 0, 0, 0, 0]],\n",
              "\n",
              "       [[0, 0, 0, 0, 0, 0, 0, 0, 0, 0]],\n",
              "\n",
              "       [[0, 0, 0, 0, 0, 0, 0, 0, 0, 0]]])"
            ]
          },
          "execution_count": 7,
          "metadata": {},
          "output_type": "execute_result"
        }
      ],
      "source": [
        "arr2=np.zeros_like(arr)   # it will create matrix exactly in dimension like first one but with 0 value\n",
        "arr2"
      ]
    },
    {
      "cell_type": "code",
      "execution_count": null,
      "metadata": {
        "colab": {
          "base_uri": "https://localhost:8080/"
        },
        "id": "ylDczYjKHjdM",
        "outputId": "bd3494cc-d211-4e98-e756-c6120d5d3d6d"
      },
      "outputs": [
        {
          "data": {
            "text/plain": [
              "array([[1, 2, 3],\n",
              "       [4, 5, 6],\n",
              "       [7, 8, 9]])"
            ]
          },
          "execution_count": 9,
          "metadata": {},
          "output_type": "execute_result"
        }
      ],
      "source": [
        "a=np.arange(1,10).reshape(3,3)\n",
        "a"
      ]
    },
    {
      "cell_type": "code",
      "execution_count": null,
      "metadata": {
        "colab": {
          "base_uri": "https://localhost:8080/"
        },
        "id": "3nm7PQkfHqRd",
        "outputId": "5c3487c2-e818-4f3d-83d6-574e9046ea40"
      },
      "outputs": [
        {
          "name": "stdout",
          "output_type": "stream",
          "text": [
            "Array: [[1 1 1]\n",
            " [1 1 1]\n",
            " [1 1 1]]\n",
            "size: 9\n",
            "shape: (3, 3)\n",
            "dimension: 2\n"
          ]
        }
      ],
      "source": [
        "arr=np.ones_like(a)\n",
        "print(\"Array:\",arr)\n",
        "print(\"size:\",arr.size)\n",
        "print(\"shape:\",arr.shape)\n",
        "print(\"dimension:\",arr.ndim)"
      ]
    },
    {
      "cell_type": "code",
      "execution_count": null,
      "metadata": {
        "colab": {
          "base_uri": "https://localhost:8080/"
        },
        "id": "JLE_ukkCH55V",
        "outputId": "297d8679-1b73-45c3-f071-2083f5b71a44"
      },
      "outputs": [
        {
          "data": {
            "text/plain": [
              "9"
            ]
          },
          "execution_count": 15,
          "metadata": {},
          "output_type": "execute_result"
        }
      ],
      "source": [
        "arr2=np.zeros_like(a)\n",
        "arr2\n",
        "print(\"Array:\",arr)\n",
        "print(\"size:\",arr.size)\n",
        "print(\"shape:\",arr.shape)\n",
        "print(\"dimension:\",arr.ndim)"
      ]
    },
    {
      "cell_type": "code",
      "execution_count": null,
      "metadata": {
        "colab": {
          "base_uri": "https://localhost:8080/"
        },
        "id": "2yahuyBRIIPL",
        "outputId": "4b117db7-e166-4b6f-ccbe-f5826a33bbba"
      },
      "outputs": [
        {
          "data": {
            "text/plain": [
              "array([[ 1,  2,  3,  4,  5],\n",
              "       [ 6,  7,  8,  9, 10],\n",
              "       [11, 12, 13, 14, 15],\n",
              "       [16, 17, 18, 19, 20]])"
            ]
          },
          "execution_count": 17,
          "metadata": {},
          "output_type": "execute_result"
        }
      ],
      "source": [
        "a=np.arange(1,21).reshape(4,5)\n",
        "a"
      ]
    },
    {
      "cell_type": "code",
      "execution_count": null,
      "metadata": {
        "colab": {
          "base_uri": "https://localhost:8080/"
        },
        "id": "2c8OipNEJlM5",
        "outputId": "254d9e8d-7d82-49a1-b5d1-7096006eae01"
      },
      "outputs": [
        {
          "name": "stdout",
          "output_type": "stream",
          "text": [
            "Array: [[370917920         0  11672240  11667168  11671848]\n",
            " [ 11666144  11669184  11668864  11666632  11669664]\n",
            " [ 11667520  11667016  11670792  11670736  11672400]\n",
            " [ 11666904  11672016  11666424  11665560         0]]\n",
            "size: 20\n",
            "shape: (4, 5)\n",
            "dimension: 2\n"
          ]
        }
      ],
      "source": [
        "arr=np.empty_like(a)\n",
        "print(\"Array:\",arr)\n",
        "print(\"size:\",arr.size)\n",
        "print(\"shape:\",arr.shape)\n",
        "print(\"dimension:\",arr.ndim)"
      ]
    },
    {
      "cell_type": "code",
      "execution_count": null,
      "metadata": {
        "colab": {
          "base_uri": "https://localhost:8080/"
        },
        "id": "Yn6RumiGJvyv",
        "outputId": "a3b4e351-f26a-46b4-e4d5-d184091ea54d"
      },
      "outputs": [
        {
          "data": {
            "text/plain": [
              "array([1, 3, 9, 7, 5])"
            ]
          },
          "execution_count": 20,
          "metadata": {},
          "output_type": "execute_result"
        }
      ],
      "source": [
        "a=np.random.randint(1,10,5)\n",
        "a"
      ]
    },
    {
      "cell_type": "code",
      "execution_count": null,
      "metadata": {
        "colab": {
          "base_uri": "https://localhost:8080/"
        },
        "id": "eME4tDrCKDbR",
        "outputId": "edd42c5d-d270-48b0-f68d-5cac589b8725"
      },
      "outputs": [
        {
          "data": {
            "text/plain": [
              "array([ 1.  ,  3.25,  5.5 ,  7.75, 10.  ])"
            ]
          },
          "execution_count": 21,
          "metadata": {},
          "output_type": "execute_result"
        }
      ],
      "source": [
        "a=np.linspace(1,10,5)\n",
        "a"
      ]
    },
    {
      "cell_type": "code",
      "execution_count": null,
      "metadata": {
        "colab": {
          "base_uri": "https://localhost:8080/"
        },
        "id": "1g1N7dQMKH42",
        "outputId": "ae5190fa-7992-4058-8ce6-b0e9ac9747cc"
      },
      "outputs": [
        {
          "data": {
            "text/plain": [
              "array([1, 2, 3, 4, 5, 6, 7, 8, 9])"
            ]
          },
          "execution_count": 23,
          "metadata": {},
          "output_type": "execute_result"
        }
      ],
      "source": [
        "a=np.arange(1,10)\n",
        "a"
      ]
    },
    {
      "cell_type": "code",
      "execution_count": null,
      "metadata": {
        "colab": {
          "base_uri": "https://localhost:8080/"
        },
        "id": "ERtXQ8lZKUjb",
        "outputId": "fc6f48c4-d69a-475b-d40c-835d4f44fe9e"
      },
      "outputs": [
        {
          "data": {
            "text/plain": [
              "array([[1., 0., 0.],\n",
              "       [0., 1., 0.],\n",
              "       [0., 0., 1.]])"
            ]
          },
          "execution_count": 24,
          "metadata": {},
          "output_type": "execute_result"
        }
      ],
      "source": [
        "#eye-->\n",
        "\n",
        "eye=np.eye(3)   #indentity matrix\n",
        "eye"
      ]
    },
    {
      "cell_type": "code",
      "execution_count": null,
      "metadata": {
        "id": "k-1XVod1M78p"
      },
      "outputs": [],
      "source": [
        "# create an array with arange,apply cumsum,cumprod"
      ]
    },
    {
      "cell_type": "code",
      "execution_count": null,
      "metadata": {
        "colab": {
          "base_uri": "https://localhost:8080/"
        },
        "id": "cW-Xgi87N2o8",
        "outputId": "d1af0519-ee12-45b3-9028-74d62a88f3a2"
      },
      "outputs": [
        {
          "data": {
            "text/plain": [
              "array([[0, 1, 2],\n",
              "       [3, 4, 5],\n",
              "       [6, 7, 8]])"
            ]
          },
          "execution_count": 34,
          "metadata": {},
          "output_type": "execute_result"
        }
      ],
      "source": [
        "a=np.arange(0,9).reshape(3,3)\n",
        "# b=np.cumsum(a)\n",
        "a"
      ]
    },
    {
      "cell_type": "code",
      "execution_count": null,
      "metadata": {
        "colab": {
          "base_uri": "https://localhost:8080/"
        },
        "id": "hD4dI3V7L9xe",
        "outputId": "d71067c9-741d-402d-a009-47cd9e412b3c"
      },
      "outputs": [
        {
          "data": {
            "text/plain": [
              "array([0, 0, 0, 0, 0, 0, 0, 0, 0])"
            ]
          },
          "execution_count": 35,
          "metadata": {},
          "output_type": "execute_result"
        }
      ],
      "source": [
        "b=np.cumprod(a)\n",
        "b"
      ]
    },
    {
      "cell_type": "code",
      "execution_count": null,
      "metadata": {
        "colab": {
          "base_uri": "https://localhost:8080/"
        },
        "id": "33gE_GzVb4Dz",
        "outputId": "3a1b17f2-a2b0-4de5-8f0f-0566a42155d7"
      },
      "outputs": [
        {
          "name": "stdout",
          "output_type": "stream",
          "text": [
            "enter:10 20 30 40 50\n",
            "[10 20 30 40 50]\n"
          ]
        }
      ],
      "source": [
        "#1. Create an Array\n",
        "#Problem: Create a NumPy array from a list of space-separated integers.\n",
        "#Input format: A list of integers separated by spaces.\n",
        "#Example: 10 20 30 40 50\n",
        "# Output format: The NumPy array.\n",
        "# Example output: [10 20 30 40 50]\n",
        "\n",
        "\n",
        "a=list(map(int,input(\"enter:\").split()))\n",
        "arr=np.array(a)\n",
        "print(arr)"
      ]
    },
    {
      "cell_type": "code",
      "execution_count": null,
      "metadata": {
        "colab": {
          "base_uri": "https://localhost:8080/"
        },
        "id": "YkxMSkv2c8vP",
        "outputId": "572a3606-24f5-4251-ee23-bbf1a0ec880b"
      },
      "outputs": [
        {
          "name": "stdout",
          "output_type": "stream",
          "text": [
            "enter:3 4\n"
          ]
        },
        {
          "data": {
            "text/plain": [
              "array([[0., 0., 0., 0.],\n",
              "       [0., 0., 0., 0.],\n",
              "       [0., 0., 0., 0.]])"
            ]
          },
          "execution_count": 10,
          "metadata": {},
          "output_type": "execute_result"
        }
      ],
      "source": [
        "# 2. Create an Array of Zeros\n",
        "# Problem: Create an array of zeros with the specified shape.\n",
        "# Input format: Two integers representing rows and columns.\n",
        "# Example: 3 4\n",
        "# Output format: A 3x4 array of zeros.\n",
        "\n",
        "a=list(map(int,input(\"enter:\").split()))\n",
        "b=np.zeros(tuple(a))\n",
        "b"
      ]
    },
    {
      "cell_type": "code",
      "execution_count": null,
      "metadata": {
        "colab": {
          "base_uri": "https://localhost:8080/"
        },
        "id": "6J0xCSNxeMBP",
        "outputId": "22989af9-610d-47ed-db97-3b0614bdfcd4"
      },
      "outputs": [
        {
          "name": "stdout",
          "output_type": "stream",
          "text": [
            "enter:5 6 7\n"
          ]
        },
        {
          "data": {
            "text/plain": [
              "array([0, 0, 0])"
            ]
          },
          "execution_count": 11,
          "metadata": {},
          "output_type": "execute_result"
        }
      ],
      "source": [
        "# 3. Create an Array of Zeros Like Another\n",
        "# Problem: Given an array, create a zeros array with the same shape.\n",
        "# Input format: A list of integers.\n",
        "# Example: 5 6 7\n",
        "# Output format: A zeros array with the same shape.\n",
        "# Example output: [0 0 0]\n",
        "\n",
        "a=list(map(int,input(\"enter:\").split()))\n",
        "b=np.zeros_like(a)\n",
        "b"
      ]
    },
    {
      "cell_type": "code",
      "execution_count": null,
      "metadata": {
        "colab": {
          "base_uri": "https://localhost:8080/"
        },
        "id": "OL42q_RZey9A",
        "outputId": "0a873260-79d3-4a09-f931-cd9363179b32"
      },
      "outputs": [
        {
          "name": "stdout",
          "output_type": "stream",
          "text": [
            "enter:2 3\n"
          ]
        },
        {
          "data": {
            "text/plain": [
              "array([[1., 1., 1.],\n",
              "       [1., 1., 1.]])"
            ]
          },
          "execution_count": 12,
          "metadata": {},
          "output_type": "execute_result"
        }
      ],
      "source": [
        "# 4. Create an Array of Ones\n",
        "# Problem: Create an array of ones with the specified shape.\n",
        "# Input format: Two integers representing rows and columns.\n",
        "# Example: 2 3\n",
        "# Output format: A 2x3 array of ones.\n",
        "\n",
        "a=list(map(int,input(\"enter:\").split()))\n",
        "b=np.ones(tuple(a))\n",
        "b\n"
      ]
    },
    {
      "cell_type": "code",
      "execution_count": null,
      "metadata": {
        "colab": {
          "base_uri": "https://localhost:8080/"
        },
        "id": "pfgaphQofRMD",
        "outputId": "e849352f-aedd-4b71-b8ab-0363a399b040"
      },
      "outputs": [
        {
          "name": "stdout",
          "output_type": "stream",
          "text": [
            "enter:9 8 7 6\n"
          ]
        },
        {
          "data": {
            "text/plain": [
              "array([1, 1, 1, 1])"
            ]
          },
          "execution_count": 13,
          "metadata": {},
          "output_type": "execute_result"
        }
      ],
      "source": [
        "# 5. Create an Array of Ones Like Another\n",
        "# Problem: Given an array, create an ones array with the same shape.\n",
        "# Input format: A list of integers.\n",
        "# Example: 9 8 7 6\n",
        "# Output format: An array of ones with the same shape.\n",
        "# Example output: [1 1 1 1]\n",
        "\n",
        "a=list(map(int,input(\"enter:\").split()))\n",
        "b=np.ones_like(a)\n",
        "b"
      ]
    },
    {
      "cell_type": "code",
      "execution_count": null,
      "metadata": {
        "colab": {
          "base_uri": "https://localhost:8080/"
        },
        "id": "RUPHkjLgf51o",
        "outputId": "818b2ff4-95b4-4099-c373-627b1186545a"
      },
      "outputs": [
        {
          "name": "stdout",
          "output_type": "stream",
          "text": [
            "enter:2 2\n"
          ]
        },
        {
          "data": {
            "text/plain": [
              "array([[9, 8],\n",
              "       [7, 6]])"
            ]
          },
          "execution_count": 15,
          "metadata": {},
          "output_type": "execute_result"
        }
      ],
      "source": [
        "# 6. Create an Uninitialized Array\n",
        "# Problem: Create an uninitialized array with the given shape.\n",
        "# Input format: Two integers representing rows and columns.\n",
        "# Example: 2 2\n",
        "# Output format: A 2x2 array with arbitrary uninitialized values.\n",
        "\n",
        "a=list(map(int,input(\"enter:\").split()))\n",
        "b=np.empty(tuple(a),dtype=int)\n",
        "b"
      ]
    },
    {
      "cell_type": "code",
      "execution_count": null,
      "metadata": {
        "colab": {
          "base_uri": "https://localhost:8080/"
        },
        "id": "7LdY-c8agPSi",
        "outputId": "4f3f6a39-d3c2-4c4c-c7fb-0491addd08fa"
      },
      "outputs": [
        {
          "name": "stdout",
          "output_type": "stream",
          "text": [
            "enter:1 2 3 4 5\n"
          ]
        },
        {
          "data": {
            "text/plain": [
              "array([325236114,         0,         0,         0,        48])"
            ]
          },
          "execution_count": 16,
          "metadata": {},
          "output_type": "execute_result"
        }
      ],
      "source": [
        "# 7. Create an Array Like Another with Uninitialized Values\n",
        "# Problem: Given an array, create an uninitialized array with the same shape.\n",
        "# Input format: A list of integers.\n",
        "# Example: 1 2 3 4 5\n",
        "# Output format: An array with uninitialized values.\n",
        "\n",
        "a=list(map(int,input(\"enter:\").split()))\n",
        "b=np.empty_like(a)\n",
        "b\n"
      ]
    },
    {
      "cell_type": "code",
      "execution_count": null,
      "metadata": {
        "colab": {
          "base_uri": "https://localhost:8080/"
        },
        "id": "8xz-HfkXg7FW",
        "outputId": "f0858682-487d-4615-cf65-4af82ee2600b"
      },
      "outputs": [
        {
          "name": "stdout",
          "output_type": "stream",
          "text": [
            "enter:5 20 3\n"
          ]
        },
        {
          "data": {
            "text/plain": [
              "array([ 5,  8, 11, 14, 17])"
            ]
          },
          "execution_count": 18,
          "metadata": {},
          "output_type": "execute_result"
        }
      ],
      "source": [
        "# 8. Create an Array Using arange()\n",
        "# Problem: Create an array using arange with start, end, and step values.\n",
        "# Input format: Three integers separated by spaces.\n",
        "# Example: 5 20 3\n",
        "# Output format: A NumPy array with values starting from start to before end with step\n",
        "# size.\n",
        "# Example output: [5 8 11 14 17]\n",
        "\n",
        "a=list(map(int,input(\"enter:\").split()))\n",
        "b=np.arange(a[0],a[1],a[2])\n",
        "b\n"
      ]
    },
    {
      "cell_type": "code",
      "execution_count": null,
      "metadata": {
        "colab": {
          "base_uri": "https://localhost:8080/"
        },
        "id": "sVwG-4QZhBjN",
        "outputId": "b42364df-93d0-4be6-ce8b-4c6cc1c20273"
      },
      "outputs": [
        {
          "name": "stdout",
          "output_type": "stream",
          "text": [
            "enter:0 1 5\n"
          ]
        },
        {
          "data": {
            "text/plain": [
              "array([0.  , 0.25, 0.5 , 0.75, 1.  ])"
            ]
          },
          "execution_count": 19,
          "metadata": {},
          "output_type": "execute_result"
        }
      ],
      "source": [
        "# 9. Create a Linearly Spaced Array\n",
        "# Problem: Use linspace to create n equally spaced numbers between start and end.\n",
        "# Input format: Two floats and an integer: start, end, n.\n",
        "# Example: 0 1 5\n",
        "# Output format: An array with n equally spaced values.\n",
        "# Example output: [0. 0.25 0.5 0.75 1. ]\n",
        "\n",
        "a=list(map(int,input(\"enter:\").split()))\n",
        "b=np.linspace(a[0],a[1],a[2])\n",
        "b\n"
      ]
    },
    {
      "cell_type": "code",
      "execution_count": null,
      "metadata": {
        "colab": {
          "base_uri": "https://localhost:8080/"
        },
        "id": "WI9wSQxXh45K",
        "outputId": "41e86184-79d2-40f7-ec03-da3e5cfd9e5b"
      },
      "outputs": [
        {
          "name": "stdout",
          "output_type": "stream",
          "text": [
            "Enter rows and columns: 3 2\n"
          ]
        },
        {
          "data": {
            "text/plain": [
              "array([[0.63265392, 0.87602067],\n",
              "       [0.21818724, 0.87887934],\n",
              "       [0.04160851, 0.53715876]])"
            ]
          },
          "execution_count": 21,
          "metadata": {},
          "output_type": "execute_result"
        }
      ],
      "source": [
        "# 10. Generate Random Numbers (Uniform Distribution)\n",
        "# Problem: Create an array of random numbers between 0 and 1.\n",
        "# Input format: Two integers representing rows and columns.\n",
        "# Example: 3 2\n",
        "# Output format: A random array with uniform distribution.\n",
        "\n",
        "\n",
        "a = list(map(int, input(\"Enter rows and columns: \").split()))\n",
        "arr = np.random.rand(a[0], a[1])\n",
        "arr"
      ]
    },
    {
      "cell_type": "code",
      "execution_count": null,
      "metadata": {
        "id": "bHEeZDM8iYmb"
      },
      "outputs": [],
      "source": [
        "# 11. Generate Normally Distributed Random Numbers\n",
        "# Problem: Create an array of normally distributed random numbers.\n",
        "# Input format: Three values: mean, standard deviation, and number of elements.\n",
        "# Example: 0 1 5\n",
        "# Output format: A 1D array of n normally distributed values.\n",
        "\n"
      ]
    },
    {
      "cell_type": "code",
      "execution_count": null,
      "metadata": {
        "id": "g5aamV3qi70I"
      },
      "outputs": [],
      "source": [
        "# Vector Dimensions --> they have value and direction\n",
        "#Ex--> a=[1,2,3] i+2j+3k"
      ]
    },
    {
      "cell_type": "code",
      "execution_count": null,
      "metadata": {
        "id": "NWjWBGeIOQJs"
      },
      "outputs": [],
      "source": [
        "# Scalar -> no dimension\n",
        "#1,2,3 only values"
      ]
    },
    {
      "cell_type": "code",
      "execution_count": null,
      "metadata": {
        "id": "0lgJcS-nO2A8"
      },
      "outputs": [],
      "source": [
        "# Tensors-->0dim-->scalar\n",
        "# Tensor-->1dim-->vector\n",
        "#Tensor-->2dim-->matrix"
      ]
    },
    {
      "cell_type": "code",
      "execution_count": null,
      "metadata": {
        "colab": {
          "base_uri": "https://localhost:8080/"
        },
        "id": "gWMBJbJsU-8k",
        "outputId": "a03dd8d5-5398-4840-be56-3495730126b9"
      },
      "outputs": [
        {
          "data": {
            "text/plain": [
              "array([[5, 6],\n",
              "       [8, 9]])"
            ]
          },
          "execution_count": 9,
          "metadata": {},
          "output_type": "execute_result"
        }
      ],
      "source": [
        "a=np.array([[1,2,3],[4,5,6],[7,8,9]])\n",
        "a[1:,1:]"
      ]
    },
    {
      "cell_type": "code",
      "execution_count": null,
      "metadata": {
        "id": "oNakyynuUyyG"
      },
      "outputs": [],
      "source": [
        "#print all the rows but print only second and fourth column\n",
        "#Print the diagonal elements of the matrix (n*n)\n",
        "#Print the reverse of the last two rows"
      ]
    },
    {
      "cell_type": "code",
      "execution_count": null,
      "metadata": {
        "colab": {
          "base_uri": "https://localhost:8080/"
        },
        "id": "xcjJ1SVGVedl",
        "outputId": "9ff92b48-52d4-4ae2-ab73-a0c0c25ddc36"
      },
      "outputs": [
        {
          "data": {
            "text/plain": [
              "array([[2, 4],\n",
              "       [6, 8]])"
            ]
          },
          "execution_count": 31,
          "metadata": {},
          "output_type": "execute_result"
        }
      ],
      "source": [
        "#1.\n",
        "a=np.array([[1,2,3,4],[5,6,7,8]])\n",
        "a[0:,[1,3]]\n"
      ]
    },
    {
      "cell_type": "code",
      "execution_count": null,
      "metadata": {
        "colab": {
          "base_uri": "https://localhost:8080/"
        },
        "id": "NneSQUllWSRY",
        "outputId": "2a1b0b39-e2d4-494a-c7cc-cc1f1d9639c5"
      },
      "outputs": [
        {
          "data": {
            "text/plain": [
              "array([1, 5, 9])"
            ]
          },
          "execution_count": 29,
          "metadata": {},
          "output_type": "execute_result"
        }
      ],
      "source": [
        "a=np.arange(1,10).reshape(3,3)\n",
        "b=np.diag(a)\n",
        "b"
      ]
    },
    {
      "cell_type": "code",
      "execution_count": null,
      "metadata": {
        "colab": {
          "base_uri": "https://localhost:8080/"
        },
        "id": "pBqUnK-bW8GN",
        "outputId": "220f0f47-b558-43ee-d3f6-8c3c2472c246"
      },
      "outputs": [
        {
          "data": {
            "text/plain": [
              "array([[ 8,  7,  6,  5],\n",
              "       [12, 11, 10,  9]])"
            ]
          },
          "execution_count": 28,
          "metadata": {},
          "output_type": "execute_result"
        }
      ],
      "source": [
        "a=np.array([[1,2,3,4],[5,6,7,8],[9,10,11,12]])\n",
        "a[1:,-1::-1]"
      ]
    },
    {
      "cell_type": "code",
      "execution_count": null,
      "metadata": {
        "id": "lXqDqoSRYiUY"
      },
      "outputs": [],
      "source": [
        "#Extract first anf fourth row of the given matrix"
      ]
    },
    {
      "cell_type": "code",
      "execution_count": null,
      "metadata": {
        "colab": {
          "base_uri": "https://localhost:8080/"
        },
        "id": "M3UgGgwOZanH",
        "outputId": "3bfc1527-eaad-4725-dafe-b82da105e110"
      },
      "outputs": [
        {
          "data": {
            "text/plain": [
              "array([[ 1,  2,  3,  4],\n",
              "       [13, 14, 15, 16]])"
            ]
          },
          "execution_count": 32,
          "metadata": {},
          "output_type": "execute_result"
        }
      ],
      "source": [
        "a=np.array([[1,2,3,4],[5,6,7,8],[9,10,11,12],[13,14,15,16]])\n",
        "a[[0,3],0:]"
      ]
    },
    {
      "cell_type": "code",
      "execution_count": null,
      "metadata": {
        "id": "BrYoToWuZ7Fa"
      },
      "outputs": [],
      "source": [
        "#Fancy Indexing---->"
      ]
    },
    {
      "cell_type": "code",
      "execution_count": null,
      "metadata": {
        "colab": {
          "base_uri": "https://localhost:8080/"
        },
        "id": "IpMk4tBqPZyN",
        "outputId": "13899bdc-72c7-4173-ebcf-1518a266b8f7"
      },
      "outputs": [
        {
          "data": {
            "text/plain": [
              "array([ 6,  9, 40])"
            ]
          },
          "execution_count": 4,
          "metadata": {},
          "output_type": "execute_result"
        }
      ],
      "source": [
        "#for 1d array--\n",
        "\n",
        "arr=np.arange(10)\n",
        "arr[[2,3,6]]\n",
        "arr1=np.array([5,6,7,8,9,20,30,40,50])\n",
        "arr1[[1,4,7]]"
      ]
    },
    {
      "cell_type": "code",
      "execution_count": null,
      "metadata": {
        "id": "E7teyB2cRZvT"
      },
      "outputs": [],
      "source": [
        "#for 2d--"
      ]
    },
    {
      "cell_type": "code",
      "execution_count": null,
      "metadata": {
        "colab": {
          "base_uri": "https://localhost:8080/"
        },
        "id": "U2jC0sb8Rwda",
        "outputId": "39376112-027e-45f0-c025-75dc1e01efb3"
      },
      "outputs": [
        {
          "data": {
            "text/plain": [
              "array([[0.02925458, 0.66634865, 0.02997111, 0.61127991],\n",
              "       [0.29782561, 0.10614265, 0.26467979, 0.40909722],\n",
              "       [0.96376699, 0.45246089, 0.86162331, 0.64873815]])"
            ]
          },
          "execution_count": 8,
          "metadata": {},
          "output_type": "execute_result"
        }
      ],
      "source": [
        "a=np.random.rand(3,4)\n",
        "a"
      ]
    },
    {
      "cell_type": "code",
      "execution_count": null,
      "metadata": {
        "colab": {
          "base_uri": "https://localhost:8080/"
        },
        "id": "hNNdTeGXSAri",
        "outputId": "3e19b0b7-1f28-4abf-888a-47de06919891"
      },
      "outputs": [
        {
          "data": {
            "text/plain": [
              "array([[0.29782561, 0.10614265, 0.26467979, 0.40909722],\n",
              "       [0.96376699, 0.45246089, 0.86162331, 0.64873815]])"
            ]
          },
          "execution_count": 9,
          "metadata": {},
          "output_type": "execute_result"
        }
      ],
      "source": [
        "a[[1,2]]"
      ]
    },
    {
      "cell_type": "code",
      "execution_count": null,
      "metadata": {
        "colab": {
          "base_uri": "https://localhost:8080/"
        },
        "id": "bxu3CcXHSyqT",
        "outputId": "5e687229-9694-4e4d-a80a-ffcd56443550"
      },
      "outputs": [
        {
          "data": {
            "text/plain": [
              "array([[0.10614265, 0.26467979, 0.40909722],\n",
              "       [0.45246089, 0.86162331, 0.64873815]])"
            ]
          },
          "execution_count": 10,
          "metadata": {},
          "output_type": "execute_result"
        }
      ],
      "source": [
        "a[[1,2],1:]"
      ]
    },
    {
      "cell_type": "code",
      "execution_count": null,
      "metadata": {
        "colab": {
          "base_uri": "https://localhost:8080/"
        },
        "id": "7OaRPXSvS6U8",
        "outputId": "4031b10c-3faa-47a0-f8f7-744fa1f9e857"
      },
      "outputs": [
        {
          "data": {
            "text/plain": [
              "array([[0.31770023, 0.81460642, 0.20837282],\n",
              "       [0.26032754, 0.57859429, 0.95105645],\n",
              "       [0.27545843, 0.33004923, 0.92204836]])"
            ]
          },
          "execution_count": 19,
          "metadata": {},
          "output_type": "execute_result"
        }
      ],
      "source": [
        "a=np.random.rand(3,3)\n",
        "a[[0,1,2],[0,1,2]]\n",
        "a"
      ]
    },
    {
      "cell_type": "code",
      "execution_count": null,
      "metadata": {
        "colab": {
          "base_uri": "https://localhost:8080/"
        },
        "id": "GTPz6pGuUTRL",
        "outputId": "afc8a8d0-dd6b-423a-86b8-5ea36d250895"
      },
      "outputs": [
        {
          "data": {
            "text/plain": [
              "array([1, 2, 3])"
            ]
          },
          "execution_count": 20,
          "metadata": {},
          "output_type": "execute_result"
        }
      ],
      "source": [
        "#Conversion of datatype in array-->\n",
        "a=np.array([1.0,2.5,3]).astype(int)\n",
        "a"
      ]
    },
    {
      "cell_type": "code",
      "execution_count": null,
      "metadata": {
        "colab": {
          "base_uri": "https://localhost:8080/"
        },
        "id": "iayu2LORWhHT",
        "outputId": "485f18a2-eb8d-4f24-9486-bfaac6883d9f"
      },
      "outputs": [
        {
          "data": {
            "text/plain": [
              "array([1., 2., 3.])"
            ]
          },
          "execution_count": 21,
          "metadata": {},
          "output_type": "execute_result"
        }
      ],
      "source": [
        "a=np.array([1,2,3]).astype(float)\n",
        "a"
      ]
    },
    {
      "cell_type": "code",
      "execution_count": null,
      "metadata": {
        "id": "6HJrAUYwW2VF"
      },
      "outputs": [],
      "source": [
        "# Coversion of element into array-->"
      ]
    },
    {
      "cell_type": "code",
      "execution_count": null,
      "metadata": {
        "colab": {
          "base_uri": "https://localhost:8080/"
        },
        "id": "x1oaOyUkXZ5A",
        "outputId": "0b0673cc-a24e-42b1-b4a7-852eb73120ba"
      },
      "outputs": [
        {
          "data": {
            "text/plain": [
              "array([[[ 1],\n",
              "        [ 2],\n",
              "        [34]]])"
            ]
          },
          "execution_count": 24,
          "metadata": {},
          "output_type": "execute_result"
        }
      ],
      "source": [
        "a=[1,2,34]\n",
        "ar=np.atleast_3d(a)\n",
        "ar"
      ]
    },
    {
      "cell_type": "code",
      "execution_count": null,
      "metadata": {
        "colab": {
          "base_uri": "https://localhost:8080/"
        },
        "id": "vOn3xCpBYBuO",
        "outputId": "f962f747-c0cf-47f0-d632-1a0a2f29f42f"
      },
      "outputs": [
        {
          "data": {
            "text/plain": [
              "array([[0.56905414, 0.07760168],\n",
              "       [0.00775463, 0.95575215]])"
            ]
          },
          "execution_count": 25,
          "metadata": {},
          "output_type": "execute_result"
        }
      ],
      "source": [
        "a=np.random.rand(2,2)\n",
        "a"
      ]
    },
    {
      "cell_type": "code",
      "execution_count": null,
      "metadata": {
        "id": "_BGaDBNQYQcD"
      },
      "outputs": [],
      "source": [
        "#Array Manuplation-->"
      ]
    },
    {
      "cell_type": "code",
      "execution_count": null,
      "metadata": {
        "colab": {
          "base_uri": "https://localhost:8080/"
        },
        "id": "VOteCAsVYmJj",
        "outputId": "530f8624-fb59-4ae6-f7ec-496a8a0f6718"
      },
      "outputs": [
        {
          "data": {
            "text/plain": [
              "[array([1, 2]), array([3, 4]), array([5, 6])]"
            ]
          },
          "execution_count": 29,
          "metadata": {},
          "output_type": "execute_result"
        }
      ],
      "source": [
        "#split-->\n",
        "a=np.array_split([1,2,3,4,5,6,],3)\n",
        "a\n"
      ]
    },
    {
      "cell_type": "code",
      "source": [
        "import numpy as np"
      ],
      "metadata": {
        "id": "DjwSlFIruUu-"
      },
      "execution_count": null,
      "outputs": []
    },
    {
      "cell_type": "code",
      "execution_count": null,
      "metadata": {
        "colab": {
          "base_uri": "https://localhost:8080/"
        },
        "id": "tCT3ZJa1aSo4",
        "outputId": "b528c09b-9384-4ae2-8fd3-a925e56315df"
      },
      "outputs": [
        {
          "output_type": "stream",
          "name": "stderr",
          "text": [
            "/tmp/ipython-input-2078730048.py:4: DeprecationWarning: `row_stack` alias is deprecated. Use `np.vstack` directly.\n",
            "  c=np.row_stack((a,b))\n"
          ]
        },
        {
          "output_type": "execute_result",
          "data": {
            "text/plain": [
              "array([[1, 2, 3, 4],\n",
              "       [6, 7, 8, 9]])"
            ]
          },
          "metadata": {},
          "execution_count": 3
        }
      ],
      "source": [
        "#Column_stack-->\n",
        "a=np.array([1,2,3,4])\n",
        "b=np.array([6,7,8,9])\n",
        "c=np.row_stack((a,b))\n",
        "c"
      ]
    },
    {
      "cell_type": "code",
      "source": [
        "#Seed()--->\n",
        "np.random.seed(1) # it will fix the random value\n",
        "a=np.random.randint(1,10, size=3)\n",
        "a"
      ],
      "metadata": {
        "colab": {
          "base_uri": "https://localhost:8080/"
        },
        "id": "fkPQuHKnuK9h",
        "outputId": "1548a3a0-ec14-4e5d-ebd4-eecd92051526"
      },
      "execution_count": null,
      "outputs": [
        {
          "output_type": "execute_result",
          "data": {
            "text/plain": [
              "array([6, 9, 6])"
            ]
          },
          "metadata": {},
          "execution_count": 7
        }
      ]
    },
    {
      "cell_type": "code",
      "source": [
        "#Unique()-->\n",
        "np.unique(a)"
      ],
      "metadata": {
        "colab": {
          "base_uri": "https://localhost:8080/"
        },
        "id": "eYzE_Hd6uivP",
        "outputId": "5eb7c3df-49dc-4e7b-97f9-8792f11e0892"
      },
      "execution_count": null,
      "outputs": [
        {
          "output_type": "execute_result",
          "data": {
            "text/plain": [
              "array([6, 9])"
            ]
          },
          "metadata": {},
          "execution_count": 8
        }
      ]
    },
    {
      "cell_type": "code",
      "source": [
        "#Ravel()-->it store in flatten array in new array in same size,it can also affect the orignal array\n",
        "a=np.random.randint(1,20,12).reshape(3,4)\n",
        "ar=np.ravel(a)\n",
        "ar"
      ],
      "metadata": {
        "colab": {
          "base_uri": "https://localhost:8080/"
        },
        "id": "R8pQgZ0DvTXf",
        "outputId": "c0d489e3-bc24-4962-c143-70a5bc9f5395"
      },
      "execution_count": null,
      "outputs": [
        {
          "output_type": "execute_result",
          "data": {
            "text/plain": [
              "array([11, 15, 19,  5, 10, 18,  1, 14, 10, 10,  8,  2])"
            ]
          },
          "metadata": {},
          "execution_count": 10
        }
      ]
    },
    {
      "cell_type": "code",
      "source": [
        "#flatten()---> it will flatten the orignal array without storing in new array,it will not affect the original array\n",
        "a.flatten()"
      ],
      "metadata": {
        "colab": {
          "base_uri": "https://localhost:8080/"
        },
        "id": "9F_8j-vRwEXj",
        "outputId": "f95e9919-8ccf-403f-ce42-ef10e7a01bd3"
      },
      "execution_count": null,
      "outputs": [
        {
          "output_type": "execute_result",
          "data": {
            "text/plain": [
              "array([11, 15, 19,  5, 10, 18,  1, 14, 10, 10,  8,  2])"
            ]
          },
          "metadata": {},
          "execution_count": 11
        }
      ]
    },
    {
      "cell_type": "code",
      "source": [],
      "metadata": {
        "id": "ehXXZABAw7vv"
      },
      "execution_count": null,
      "outputs": []
    }
  ],
  "metadata": {
    "colab": {
      "provenance": [],
      "authorship_tag": "ABX9TyMseWpjVhI7GhqNBgC7qYCu",
      "include_colab_link": true
    },
    "kernelspec": {
      "display_name": "Python 3",
      "name": "python3"
    },
    "language_info": {
      "name": "python"
    }
  },
  "nbformat": 4,
  "nbformat_minor": 0
}