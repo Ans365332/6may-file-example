{
  "nbformat": 4,
  "nbformat_minor": 0,
  "metadata": {
    "colab": {
      "provenance": [],
      "authorship_tag": "ABX9TyMvkwNLB1L5csRJjSl0bezu",
      "include_colab_link": true
    },
    "kernelspec": {
      "name": "python3",
      "display_name": "Python 3"
    },
    "language_info": {
      "name": "python"
    }
  },
  "cells": [
    {
      "cell_type": "markdown",
      "metadata": {
        "id": "view-in-github",
        "colab_type": "text"
      },
      "source": [
        "<a href=\"https://colab.research.google.com/github/Ans365332/6may-file-example/blob/main/list.ipynb\" target=\"_parent\"><img src=\"https://colab.research.google.com/assets/colab-badge.svg\" alt=\"Open In Colab\"/></a>"
      ]
    },
    {
      "cell_type": "code",
      "source": [
        "#Call by reference--->\n"
      ],
      "metadata": {
        "id": "MDjjF9byHvXs"
      },
      "execution_count": null,
      "outputs": []
    },
    {
      "cell_type": "code",
      "execution_count": null,
      "metadata": {
        "colab": {
          "base_uri": "https://localhost:8080/"
        },
        "id": "UZ1Dmq6DEfAp",
        "outputId": "afc4a8d9-ddaf-40bf-9811-e2ac6c42a222"
      },
      "outputs": [
        {
          "output_type": "stream",
          "name": "stdout",
          "text": [
            "10757736 10757736\n",
            "10757736 10757768\n"
          ]
        }
      ],
      "source": [
        "a=1\n",
        "b=a\n",
        "print(id(a),id(b))\n",
        "b=2\n",
        "print(id(a),id(b))"
      ]
    },
    {
      "cell_type": "code",
      "source": [
        "mynum=[\"tushar\",1000,3000]\n",
        "mynum.append(\"Regex\")\n",
        "\n",
        "mynum.insert(1,\"Yash\")\n",
        "print(mynum)"
      ],
      "metadata": {
        "colab": {
          "base_uri": "https://localhost:8080/"
        },
        "id": "IKRn-jMhH2N3",
        "outputId": "891d5f20-b221-4f49-bb5a-68d119b829c4"
      },
      "execution_count": null,
      "outputs": [
        {
          "output_type": "stream",
          "name": "stdout",
          "text": [
            "['tushar', 'Yash', 1000, 3000, 'Regex']\n"
          ]
        }
      ]
    },
    {
      "cell_type": "code",
      "source": [
        "num=[\"Tushar\",\"yash\",1000,3000,\"regex\"]\n",
        "a=num.pop(1)   #by default delete last index and return the value\n",
        "print(num)"
      ],
      "metadata": {
        "colab": {
          "base_uri": "https://localhost:8080/"
        },
        "id": "8aJI3XSzK7nl",
        "outputId": "e28ba3e3-b5ac-4682-824b-d90d56a1f76e"
      },
      "execution_count": null,
      "outputs": [
        {
          "output_type": "stream",
          "name": "stdout",
          "text": [
            "['Tushar', 1000, 3000, 'regex']\n"
          ]
        }
      ]
    },
    {
      "cell_type": "code",
      "source": [
        "print(a)"
      ],
      "metadata": {
        "id": "fL4H96GOLgiM",
        "outputId": "050e125f-8fa7-4219-a7b3-b38fc99ce8ca",
        "colab": {
          "base_uri": "https://localhost:8080/"
        }
      },
      "execution_count": null,
      "outputs": [
        {
          "output_type": "stream",
          "name": "stdout",
          "text": [
            "yash\n"
          ]
        }
      ]
    },
    {
      "cell_type": "code",
      "source": [
        "num=[1,2,3,4,5]\n",
        "sum=0\n",
        "for i in num:\n",
        "  sum=sum+i\n",
        "print(sum)"
      ],
      "metadata": {
        "id": "gwJJeLQsLjOf",
        "outputId": "2ce56b8b-8d4e-4020-87a8-58bd182581b0",
        "colab": {
          "base_uri": "https://localhost:8080/"
        }
      },
      "execution_count": null,
      "outputs": [
        {
          "output_type": "stream",
          "name": "stdout",
          "text": [
            "15\n"
          ]
        }
      ]
    },
    {
      "cell_type": "code",
      "source": [
        "num=[1,2,3,4,5]\n",
        "count=0\n",
        "for i in num:\n",
        "  count=count+1\n",
        "print(count)"
      ],
      "metadata": {
        "id": "zVVuwXRrNR0Y",
        "outputId": "b0639ddd-a676-4ac8-cfba-0018dc38e3a3",
        "colab": {
          "base_uri": "https://localhost:8080/"
        }
      },
      "execution_count": null,
      "outputs": [
        {
          "output_type": "stream",
          "name": "stdout",
          "text": [
            "5\n"
          ]
        }
      ]
    },
    {
      "cell_type": "code",
      "source": [
        "num=['a',1,'b',2,'c',7]\n",
        "count=0\n",
        "for i in num:\n",
        "  if(type(i)==int):\n",
        "    count+=1\n",
        "print(count)\n",
        "\n"
      ],
      "metadata": {
        "id": "pXte7IimNjcs",
        "outputId": "680ff3da-a73f-4897-8f71-bcc59c207ff0",
        "colab": {
          "base_uri": "https://localhost:8080/"
        }
      },
      "execution_count": null,
      "outputs": [
        {
          "output_type": "stream",
          "name": "stdout",
          "text": [
            "3\n"
          ]
        }
      ]
    },
    {
      "cell_type": "code",
      "source": [
        "num=[1,2,3,4,5,6,7]\n",
        "sum=0\n",
        "count=0\n",
        "for i in num:\n",
        "  sum+=i\n",
        "  count+=1\n",
        "avg=sum//count\n",
        "print(avg)\n",
        "\n",
        "\n",
        "\n"
      ],
      "metadata": {
        "id": "B-RnyDc3PV9O",
        "outputId": "4b4fd9a7-8be6-406e-895d-0d26d3e3d506",
        "colab": {
          "base_uri": "https://localhost:8080/"
        }
      },
      "execution_count": null,
      "outputs": [
        {
          "output_type": "stream",
          "name": "stdout",
          "text": [
            "4\n"
          ]
        }
      ]
    },
    {
      "cell_type": "code",
      "source": [
        "num=[1,2,3,4,5,6,7]\n",
        "sum=0\n",
        "for i in num:\n",
        "  sum=num[0]+num[6]+num[3]\n",
        "print(sum)\n"
      ],
      "metadata": {
        "id": "jb7pUT6BRUZB",
        "outputId": "97cb2219-52a7-44f3-9048-77f734ff6075",
        "colab": {
          "base_uri": "https://localhost:8080/"
        }
      },
      "execution_count": null,
      "outputs": [
        {
          "output_type": "stream",
          "name": "stdout",
          "text": [
            "12\n"
          ]
        }
      ]
    },
    {
      "cell_type": "code",
      "source": [
        "num=[1,2,3,4,5,6,7]\n",
        "mynum=[]\n",
        "for i in num:\n",
        "   a=i**3\n",
        "   mynum.append(a)\n",
        "print(mynum)"
      ],
      "metadata": {
        "id": "xHY-dsdYSdSI",
        "outputId": "bcfb9027-0135-473a-965f-30320fc07bb5",
        "colab": {
          "base_uri": "https://localhost:8080/"
        }
      },
      "execution_count": null,
      "outputs": [
        {
          "output_type": "stream",
          "name": "stdout",
          "text": [
            "[1, 8, 27, 64, 125, 216, 343]\n"
          ]
        }
      ]
    },
    {
      "cell_type": "code",
      "source": [
        "num=[1,2,3,4,5,6,7]\n",
        "count=0\n",
        "for i in num:\n",
        "  count+=1\n",
        "first\n"
      ],
      "metadata": {
        "id": "yZyCuNDFTbU8",
        "outputId": "20726295-133d-4819-d1f6-19eefc322d2b",
        "colab": {
          "base_uri": "https://localhost:8080/",
          "height": 216
        }
      },
      "execution_count": null,
      "outputs": [
        {
          "output_type": "error",
          "ename": "TypeError",
          "evalue": "object of type 'int' has no len()",
          "traceback": [
            "\u001b[0;31m---------------------------------------------------------------------------\u001b[0m",
            "\u001b[0;31mTypeError\u001b[0m                                 Traceback (most recent call last)",
            "\u001b[0;32m<ipython-input-48-860185293>\u001b[0m in \u001b[0;36m<cell line: 0>\u001b[0;34m()\u001b[0m\n\u001b[1;32m      5\u001b[0m \u001b[0;32mfor\u001b[0m \u001b[0mi\u001b[0m \u001b[0;32min\u001b[0m \u001b[0mnum\u001b[0m\u001b[0;34m:\u001b[0m\u001b[0;34m\u001b[0m\u001b[0;34m\u001b[0m\u001b[0m\n\u001b[1;32m      6\u001b[0m   \u001b[0mfirst\u001b[0m\u001b[0;34m=\u001b[0m\u001b[0mnum\u001b[0m\u001b[0;34m[\u001b[0m\u001b[0;36m0\u001b[0m\u001b[0;34m]\u001b[0m\u001b[0;34m\u001b[0m\u001b[0;34m\u001b[0m\u001b[0m\n\u001b[0;32m----> 7\u001b[0;31m   \u001b[0mmid\u001b[0m\u001b[0;34m=\u001b[0m\u001b[0mlen\u001b[0m\u001b[0;34m(\u001b[0m\u001b[0mnum\u001b[0m\u001b[0;34m[\u001b[0m\u001b[0mi\u001b[0m\u001b[0;34m]\u001b[0m\u001b[0;34m)\u001b[0m\u001b[0;34m//\u001b[0m\u001b[0;36m2\u001b[0m\u001b[0;34m\u001b[0m\u001b[0;34m\u001b[0m\u001b[0m\n\u001b[0m\u001b[1;32m      8\u001b[0m \u001b[0;34m\u001b[0m\u001b[0m\n\u001b[1;32m      9\u001b[0m   \u001b[0msum\u001b[0m\u001b[0;34m=\u001b[0m\u001b[0mmid\u001b[0m\u001b[0;34m+\u001b[0m\u001b[0mlast\u001b[0m\u001b[0;34m+\u001b[0m\u001b[0mfirst\u001b[0m\u001b[0;34m\u001b[0m\u001b[0;34m\u001b[0m\u001b[0m\n",
            "\u001b[0;31mTypeError\u001b[0m: object of type 'int' has no len()"
          ]
        }
      ]
    },
    {
      "cell_type": "code",
      "source": [
        "#index method---->\n"
      ],
      "metadata": {
        "id": "E86xMKWmO0zN"
      },
      "execution_count": null,
      "outputs": []
    },
    {
      "cell_type": "code",
      "source": [
        "mylist=[10,20,30,40]\n",
        "max=mylist[0]\n",
        "for i in range(0,4):\n",
        "  if(mylist[i]>max):\n",
        "    max=mylist[i]\n",
        "print(max)\n"
      ],
      "metadata": {
        "id": "1-abp0mzQOwj",
        "outputId": "70c22ee9-b4ed-4ded-d36a-d5e207eb76bf",
        "colab": {
          "base_uri": "https://localhost:8080/"
        }
      },
      "execution_count": null,
      "outputs": [
        {
          "output_type": "stream",
          "name": "stdout",
          "text": [
            "40\n"
          ]
        }
      ]
    },
    {
      "cell_type": "code",
      "source": [
        "mylist=[10,20,30,40,50,60]\n",
        "for i in range(0,6):\n",
        "  if(i%2==0):\n",
        "    print(mylist[i])"
      ],
      "metadata": {
        "id": "5GQBcrLiQpSz",
        "outputId": "a2fdccc5-c894-4f05-f526-551a3f1a6315",
        "colab": {
          "base_uri": "https://localhost:8080/"
        }
      },
      "execution_count": null,
      "outputs": [
        {
          "output_type": "stream",
          "name": "stdout",
          "text": [
            "10\n",
            "30\n",
            "50\n"
          ]
        }
      ]
    },
    {
      "cell_type": "code",
      "source": [
        "mylist=[105,20,305,40]\n",
        "a=0    #to make a,a+b,b+c....\n",
        "newlist=[]\n",
        "for i in range(0,4):\n",
        "  a=a+mylist[i]\n",
        "  newlist.append(a)\n",
        "print(newlist)"
      ],
      "metadata": {
        "id": "-LeD3mpLRIDD",
        "outputId": "42a6d329-666b-4841-ea1a-5be33b5b7b1e",
        "colab": {
          "base_uri": "https://localhost:8080/"
        }
      },
      "execution_count": null,
      "outputs": [
        {
          "output_type": "stream",
          "name": "stdout",
          "text": [
            "[105, 125, 430, 470]\n"
          ]
        }
      ]
    },
    {
      "cell_type": "code",
      "source": [
        "#Take a list and check the element of list is prime,then print that element otherwise not\n",
        "\n",
        "for num in [1,2,3,4,5,6,7,8]:\n",
        "  count=0\n",
        "  for i in range(1,num+1):\n",
        "    if(num%i==0):\n",
        "     count+=1\n",
        "  if(count>2):\n",
        "   print(\"Not a prime no.\",num)\n",
        "  else:\n",
        "   print(\"Prime number\",num)\n"
      ],
      "metadata": {
        "id": "jkyFgk-ASnG-",
        "outputId": "10e7e1e0-a9e9-452e-9496-7afed18a1007",
        "colab": {
          "base_uri": "https://localhost:8080/"
        }
      },
      "execution_count": null,
      "outputs": [
        {
          "output_type": "stream",
          "name": "stdout",
          "text": [
            "Prime number 1\n",
            "Prime number 2\n",
            "Prime number 3\n",
            "Not a prime no. 4\n",
            "Prime number 5\n",
            "Not a prime no. 6\n",
            "Prime number 7\n",
            "Not a prime no. 8\n"
          ]
        }
      ]
    },
    {
      "cell_type": "code",
      "source": [
        "n=int(input(\"Enter your no.\"))\n",
        "count=0\n",
        "for i in range(2,n+1):\n",
        "  if(n%i==0):\n",
        "    count+=1\n",
        "if(count>2):\n",
        "  print(\"Not a prime no.\")\n",
        "else:\n",
        "  print(\"Prime number\")"
      ],
      "metadata": {
        "id": "TfMrwnEbTj5e",
        "outputId": "01ec30ca-4d07-4032-dceb-a98abd01344a",
        "colab": {
          "base_uri": "https://localhost:8080/"
        }
      },
      "execution_count": null,
      "outputs": [
        {
          "output_type": "stream",
          "name": "stdout",
          "text": [
            "Enter your no.6\n",
            "Not a prime no.\n"
          ]
        }
      ]
    },
    {
      "cell_type": "code",
      "source": [
        "for n in [522,4567,23445,567867]:\n",
        "  count=0\n",
        "  temp=n\n",
        "  while(n>0):\n",
        "    n=n//10\n",
        "    count+=1\n",
        "  if(count==4):\n",
        "    print(temp)\n",
        "\n"
      ],
      "metadata": {
        "id": "sYYdNVZ9X8NN",
        "outputId": "986607db-b9cf-4f4c-cf72-e1b24400a295",
        "colab": {
          "base_uri": "https://localhost:8080/"
        }
      },
      "execution_count": null,
      "outputs": [
        {
          "output_type": "stream",
          "name": "stdout",
          "text": [
            "4567\n"
          ]
        }
      ]
    },
    {
      "cell_type": "code",
      "source": [
        "\n",
        "#[10,20,30,20,10]->pallindrome\n",
        "\n",
        "num=[10,20,30,20,10]\n",
        "a=0\n",
        "new=num\n",
        "for i in range(0,5):\n",
        "  if(num[i]!=new[i]):\n",
        "    a=1\n",
        "  break\n",
        "if(a==1):\n",
        "  print(\"not a pallindrome\")\n",
        "else:\n",
        "  print(\"pallindrome\")\n",
        "\n"
      ],
      "metadata": {
        "id": "h1jQ53pia3LF",
        "outputId": "cfe17c21-a8b5-4d35-918e-3dff8ccb965f",
        "colab": {
          "base_uri": "https://localhost:8080/"
        }
      },
      "execution_count": null,
      "outputs": [
        {
          "output_type": "stream",
          "name": "stdout",
          "text": [
            "pallindrome\n"
          ]
        }
      ]
    },
    {
      "cell_type": "code",
      "source": [
        "#Duplicate value--->\n"
      ],
      "metadata": {
        "id": "-kDxkdAy4yO1"
      },
      "execution_count": null,
      "outputs": []
    },
    {
      "cell_type": "code",
      "source": [
        "mylist=[10,20,30,10,20,50]\n",
        "for index in range(0,len(mylist)):\n",
        "\n",
        "  for j in range(index+1,len(mylist)):\n",
        "    if(mylist[index]==mylist[j]):\n",
        "      print(\"duplicate is:\",mylist[j])\n",
        "\n"
      ],
      "metadata": {
        "id": "PUf048sO440k",
        "outputId": "a4e33df9-f8b9-4b4e-c6da-58f735eb2ee1",
        "colab": {
          "base_uri": "https://localhost:8080/"
        }
      },
      "execution_count": 10,
      "outputs": [
        {
          "output_type": "stream",
          "name": "stdout",
          "text": [
            "duplicate is: 10\n",
            "duplicate is: 20\n"
          ]
        }
      ]
    },
    {
      "cell_type": "code",
      "source": [
        "mylist=[-2,0,1,2,5,7,14,21]\n",
        "for index in range(0,len(mylist)):\n",
        "  for j in range(index+1,len(mylist)):\n",
        "    if(mylist[index]+mylist[j]==9):\n",
        "      print(mylist[index],mylist[j])"
      ],
      "metadata": {
        "id": "Mwg3f1sj9lD8",
        "outputId": "0363b7c0-495b-424d-9fa1-f5dd8d1db533",
        "colab": {
          "base_uri": "https://localhost:8080/"
        }
      },
      "execution_count": 11,
      "outputs": [
        {
          "output_type": "stream",
          "name": "stdout",
          "text": [
            "2 7\n"
          ]
        }
      ]
    },
    {
      "cell_type": "code",
      "source": [
        "#three way to swap--->"
      ],
      "metadata": {
        "id": "h9nz1tyCAbzJ"
      },
      "execution_count": null,
      "outputs": []
    },
    {
      "cell_type": "code",
      "source": [
        "a=10\n",
        "b=20\n",
        "a,b=b,a\n",
        "print(a,b)"
      ],
      "metadata": {
        "id": "AAWPq2Yf-sP1",
        "outputId": "5efd33d8-cfc0-490d-d27a-89a296ffd3f6",
        "colab": {
          "base_uri": "https://localhost:8080/"
        }
      },
      "execution_count": 12,
      "outputs": [
        {
          "output_type": "stream",
          "name": "stdout",
          "text": [
            "20 10\n"
          ]
        }
      ]
    },
    {
      "cell_type": "code",
      "source": [
        "a=10\n",
        "b=20\n",
        "c=0\n",
        "c=a\n",
        "a=b\n",
        "b=c\n",
        "print(a,b)\n"
      ],
      "metadata": {
        "id": "0XFBrBMO_jxR",
        "outputId": "ad22d2fc-1fac-4534-d890-9c071bb8592a",
        "colab": {
          "base_uri": "https://localhost:8080/"
        }
      },
      "execution_count": 13,
      "outputs": [
        {
          "output_type": "stream",
          "name": "stdout",
          "text": [
            "20 10\n"
          ]
        }
      ]
    },
    {
      "cell_type": "code",
      "source": [
        "a=10\n",
        "b=20\n",
        "c=a+b\n",
        "b=c-b\n",
        "a=c-a\n",
        "print(a,b)"
      ],
      "metadata": {
        "id": "Sl5efkpk_6Oh",
        "outputId": "24a33ef9-5d63-46ec-890d-2bc70aac5897",
        "colab": {
          "base_uri": "https://localhost:8080/"
        }
      },
      "execution_count": 14,
      "outputs": [
        {
          "output_type": "stream",
          "name": "stdout",
          "text": [
            "20 10\n"
          ]
        }
      ]
    },
    {
      "cell_type": "code",
      "source": [
        "newlist=[10,20,30,40,50]\n",
        "#reverse this list\n"
      ],
      "metadata": {
        "id": "Q5e-MOsiAiiI"
      },
      "execution_count": null,
      "outputs": []
    },
    {
      "cell_type": "code",
      "source": [
        "newlist=[10,20,30,40,50]\n",
        "\n",
        "j=len(newlist)-1\n",
        "for i in range(len(newlist)//2):\n",
        "    s=newlist[i]\n",
        "    newlist[i]=newlist[j]\n",
        "    newlist[j]=s\n",
        "    j-=1\n",
        "print(newlist)\n",
        "\n",
        "\n"
      ],
      "metadata": {
        "id": "qicgQA0lA3wQ",
        "outputId": "7e44fe82-a8b3-4f97-b0f4-2a24f42aceda",
        "colab": {
          "base_uri": "https://localhost:8080/"
        }
      },
      "execution_count": 26,
      "outputs": [
        {
          "output_type": "stream",
          "name": "stdout",
          "text": [
            "[50, 40, 30, 20, 10]\n"
          ]
        }
      ]
    },
    {
      "cell_type": "code",
      "source": [
        "newlist=[10,20,30,40,50]\n",
        "j=len(newlist)-1\n",
        "i=0\n",
        "while(i<j):\n",
        "  s=newlist[i]\n",
        "  newlist[i]=newlist[j]\n",
        "  newlist[j]=s\n",
        "  i+=1\n",
        "  j-=1\n",
        "print(newlist)"
      ],
      "metadata": {
        "id": "yNzW8ExWESPy",
        "outputId": "26aafd78-c24e-460c-9547-9ee87d995f55",
        "colab": {
          "base_uri": "https://localhost:8080/"
        }
      },
      "execution_count": 17,
      "outputs": [
        {
          "output_type": "stream",
          "name": "stdout",
          "text": [
            "[50, 40, 30, 20, 10]\n"
          ]
        }
      ]
    }
  ]
}