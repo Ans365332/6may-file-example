{
  "nbformat": 4,
  "nbformat_minor": 0,
  "metadata": {
    "colab": {
      "provenance": [],
      "authorship_tag": "ABX9TyN3bHXSEkoR9fPocqpi4CEX",
      "include_colab_link": true
    },
    "kernelspec": {
      "name": "python3",
      "display_name": "Python 3"
    },
    "language_info": {
      "name": "python"
    }
  },
  "cells": [
    {
      "cell_type": "markdown",
      "metadata": {
        "id": "view-in-github",
        "colab_type": "text"
      },
      "source": [
        "<a href=\"https://colab.research.google.com/github/Ans365332/6may-file-example/blob/main/Statistics.ipynb\" target=\"_parent\"><img src=\"https://colab.research.google.com/assets/colab-badge.svg\" alt=\"Open In Colab\"/></a>"
      ]
    },
    {
      "cell_type": "markdown",
      "source": [
        "# Statistics-->\n",
        "statistics is a mathematical science including methods for analysing data or summarising data and according to that we would able to conclude the decision. Ex-Age distribution\n",
        "\n",
        "# Motivation behind stats:-\n",
        "- weather forcasting\n",
        "- sports analytics\n",
        "- Election"
      ],
      "metadata": {
        "id": "arCiJ5sAZbts"
      }
    },
    {
      "cell_type": "markdown",
      "source": [
        "# There are two types of statistic--\n",
        "- 1.Descriptive stats-\n",
        "-> it consists of organising & summarising the data\n",
        "- 2.Inferential stats\n",
        "-> it consists of using the data to measure from population for conclusion (- used when the population is very large, time and resources constraints)\n",
        "\n",
        "\n",
        "# Techniques of descriptive stats-\n",
        "- measures of central tendency(mean,meadian,mode)\n",
        "- measures of symmetricity(skewness [left skwed,right skwed])\n",
        "- measures of dispersion(standard deviation,variation)\n",
        "\n",
        "\n",
        "# Types of sampling techniques->\n",
        "1. Simple random sampling - Every individual in the population has an equal chance of being selected.(into the sample)\n",
        "\n",
        "2. Statified sampling - Population is divided into groups (called strata) based on some characteristic, and random samples are taken from each group.\n",
        "\n",
        "3. Clustered sampling - Population is divided into clusters (groups), and some clusters are randomly selected, then all members of those clusters are studied.\n",
        "\n",
        "4. Systematic sampling - Select every kth element from a list after choosing a random starting point.\n"
      ],
      "metadata": {
        "id": "I-unNnzKbukk"
      }
    },
    {
      "cell_type": "markdown",
      "source": [
        "# Scale of measurment--\n",
        "-> Quantitative measure-(it meausre in numeric)\n",
        "- Interval scale(discrete)\n",
        "- Ratio scale data\n",
        "\n",
        "-> Qualatative measure-(it classifies non-numeric data)\n",
        "- Nominal scale-(order doesn't matter)\n",
        "- ordinal scale data-(the rank and the order has meaning)"
      ],
      "metadata": {
        "id": "_A0S7arDjWy1"
      }
    },
    {
      "cell_type": "markdown",
      "source": [],
      "metadata": {
        "id": "Khm4L0SsuDis"
      }
    },
    {
      "cell_type": "markdown",
      "source": [],
      "metadata": {
        "id": "6OJF7Ynmr_w1"
      }
    }
  ]
}