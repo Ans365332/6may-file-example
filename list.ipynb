{
  "nbformat": 4,
  "nbformat_minor": 0,
  "metadata": {
    "colab": {
      "provenance": [],
      "authorship_tag": "ABX9TyNg7maemCtL+nloj+EcsDb4",
      "include_colab_link": true
    },
    "kernelspec": {
      "name": "python3",
      "display_name": "Python 3"
    },
    "language_info": {
      "name": "python"
    }
  },
  "cells": [
    {
      "cell_type": "markdown",
      "metadata": {
        "id": "view-in-github",
        "colab_type": "text"
      },
      "source": [
        "<a href=\"https://colab.research.google.com/github/Ans365332/6may-file-example/blob/main/list.ipynb\" target=\"_parent\"><img src=\"https://colab.research.google.com/assets/colab-badge.svg\" alt=\"Open In Colab\"/></a>"
      ]
    },
    {
      "cell_type": "code",
      "source": [
        "#Call by reference--->\n"
      ],
      "metadata": {
        "id": "MDjjF9byHvXs"
      },
      "execution_count": null,
      "outputs": []
    },
    {
      "cell_type": "code",
      "execution_count": 2,
      "metadata": {
        "colab": {
          "base_uri": "https://localhost:8080/"
        },
        "id": "UZ1Dmq6DEfAp",
        "outputId": "afc4a8d9-ddaf-40bf-9811-e2ac6c42a222"
      },
      "outputs": [
        {
          "output_type": "stream",
          "name": "stdout",
          "text": [
            "10757736 10757736\n",
            "10757736 10757768\n"
          ]
        }
      ],
      "source": [
        "a=1\n",
        "b=a\n",
        "print(id(a),id(b))\n",
        "b=2\n",
        "print(id(a),id(b))"
      ]
    },
    {
      "cell_type": "code",
      "source": [
        "mynum=[\"tushar\",1000,3000]\n",
        "mynum.append(\"Regex\")\n",
        "\n",
        "mynum.insert(1,\"Yash\")\n",
        "print(mynum)"
      ],
      "metadata": {
        "colab": {
          "base_uri": "https://localhost:8080/"
        },
        "id": "IKRn-jMhH2N3",
        "outputId": "891d5f20-b221-4f49-bb5a-68d119b829c4"
      },
      "execution_count": 6,
      "outputs": [
        {
          "output_type": "stream",
          "name": "stdout",
          "text": [
            "['tushar', 'Yash', 1000, 3000, 'Regex']\n"
          ]
        }
      ]
    },
    {
      "cell_type": "code",
      "source": [
        "num=[\"Tushar\",\"yash\",1000,3000,\"regex\"]\n",
        "a=num.pop(1)   #by default delete last index and return the value\n",
        "print(num)"
      ],
      "metadata": {
        "colab": {
          "base_uri": "https://localhost:8080/"
        },
        "id": "8aJI3XSzK7nl",
        "outputId": "e28ba3e3-b5ac-4682-824b-d90d56a1f76e"
      },
      "execution_count": 11,
      "outputs": [
        {
          "output_type": "stream",
          "name": "stdout",
          "text": [
            "['Tushar', 1000, 3000, 'regex']\n"
          ]
        }
      ]
    },
    {
      "cell_type": "code",
      "source": [
        "print(a)"
      ],
      "metadata": {
        "id": "fL4H96GOLgiM",
        "outputId": "050e125f-8fa7-4219-a7b3-b38fc99ce8ca",
        "colab": {
          "base_uri": "https://localhost:8080/"
        }
      },
      "execution_count": 12,
      "outputs": [
        {
          "output_type": "stream",
          "name": "stdout",
          "text": [
            "yash\n"
          ]
        }
      ]
    },
    {
      "cell_type": "code",
      "source": [
        "num=[1,2,3,4,5]\n",
        "sum=0\n",
        "for i in num:\n",
        "  sum=sum+i\n",
        "print(sum)"
      ],
      "metadata": {
        "id": "gwJJeLQsLjOf",
        "outputId": "2ce56b8b-8d4e-4020-87a8-58bd182581b0",
        "colab": {
          "base_uri": "https://localhost:8080/"
        }
      },
      "execution_count": 15,
      "outputs": [
        {
          "output_type": "stream",
          "name": "stdout",
          "text": [
            "15\n"
          ]
        }
      ]
    },
    {
      "cell_type": "code",
      "source": [
        "num=[1,2,3,4,5]\n",
        "count=0\n",
        "for i in num:\n",
        "  count=count+1\n",
        "print(count)"
      ],
      "metadata": {
        "id": "zVVuwXRrNR0Y",
        "outputId": "b0639ddd-a676-4ac8-cfba-0018dc38e3a3",
        "colab": {
          "base_uri": "https://localhost:8080/"
        }
      },
      "execution_count": 16,
      "outputs": [
        {
          "output_type": "stream",
          "name": "stdout",
          "text": [
            "5\n"
          ]
        }
      ]
    },
    {
      "cell_type": "code",
      "source": [
        "num=['a',1,'b',2,'c',7]\n",
        "count=0\n",
        "for i in num:\n",
        "  if(type(i)==int):\n",
        "    count+=1\n",
        "print(count)\n",
        "\n",
        ""
      ],
      "metadata": {
        "id": "pXte7IimNjcs",
        "outputId": "680ff3da-a73f-4897-8f71-bcc59c207ff0",
        "colab": {
          "base_uri": "https://localhost:8080/"
        }
      },
      "execution_count": 28,
      "outputs": [
        {
          "output_type": "stream",
          "name": "stdout",
          "text": [
            "3\n"
          ]
        }
      ]
    },
    {
      "cell_type": "code",
      "source": [
        "num=[1,2,3,4,5,6,7]\n",
        "sum=0\n",
        "count=0\n",
        "for i in num:\n",
        "  sum+=i\n",
        "  count+=1\n",
        "avg=sum//count\n",
        "print(avg)\n",
        "\n",
        "\n",
        "\n"
      ],
      "metadata": {
        "id": "B-RnyDc3PV9O",
        "outputId": "4b4fd9a7-8be6-406e-895d-0d26d3e3d506",
        "colab": {
          "base_uri": "https://localhost:8080/"
        }
      },
      "execution_count": 32,
      "outputs": [
        {
          "output_type": "stream",
          "name": "stdout",
          "text": [
            "4\n"
          ]
        }
      ]
    },
    {
      "cell_type": "code",
      "source": [
        "num=[1,2,3,4,5,6,7]\n",
        "sum=0\n",
        "for i in num:\n",
        "  sum=num[0]+num[6]+num[3]\n",
        "print(sum)\n"
      ],
      "metadata": {
        "id": "jb7pUT6BRUZB",
        "outputId": "97cb2219-52a7-44f3-9048-77f734ff6075",
        "colab": {
          "base_uri": "https://localhost:8080/"
        }
      },
      "execution_count": 37,
      "outputs": [
        {
          "output_type": "stream",
          "name": "stdout",
          "text": [
            "12\n"
          ]
        }
      ]
    },
    {
      "cell_type": "code",
      "source": [
        "num=[1,2,3,4,5,6,7]\n",
        "mynum=[]\n",
        "for i in num:\n",
        "   a=i**3\n",
        "   mynum.append(a)\n",
        "print(mynum)"
      ],
      "metadata": {
        "id": "xHY-dsdYSdSI",
        "outputId": "bcfb9027-0135-473a-965f-30320fc07bb5",
        "colab": {
          "base_uri": "https://localhost:8080/"
        }
      },
      "execution_count": 39,
      "outputs": [
        {
          "output_type": "stream",
          "name": "stdout",
          "text": [
            "[1, 8, 27, 64, 125, 216, 343]\n"
          ]
        }
      ]
    },
    {
      "cell_type": "code",
      "source": [
        "num=[1,2,3,4,5,6,7]\n"
      ],
      "metadata": {
        "id": "yZyCuNDFTbU8",
        "outputId": "20726295-133d-4819-d1f6-19eefc322d2b",
        "colab": {
          "base_uri": "https://localhost:8080/",
          "height": 216
        }
      },
      "execution_count": 48,
      "outputs": [
        {
          "output_type": "error",
          "ename": "TypeError",
          "evalue": "object of type 'int' has no len()",
          "traceback": [
            "\u001b[0;31m---------------------------------------------------------------------------\u001b[0m",
            "\u001b[0;31mTypeError\u001b[0m                                 Traceback (most recent call last)",
            "\u001b[0;32m<ipython-input-48-860185293>\u001b[0m in \u001b[0;36m<cell line: 0>\u001b[0;34m()\u001b[0m\n\u001b[1;32m      5\u001b[0m \u001b[0;32mfor\u001b[0m \u001b[0mi\u001b[0m \u001b[0;32min\u001b[0m \u001b[0mnum\u001b[0m\u001b[0;34m:\u001b[0m\u001b[0;34m\u001b[0m\u001b[0;34m\u001b[0m\u001b[0m\n\u001b[1;32m      6\u001b[0m   \u001b[0mfirst\u001b[0m\u001b[0;34m=\u001b[0m\u001b[0mnum\u001b[0m\u001b[0;34m[\u001b[0m\u001b[0;36m0\u001b[0m\u001b[0;34m]\u001b[0m\u001b[0;34m\u001b[0m\u001b[0;34m\u001b[0m\u001b[0m\n\u001b[0;32m----> 7\u001b[0;31m   \u001b[0mmid\u001b[0m\u001b[0;34m=\u001b[0m\u001b[0mlen\u001b[0m\u001b[0;34m(\u001b[0m\u001b[0mnum\u001b[0m\u001b[0;34m[\u001b[0m\u001b[0mi\u001b[0m\u001b[0;34m]\u001b[0m\u001b[0;34m)\u001b[0m\u001b[0;34m//\u001b[0m\u001b[0;36m2\u001b[0m\u001b[0;34m\u001b[0m\u001b[0;34m\u001b[0m\u001b[0m\n\u001b[0m\u001b[1;32m      8\u001b[0m \u001b[0;34m\u001b[0m\u001b[0m\n\u001b[1;32m      9\u001b[0m   \u001b[0msum\u001b[0m\u001b[0;34m=\u001b[0m\u001b[0mmid\u001b[0m\u001b[0;34m+\u001b[0m\u001b[0mlast\u001b[0m\u001b[0;34m+\u001b[0m\u001b[0mfirst\u001b[0m\u001b[0;34m\u001b[0m\u001b[0;34m\u001b[0m\u001b[0m\n",
            "\u001b[0;31mTypeError\u001b[0m: object of type 'int' has no len()"
          ]
        }
      ]
    }
  ]
}