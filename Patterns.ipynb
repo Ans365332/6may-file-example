{
  "nbformat": 4,
  "nbformat_minor": 0,
  "metadata": {
    "colab": {
      "provenance": [],
      "authorship_tag": "ABX9TyNWB1//lwqJ1jP4yjFRx1T3",
      "include_colab_link": true
    },
    "kernelspec": {
      "name": "python3",
      "display_name": "Python 3"
    },
    "language_info": {
      "name": "python"
    }
  },
  "cells": [
    {
      "cell_type": "markdown",
      "metadata": {
        "id": "view-in-github",
        "colab_type": "text"
      },
      "source": [
        "<a href=\"https://colab.research.google.com/github/Ans365332/6may-file-example/blob/main/Patterns.ipynb\" target=\"_parent\"><img src=\"https://colab.research.google.com/assets/colab-badge.svg\" alt=\"Open In Colab\"/></a>"
      ]
    },
    {
      "cell_type": "code",
      "execution_count": null,
      "metadata": {
        "id": "NK4butPqxKrM"
      },
      "outputs": [],
      "source": [
        "#PATTERNS--->\n"
      ]
    },
    {
      "cell_type": "code",
      "source": [
        "for i in range(1,7):\n",
        "  for j in range(1,7-i+1):\n",
        "    print(\"*\",end=\" \")\n",
        "  print(\"  \")"
      ],
      "metadata": {
        "colab": {
          "base_uri": "https://localhost:8080/"
        },
        "id": "q3hVejwYxWnb",
        "outputId": "edf1d85b-3e05-4f73-c30c-7f4c6a6638d3"
      },
      "execution_count": null,
      "outputs": [
        {
          "output_type": "stream",
          "name": "stdout",
          "text": [
            "* * * * * *   \n",
            "* * * * *   \n",
            "* * * *   \n",
            "* * *   \n",
            "* *   \n",
            "*   \n"
          ]
        }
      ]
    },
    {
      "cell_type": "code",
      "source": [
        "for i in range(1,6):\n",
        "  for j in range(1,i):\n",
        "    print(\"-\",end=\" \")\n",
        "\n",
        "  for j in range(1,6-i+1):\n",
        "    print(\"*\",end=\" \")\n",
        "\n",
        "  print(\"  \")"
      ],
      "metadata": {
        "colab": {
          "base_uri": "https://localhost:8080/"
        },
        "id": "U3MaBf8-y4jM",
        "outputId": "39fd8ad1-df54-4423-d487-0b13e91efe39"
      },
      "execution_count": null,
      "outputs": [
        {
          "output_type": "stream",
          "name": "stdout",
          "text": [
            "* * * * *   \n",
            "- * * * *   \n",
            "- - * * *   \n",
            "- - - * *   \n",
            "- - - - *   \n"
          ]
        }
      ]
    },
    {
      "cell_type": "code",
      "source": [
        "for i in range(1,6):\n",
        "  for j in range(1,6-i+1):\n",
        "    print(\"*\",end=\" \")\n",
        "  print(\"  \")\n"
      ],
      "metadata": {
        "colab": {
          "base_uri": "https://localhost:8080/"
        },
        "id": "x_O6dcjT0la-",
        "outputId": "7d219441-a0c0-4634-c6e8-3dfb9e2cb563"
      },
      "execution_count": null,
      "outputs": [
        {
          "output_type": "stream",
          "name": "stdout",
          "text": [
            "* * * * *   \n",
            "* * * *   \n",
            "* * *   \n",
            "* *   \n",
            "*   \n"
          ]
        }
      ]
    },
    {
      "cell_type": "code",
      "source": [
        "for i in range(1,6):\n",
        "  for j in range(1,6-i):\n",
        "    print(\"-\",end=\" \")\n",
        "\n",
        "  for j in range(1,i+1):\n",
        "    print(\"*\",end=\" \")\n",
        "\n",
        "  print(\" \")"
      ],
      "metadata": {
        "colab": {
          "base_uri": "https://localhost:8080/"
        },
        "id": "AIiPwDMj2F-I",
        "outputId": "817d816e-c854-4fef-ccaa-c82a7c110a3f"
      },
      "execution_count": null,
      "outputs": [
        {
          "output_type": "stream",
          "name": "stdout",
          "text": [
            "- - - - *  \n",
            "- - - * *  \n",
            "- - * * *  \n",
            "- * * * *  \n",
            "* * * * *  \n"
          ]
        }
      ]
    },
    {
      "cell_type": "code",
      "source": [
        "for i in range(1,5):\n",
        "  n=68\n",
        "  for j in range(1,i+1):\n",
        "    print(chr(n),end=\" \")\n",
        "    n-=1\n",
        "  print(\"  \")"
      ],
      "metadata": {
        "colab": {
          "base_uri": "https://localhost:8080/"
        },
        "id": "3qNr-4nx21d8",
        "outputId": "139d72c2-4a67-4a6c-b277-fb766646ca6e"
      },
      "execution_count": null,
      "outputs": [
        {
          "output_type": "stream",
          "name": "stdout",
          "text": [
            "D   \n",
            "D C   \n",
            "D C B   \n",
            "D C B A   \n"
          ]
        }
      ]
    },
    {
      "cell_type": "code",
      "source": [
        "for i in range(1,6):\n",
        "  for j in range(1,i+1):\n",
        "    if(j%2==0):\n",
        "      print(\"2\",end=\" \")\n",
        "    else:\n",
        "      print(\"1\",end=\" \")\n",
        "  print(\"  \")"
      ],
      "metadata": {
        "colab": {
          "base_uri": "https://localhost:8080/"
        },
        "id": "WYeWXf2Z_B1E",
        "outputId": "832458ad-9f11-4c1d-af15-a74e89f72bc5"
      },
      "execution_count": null,
      "outputs": [
        {
          "output_type": "stream",
          "name": "stdout",
          "text": [
            "1   \n",
            "1 2   \n",
            "1 2 1   \n",
            "1 2 1 2   \n",
            "1 2 1 2 1   \n"
          ]
        }
      ]
    },
    {
      "cell_type": "code",
      "source": [
        "for i in range(5,1,-1):\n",
        "  n=68\n",
        "  for j in range(1,i):\n",
        "    print(chr(n),end=\" \")\n",
        "    n-=1\n",
        "  print(\"  \")"
      ],
      "metadata": {
        "colab": {
          "base_uri": "https://localhost:8080/"
        },
        "id": "b42Fkyir_r3G",
        "outputId": "28c35516-a48b-4156-c08d-e6209cd3690f"
      },
      "execution_count": null,
      "outputs": [
        {
          "output_type": "stream",
          "name": "stdout",
          "text": [
            "D C B A   \n",
            "D C B   \n",
            "D C   \n",
            "D   \n"
          ]
        }
      ]
    },
    {
      "cell_type": "code",
      "source": [
        "n=70\n",
        "for i in range(1,5):\n",
        "\n",
        "  for j in range(1,i+1):\n",
        "    print(chr(n),end=\" \")\n",
        "    n+=2\n",
        "  print(\" \")"
      ],
      "metadata": {
        "colab": {
          "base_uri": "https://localhost:8080/"
        },
        "id": "ucp6MT7M_rwq",
        "outputId": "c387f3e5-3bc6-47a1-d625-098b52816894"
      },
      "execution_count": null,
      "outputs": [
        {
          "output_type": "stream",
          "name": "stdout",
          "text": [
            "F  \n",
            "H J  \n",
            "L N P  \n",
            "R T V X  \n"
          ]
        }
      ]
    },
    {
      "cell_type": "code",
      "source": [
        "for i in range(1,5):\n",
        "  for j in range(1,i):\n",
        "    print(\" \",end=\" \")\n",
        "\n",
        "  for j in range(1,5-i+1):\n",
        "    print(\"*\",end=\" \")\n",
        "  print(\"  \")"
      ],
      "metadata": {
        "colab": {
          "base_uri": "https://localhost:8080/"
        },
        "id": "Pe_6N_RbA729",
        "outputId": "a0894702-01de-4e6a-c100-0b31126fac9e"
      },
      "execution_count": null,
      "outputs": [
        {
          "output_type": "stream",
          "name": "stdout",
          "text": [
            "* * * *   \n",
            "  * * *   \n",
            "    * *   \n",
            "      *   \n"
          ]
        }
      ]
    },
    {
      "cell_type": "code",
      "source": [
        "for i in range(1,5):\n",
        "  for j in range(1,i+1):\n",
        "    print(j,end=\" \")\n",
        "  print(\"  \")"
      ],
      "metadata": {
        "colab": {
          "base_uri": "https://localhost:8080/"
        },
        "id": "5IhFy1N_BtRB",
        "outputId": "5bb14444-c224-47d2-e078-c1f4256ddb82"
      },
      "execution_count": null,
      "outputs": [
        {
          "output_type": "stream",
          "name": "stdout",
          "text": [
            "1   \n",
            "1 2   \n",
            "1 2 3   \n",
            "1 2 3 4   \n"
          ]
        }
      ]
    },
    {
      "cell_type": "code",
      "source": [
        "count=1\n",
        "for i in range(1,5):\n",
        "  for j in range(1,i+1):\n",
        "    print(count,end=\" \")\n",
        "    count+=1\n",
        "  print(\"  \")"
      ],
      "metadata": {
        "colab": {
          "base_uri": "https://localhost:8080/"
        },
        "id": "tnJuZRG-E_uh",
        "outputId": "50f78b92-e50d-41b6-b999-2f9725b00823"
      },
      "execution_count": null,
      "outputs": [
        {
          "output_type": "stream",
          "name": "stdout",
          "text": [
            "1   \n",
            "2 3   \n",
            "4 5 6   \n",
            "7 8 9 10   \n"
          ]
        }
      ]
    },
    {
      "cell_type": "code",
      "source": [
        "count=10\n",
        "for i in range(1,5):\n",
        "  for j in range(1,i+1):\n",
        "    print(count,end=\" \")\n",
        "    count-=1\n",
        "  print(\"  \")"
      ],
      "metadata": {
        "colab": {
          "base_uri": "https://localhost:8080/"
        },
        "id": "2wlKRaxRF4yK",
        "outputId": "1241122a-6ff4-4c84-a73a-40386ae807ae"
      },
      "execution_count": null,
      "outputs": [
        {
          "output_type": "stream",
          "name": "stdout",
          "text": [
            "10   \n",
            "9 8   \n",
            "7 6 5   \n",
            "4 3 2 1   \n"
          ]
        }
      ]
    },
    {
      "cell_type": "code",
      "source": [
        "\n",
        "for i in range(1,5):\n",
        "  count=65\n",
        "  for j in range(1,i+1):\n",
        "    print(chr(count),end=\" \")\n",
        "    count+=1\n",
        "  print(\"  \")"
      ],
      "metadata": {
        "colab": {
          "base_uri": "https://localhost:8080/"
        },
        "id": "8XhB3RlrGA1Y",
        "outputId": "855ee7d3-bd6c-421e-d2f4-c327c949440e"
      },
      "execution_count": null,
      "outputs": [
        {
          "output_type": "stream",
          "name": "stdout",
          "text": [
            "A   \n",
            "A B   \n",
            "A B C   \n",
            "A B C D   \n"
          ]
        }
      ]
    },
    {
      "cell_type": "code",
      "source": [
        "count=65\n",
        "for i in range(1,5):\n",
        "\n",
        "  for j in range(1,i+1):\n",
        "    print(chr(count),end=\" \")\n",
        "    count+=1\n",
        "  print(\"  \")"
      ],
      "metadata": {
        "colab": {
          "base_uri": "https://localhost:8080/"
        },
        "id": "ebcTZZtIGT2z",
        "outputId": "49f5ee39-2448-4305-d3bf-0cb42ff4877f"
      },
      "execution_count": null,
      "outputs": [
        {
          "output_type": "stream",
          "name": "stdout",
          "text": [
            "A   \n",
            "B C   \n",
            "D E F   \n",
            "G H I J   \n"
          ]
        }
      ]
    },
    {
      "cell_type": "code",
      "source": [
        "count=90\n",
        "for i in range(1,5):\n",
        "\n",
        "  for j in range(1,i+1):\n",
        "    print(chr(count),end=\" \")\n",
        "    count-=2\n",
        "  print(\"  \")"
      ],
      "metadata": {
        "colab": {
          "base_uri": "https://localhost:8080/"
        },
        "id": "ESy4rbq9GkzA",
        "outputId": "421baffc-d98c-46e6-f28c-a07d8707dab5"
      },
      "execution_count": null,
      "outputs": [
        {
          "output_type": "stream",
          "name": "stdout",
          "text": [
            "Z   \n",
            "X V   \n",
            "T R P   \n",
            "N L J H   \n"
          ]
        }
      ]
    },
    {
      "cell_type": "code",
      "source": [
        "\n",
        "for i in range(1,6):\n",
        "  for j in range(1,i+1):\n",
        "    if(j==1)or(j==i)or(i==5):\n",
        "      print(\"*\",end=\" \")\n",
        "    else:\n",
        "      print(\" \",end=\" \")\n",
        "  print(\"  \")"
      ],
      "metadata": {
        "colab": {
          "base_uri": "https://localhost:8080/"
        },
        "id": "_xlG7WydG20s",
        "outputId": "5cda43a8-701c-4d80-b59f-29db43013198"
      },
      "execution_count": null,
      "outputs": [
        {
          "output_type": "stream",
          "name": "stdout",
          "text": [
            "*   \n",
            "* *   \n",
            "*   *   \n",
            "*     *   \n",
            "* * * * *   \n"
          ]
        }
      ]
    },
    {
      "cell_type": "code",
      "source": [
        "count=1\n",
        "n=97\n",
        "for i in range(1,5):\n",
        "  for j in range(1,i*2+1):\n",
        "    if(j%2==0):\n",
        "      print(chr(n),end=\" \")\n",
        "      n+=1\n",
        "    else:\n",
        "      print(count,end=\" \")\n",
        "      count+=1\n",
        "  print(\"  \")"
      ],
      "metadata": {
        "colab": {
          "base_uri": "https://localhost:8080/"
        },
        "id": "4GxZ2SnwIeEo",
        "outputId": "97929b0e-b52f-4e45-8a33-61eabea65b7f"
      },
      "execution_count": null,
      "outputs": [
        {
          "output_type": "stream",
          "name": "stdout",
          "text": [
            "1 a   \n",
            "2 b 3 c   \n",
            "4 d 5 e 6 f   \n",
            "7 g 8 h 9 i 10 j   \n"
          ]
        }
      ]
    },
    {
      "cell_type": "code",
      "source": [
        "for i in range(1,6):\n",
        "  for j in range(1,6-i+1):\n",
        "    if(i==1 or j==1 or j==5-i+1):\n",
        "      print(\"*\",end=\" \")\n",
        "    else:\n",
        "      print(\" \",end=\" \")\n",
        "  print(\" \")"
      ],
      "metadata": {
        "id": "TNVNPBHD7mTd",
        "outputId": "c46bbb86-20af-4f79-842f-eeb42ab744a8",
        "colab": {
          "base_uri": "https://localhost:8080/"
        }
      },
      "execution_count": 11,
      "outputs": [
        {
          "output_type": "stream",
          "name": "stdout",
          "text": [
            "* * * * *  \n",
            "*     *  \n",
            "*   *  \n",
            "* *  \n",
            "*  \n"
          ]
        }
      ]
    },
    {
      "cell_type": "code",
      "source": [
        "for i in range(1,6):\n",
        "  for j in range(1,i+1):\n",
        "    if(j==1 or i==5 or j==i):\n",
        "      print(\"*\",end=\" \")\n",
        "    else:\n",
        "      print(\" \",end=\" \")\n",
        "  print(\" \")"
      ],
      "metadata": {
        "id": "nPyTvYVjDMgb",
        "outputId": "35166a86-41ae-4338-ec26-7be7a15d9e3a",
        "colab": {
          "base_uri": "https://localhost:8080/"
        }
      },
      "execution_count": 12,
      "outputs": [
        {
          "output_type": "stream",
          "name": "stdout",
          "text": [
            "*  \n",
            "* *  \n",
            "*   *  \n",
            "*     *  \n",
            "* * * * *  \n"
          ]
        }
      ]
    },
    {
      "cell_type": "code",
      "source": [
        "for i in range(1,6):\n",
        "  for j in range(1,5-i+1):\n",
        "    print(\"-\",end=\" \")\n",
        "\n",
        "  for j in range(1,i+1):\n",
        "    if(j==1 or i==5 or j==i):\n",
        "      print(\"*\",end=\" \")\n",
        "    else:\n",
        "      print(\" \",end=\" \")\n",
        "  print(\" \")\n",
        ""
      ],
      "metadata": {
        "id": "8L1fGOxKD2Bq",
        "outputId": "31a833f0-825d-4f18-d4b3-e51fe8746726",
        "colab": {
          "base_uri": "https://localhost:8080/"
        }
      },
      "execution_count": 14,
      "outputs": [
        {
          "output_type": "stream",
          "name": "stdout",
          "text": [
            "- - - - *  \n",
            "- - - * *  \n",
            "- - *   *  \n",
            "- *     *  \n",
            "* * * * *  \n"
          ]
        }
      ]
    },
    {
      "cell_type": "code",
      "source": [
        "#pyramid----->"
      ],
      "metadata": {
        "id": "p-f0rGJnFDjy"
      },
      "execution_count": null,
      "outputs": []
    },
    {
      "cell_type": "code",
      "source": [
        "for i in range(1,5):\n",
        "  for j in range(1,4-i+1):\n",
        "    print(\"-\",end=\" \")\n",
        "\n",
        "  for j in range(1,i+1):\n",
        "    print(\"*\",end=\"  \")\n",
        "\n",
        "  print(\" \")"
      ],
      "metadata": {
        "id": "IU14sXIbFKXl",
        "outputId": "ffde7fc8-9cef-45b8-998d-439b0bbd2d72",
        "colab": {
          "base_uri": "https://localhost:8080/"
        }
      },
      "execution_count": 24,
      "outputs": [
        {
          "output_type": "stream",
          "name": "stdout",
          "text": [
            "- - - *   \n",
            "- - *  *   \n",
            "- *  *  *   \n",
            "*  *  *  *   \n"
          ]
        }
      ]
    },
    {
      "cell_type": "code",
      "source": [
        "for i in range(1,5):\n",
        "  for j in range(1,i):\n",
        "    print(\" \",end=\" \")\n",
        "\n",
        "  for j in range(1,5):\n",
        "    print(\"*\",end=\" \")\n",
        "  print(\" \")"
      ],
      "metadata": {
        "id": "uVqSRkDfIbB4",
        "outputId": "09c74b7f-b27b-4285-e868-49660fb22833",
        "colab": {
          "base_uri": "https://localhost:8080/"
        }
      },
      "execution_count": 29,
      "outputs": [
        {
          "output_type": "stream",
          "name": "stdout",
          "text": [
            "* * * *  \n",
            "  * * * *  \n",
            "    * * * *  \n",
            "      * * * *  \n"
          ]
        }
      ]
    },
    {
      "cell_type": "code",
      "source": [
        "for i in range(1,7):\n",
        "  for j in range(1,7):\n",
        "    if(i==6 or i==1 or j==1 or j==6):\n",
        "      print(\"*\",end=\" \")\n",
        "  print(\"  \")"
      ],
      "metadata": {
        "id": "cewTYFLPJP58",
        "outputId": "31332b59-f4d3-41e9-d78f-2ba3c9ba4b04",
        "colab": {
          "base_uri": "https://localhost:8080/"
        }
      },
      "execution_count": 44,
      "outputs": [
        {
          "output_type": "stream",
          "name": "stdout",
          "text": [
            "* * * * * *   \n",
            "* *   \n",
            "* *   \n",
            "* *   \n",
            "* *   \n",
            "* * * * * *   \n"
          ]
        }
      ]
    },
    {
      "cell_type": "code",
      "source": [
        "for i in range(1,8):\n",
        "\n",
        "  for j in range(1,8-i+1):\n",
        "    print(\"\",end=\" \")\n",
        "  if(i%2!=0):\n",
        "   for j in range(1,i+1):\n",
        "    if(j==1 or j==i or i==7):\n",
        "      print(\"*\",end=\"  \")\n",
        "    else:\n",
        "      print(\" \",end=\"  \")\n",
        "  print(\" \")"
      ],
      "metadata": {
        "id": "5iRmyOq1MLSi",
        "outputId": "8b786bee-ff5b-49af-9a1a-84e5a46482ab",
        "colab": {
          "base_uri": "https://localhost:8080/"
        }
      },
      "execution_count": 85,
      "outputs": [
        {
          "output_type": "stream",
          "name": "stdout",
          "text": [
            "       *   \n",
            "       \n",
            "     *     *   \n",
            "     \n",
            "   *           *   \n",
            "   \n",
            " *  *  *  *  *  *  *   \n"
          ]
        }
      ]
    },
    {
      "cell_type": "code",
      "source": [
        "for i in range(1,8):\n",
        "\n",
        "  for j in range(1,i+1):\n",
        "    print(\" \",end=\" \")\n",
        "  if(i%2!=0):\n",
        "    for j in range(1,8-i+1):\n",
        "      print(\"*\",end=\"  \")\n",
        "\n",
        "\n",
        "  print(\" \")"
      ],
      "metadata": {
        "id": "M9h54b3lNkA_",
        "outputId": "12dd1ac5-9e4f-4160-8217-c242e205ca3d",
        "colab": {
          "base_uri": "https://localhost:8080/"
        }
      },
      "execution_count": 106,
      "outputs": [
        {
          "output_type": "stream",
          "name": "stdout",
          "text": [
            "  *  *  *  *  *  *  *   \n",
            "     \n",
            "      *  *  *  *  *   \n",
            "         \n",
            "          *  *  *   \n",
            "             \n",
            "              *   \n"
          ]
        }
      ]
    },
    {
      "cell_type": "code",
      "source": [
        "for i in range(1,5):\n",
        "  for j in range(1,i+1):\n",
        "    print(\"*\",end=\" \")\n",
        "  print(\" \")\n",
        "for i in range(1,5):\n",
        "  for j in range(1,4-i+1):\n",
        "    print(\"*\",end=\" \")\n",
        "  print(\"  \")\n",
        "\n",
        "\n",
        "\n"
      ],
      "metadata": {
        "id": "S2gOVWfwRPyT",
        "outputId": "11f32c81-c567-4d3f-dd80-f60cb4441e62",
        "colab": {
          "base_uri": "https://localhost:8080/"
        }
      },
      "execution_count": 95,
      "outputs": [
        {
          "output_type": "stream",
          "name": "stdout",
          "text": [
            "*  \n",
            "* *  \n",
            "* * *  \n",
            "* * * *  \n",
            "* * *   \n",
            "* *   \n",
            "*   \n",
            "  \n"
          ]
        }
      ]
    },
    {
      "cell_type": "code",
      "source": [
        "for i in range(1,5):\n",
        "  for j in range(1,4-i+1):\n",
        "    print(\" \",end=\" \")\n",
        "  for j in range(1,i+1):\n",
        "    print(\"*\",end=\" \")\n",
        "  print(\" \")\n",
        "\n",
        "for i in range(1,5):\n",
        "  for j in range(1,i):\n",
        "    print(\" \",end=\" \")\n",
        "  for j in range(1,5-i+1):\n",
        "    print(\"*\",end=\" \")\n",
        "  print(\" \")"
      ],
      "metadata": {
        "id": "zaVhNu4MTXCn",
        "outputId": "fe008d12-fd65-4eb1-cf19-8455bc5e525e",
        "colab": {
          "base_uri": "https://localhost:8080/"
        }
      },
      "execution_count": 104,
      "outputs": [
        {
          "output_type": "stream",
          "name": "stdout",
          "text": [
            "      *  \n",
            "    * *  \n",
            "  * * *  \n",
            "* * * *  \n",
            "* * * *  \n",
            "  * * *  \n",
            "    * *  \n",
            "      *  \n"
          ]
        }
      ]
    },
    {
      "cell_type": "code",
      "source": [
        "for i in range(1,8):\n",
        "\n",
        "  for j in range(1,8-i+1):\n",
        "    print(\"\",end=\" \")\n",
        "  if(i%2!=0):\n",
        "   for j in range(1,i+1):\n",
        "\n",
        "      print(\"*\",end=\"  \")\n",
        "\n",
        "  print(\" \")\n",
        "\n",
        "for i in range(1,6):\n",
        "\n",
        "   for j in range(1,i+1):\n",
        "     print(\" \",end=\" \")\n",
        "   if(i%2!=0):\n",
        "     for j in range(1,6-i+1):\n",
        "       print(\"*\",end=\"  \")\n",
        "\n",
        "\n",
        "   print(\" \")"
      ],
      "metadata": {
        "id": "UeVBhD4YT2OP",
        "outputId": "bd17f8e1-8903-47a6-e951-402a88262596",
        "colab": {
          "base_uri": "https://localhost:8080/"
        }
      },
      "execution_count": 119,
      "outputs": [
        {
          "output_type": "stream",
          "name": "stdout",
          "text": [
            "       *   \n",
            "       \n",
            "     *  *  *   \n",
            "     \n",
            "   *  *  *  *  *   \n",
            "   \n",
            " *  *  *  *  *  *  *   \n",
            "  *  *  *  *  *   \n",
            "     \n",
            "      *  *  *   \n",
            "         \n",
            "          *   \n"
          ]
        }
      ]
    },
    {
      "cell_type": "code",
      "source": [
        "for i in range(1,10):\n",
        "\n",
        "  for j in range(1,10-i+1):\n",
        "    print(\"\",end=\" \")\n",
        "  if(i%2!=0):\n",
        "   for j in range(1,i+1):\n",
        "\n",
        "      print(j,end=\"  \")\n",
        "\n",
        "  print(\" \")\n",
        "\n",
        "for i in range(1,8):\n",
        "\n",
        "   for j in range(1,i+1):\n",
        "     print(\" \",end=\" \")\n",
        "   if(i%2!=0):\n",
        "     for j in range(1,8-i+1):\n",
        "       print(j,end=\"  \")\n",
        "\n",
        "\n",
        "   print(\" \")"
      ],
      "metadata": {
        "id": "kBtm1F-EW93M",
        "outputId": "c363dec9-3ff3-4893-d654-b5675c23e5cd",
        "colab": {
          "base_uri": "https://localhost:8080/"
        }
      },
      "execution_count": 122,
      "outputs": [
        {
          "output_type": "stream",
          "name": "stdout",
          "text": [
            "         1   \n",
            "         \n",
            "       1  2  3   \n",
            "       \n",
            "     1  2  3  4  5   \n",
            "     \n",
            "   1  2  3  4  5  6  7   \n",
            "   \n",
            " 1  2  3  4  5  6  7  8  9   \n",
            "  1  2  3  4  5  6  7   \n",
            "     \n",
            "      1  2  3  4  5   \n",
            "         \n",
            "          1  2  3   \n",
            "             \n",
            "              1   \n"
          ]
        }
      ]
    },
    {
      "cell_type": "code",
      "source": [],
      "metadata": {
        "id": "9U3gcQ44X3V2"
      },
      "execution_count": null,
      "outputs": []
    }
  ]
}