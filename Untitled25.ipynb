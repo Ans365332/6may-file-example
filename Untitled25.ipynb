{
  "nbformat": 4,
  "nbformat_minor": 0,
  "metadata": {
    "colab": {
      "provenance": [],
      "authorship_tag": "ABX9TyNJE7C+Yn0J6qB3SbeW8P1O",
      "include_colab_link": true
    },
    "kernelspec": {
      "name": "python3",
      "display_name": "Python 3"
    },
    "language_info": {
      "name": "python"
    }
  },
  "cells": [
    {
      "cell_type": "markdown",
      "metadata": {
        "id": "view-in-github",
        "colab_type": "text"
      },
      "source": [
        "<a href=\"https://colab.research.google.com/github/Ans365332/6may-file-example/blob/main/Untitled25.ipynb\" target=\"_parent\"><img src=\"https://colab.research.google.com/assets/colab-badge.svg\" alt=\"Open In Colab\"/></a>"
      ]
    },
    {
      "cell_type": "code",
      "source": [
        "data=\"tushar\"\n",
        "i=0\n",
        "while(i<6):\n",
        "  print(i,data[i])\n",
        "  i+=1"
      ],
      "metadata": {
        "colab": {
          "base_uri": "https://localhost:8080/"
        },
        "id": "aU-wneIsNYI9",
        "outputId": "36acbed6-b4a2-479c-9e5b-d5ec060f4a3e"
      },
      "execution_count": 1,
      "outputs": [
        {
          "output_type": "stream",
          "name": "stdout",
          "text": [
            "0 t\n",
            "1 u\n",
            "2 s\n",
            "3 h\n",
            "4 a\n",
            "5 r\n"
          ]
        }
      ]
    },
    {
      "cell_type": "code",
      "execution_count": 12,
      "metadata": {
        "colab": {
          "base_uri": "https://localhost:8080/"
        },
        "id": "-mr9kSTvK3FY",
        "outputId": "bae0d337-b8df-42d9-a5c5-525c0f750ea4"
      },
      "outputs": [
        {
          "output_type": "stream",
          "name": "stdout",
          "text": [
            "5 r\n",
            "4 a\n",
            "3 h\n",
            "2 s\n",
            "1 u\n",
            "0 t\n"
          ]
        }
      ],
      "source": [
        "data=\"tushar\"\n",
        "for i in range(5,-1,-1):\n",
        "  print(i,data[i])\n"
      ]
    },
    {
      "cell_type": "code",
      "source": [
        "data=\"tushar\"\n",
        "i=5\n",
        "while(i>=0):\n",
        "  print(i,data[i])\n",
        "  i-=1"
      ],
      "metadata": {
        "colab": {
          "base_uri": "https://localhost:8080/"
        },
        "id": "G0kDp1alN3eb",
        "outputId": "66f98c7e-b787-43a0-8295-0b1d847c3609"
      },
      "execution_count": 6,
      "outputs": [
        {
          "output_type": "stream",
          "name": "stdout",
          "text": [
            "5 r\n",
            "4 a\n",
            "3 h\n",
            "2 s\n",
            "1 u\n",
            "0 t\n"
          ]
        }
      ]
    },
    {
      "cell_type": "code",
      "source": [
        "data=\"tushar\"\n",
        "i=0\n",
        "j=5\n",
        "while(i<6):\n",
        "  print(i,data[i],data[j])\n",
        "  i+=1\n",
        "  j-=1\n",
        ""
      ],
      "metadata": {
        "colab": {
          "base_uri": "https://localhost:8080/"
        },
        "id": "hIzRpGkhN267",
        "outputId": "7a1c04dc-9fed-453c-fbce-004af8d64e43"
      },
      "execution_count": 15,
      "outputs": [
        {
          "output_type": "stream",
          "name": "stdout",
          "text": [
            "0 t r\n",
            "1 u a\n",
            "2 s h\n",
            "3 h s\n",
            "4 a u\n",
            "5 r t\n"
          ]
        }
      ]
    },
    {
      "cell_type": "code",
      "source": [
        "data=\"tussat\"\n",
        "i=0\n",
        "j=5\n",
        "while(i<j):\n",
        "  if(data[i]==data[j]):\n",
        "    print(i,j)\n",
        "\n",
        "  i+=1\n",
        "  j-=1\n"
      ],
      "metadata": {
        "colab": {
          "base_uri": "https://localhost:8080/"
        },
        "id": "T5hWhvTZPsqv",
        "outputId": "eed1ab08-ce5e-4b06-c1fc-4bc7c7d07da5"
      },
      "execution_count": 23,
      "outputs": [
        {
          "output_type": "stream",
          "name": "stdout",
          "text": [
            "0 5\n",
            "2 3\n"
          ]
        }
      ]
    },
    {
      "cell_type": "code",
      "source": [
        "ta"
      ],
      "metadata": {
        "id": "CC-cqCQGVoIY"
      },
      "execution_count": null,
      "outputs": []
    },
    {
      "cell_type": "code",
      "source": [
        "#pallindrom----->\n",
        "data=\"tussut\"\n",
        "i=0\n",
        "j=5\n",
        "a=0\n",
        "while(i<j):\n",
        "  if(data[i]!=data[j]):\n",
        "     a=1\n",
        "     break\n",
        "\n",
        "  i+=1\n",
        "  j-=1\n",
        "\n",
        "if(a==1):\n",
        "  print(\"not a pallindrome\")\n",
        "else:\n",
        "  print(\" pallindrome\")"
      ],
      "metadata": {
        "colab": {
          "base_uri": "https://localhost:8080/"
        },
        "id": "0IO6VGnaRJuB",
        "outputId": "f9957ac5-0707-41a9-f1ef-dc50de79783c"
      },
      "execution_count": 31,
      "outputs": [
        {
          "output_type": "stream",
          "name": "stdout",
          "text": [
            " pallindrome\n"
          ]
        }
      ]
    },
    {
      "cell_type": "code",
      "source": [
        "data=\"regexsoftware\"\n",
        "i=0\n",
        "j=12\n",
        "while(i<j):\n",
        "  print(data[i],i)\n",
        "  i+=1\n",
        "  j-=1"
      ],
      "metadata": {
        "colab": {
          "base_uri": "https://localhost:8080/"
        },
        "id": "AfmGlgZcU_OU",
        "outputId": "c2bae936-8657-4dc8-fe9e-abfa2b477aba"
      },
      "execution_count": 33,
      "outputs": [
        {
          "output_type": "stream",
          "name": "stdout",
          "text": [
            "r 0\n",
            "e 1\n",
            "g 2\n",
            "e 3\n",
            "x 4\n",
            "s 5\n"
          ]
        }
      ]
    },
    {
      "cell_type": "code",
      "source": [
        "\n",
        "data=\"regexsregex\"\n",
        "i=0\n",
        "j=len(data)//2+1\n",
        "while(i<len(data)//2):\n",
        "  print(i,data[i],j,data[j])\n",
        "  i+=1\n",
        "  j+=1"
      ],
      "metadata": {
        "colab": {
          "base_uri": "https://localhost:8080/"
        },
        "id": "kt-5dPm3Wvcv",
        "outputId": "920b4dbe-ae46-4977-e048-d41769c77047"
      },
      "execution_count": 48,
      "outputs": [
        {
          "output_type": "stream",
          "name": "stdout",
          "text": [
            "0 r 6 r\n",
            "1 e 7 e\n",
            "2 g 8 g\n",
            "3 e 9 e\n",
            "4 x 10 x\n"
          ]
        }
      ]
    },
    {
      "cell_type": "code",
      "source": [
        "#symmetric condition\n",
        "data=\"regexsregex\"\n",
        "i=0\n",
        "j=len(data)//2+1\n",
        "a=0\n",
        "while(i<len(data)):\n",
        "  if(data[i]==data[j]):\n",
        "    a=1\n",
        "    break\n",
        "  i+=1\n",
        "  j+=1\n",
        "if(a==0):\n",
        "  print(\"Not a symmetry\")\n",
        "else:\n",
        "  print(\"symmetry\")\n",
        "\n",
        ""
      ],
      "metadata": {
        "colab": {
          "base_uri": "https://localhost:8080/"
        },
        "id": "h9XI7LJWajca",
        "outputId": "ae34bc4d-4f96-499d-f62f-3217a1abde38"
      },
      "execution_count": 52,
      "outputs": [
        {
          "output_type": "stream",
          "name": "stdout",
          "text": [
            "symmetry\n"
          ]
        }
      ]
    },
    {
      "cell_type": "code",
      "source": [
        "a=input(\"Enter your string:\")\n",
        "b=int(input(\"Enter position:\"))\n",
        "i=0\n",
        "while(i<=(len(a)-1)):\n",
        "  if(i==b):\n",
        "   print(a[b])\n",
        "\n",
        "  i+=1\n"
      ],
      "metadata": {
        "colab": {
          "base_uri": "https://localhost:8080/"
        },
        "id": "Ac1lGbA7bsJz",
        "outputId": "0f873e4e-b17e-48d4-b128-0172a8dfbb80"
      },
      "execution_count": 105,
      "outputs": [
        {
          "output_type": "stream",
          "name": "stdout",
          "text": [
            "Enter your string:anshu\n",
            "Enter position:1\n",
            "n\n"
          ]
        }
      ]
    },
    {
      "cell_type": "code",
      "source": [
        "a=input(\"Enter your string:\")\n",
        "b=input(\"Enter your character:\")\n",
        "i=0\n",
        "while(i<=(len(a)-1)):\n",
        "   if(b==a[i]):\n",
        "     print(i)\n",
        "   i+=1\n",
        "\n",
        "\n"
      ],
      "metadata": {
        "colab": {
          "base_uri": "https://localhost:8080/"
        },
        "id": "ZqmBrNOLhnoE",
        "outputId": "332186a1-4ffa-4d90-bf75-54ce22126447"
      },
      "execution_count": 97,
      "outputs": [
        {
          "output_type": "stream",
          "name": "stdout",
          "text": [
            "Enter your string:anshu\n",
            "Enter your character:s\n",
            "2\n"
          ]
        }
      ]
    },
    {
      "cell_type": "code",
      "source": [
        "data=input(\"Enter your string:\")\n",
        "b=int(input(\"Enter postion:\"))\n",
        "i=0\n",
        "j=len(data)-1\n",
        "a=0\n",
        "while(i<(len(data)-1)):\n",
        "  if(data[i]!=data[j]):\n",
        "    a=1\n",
        "    break\n",
        "  i+=1\n",
        "  j-=1\n",
        "\n",
        "if(a==1):\n",
        "  print(\"no\")\n",
        "else:\n",
        "  print(\"yes\")\n",
        "\n"
      ],
      "metadata": {
        "colab": {
          "base_uri": "https://localhost:8080/"
        },
        "id": "N347AKpHl0eb",
        "outputId": "f94f3db4-a343-4579-a048-fba810a4840a"
      },
      "execution_count": 106,
      "outputs": [
        {
          "output_type": "stream",
          "name": "stdout",
          "text": [
            "Enter your string:abcxicba\n",
            "Enter postion:3\n",
            "no\n"
          ]
        }
      ]
    }
  ]
}