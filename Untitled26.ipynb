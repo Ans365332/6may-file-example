{
  "nbformat": 4,
  "nbformat_minor": 0,
  "metadata": {
    "colab": {
      "provenance": [],
      "authorship_tag": "ABX9TyNHC34HPokGJwoUaMxdFxdR",
      "include_colab_link": true
    },
    "kernelspec": {
      "name": "python3",
      "display_name": "Python 3"
    },
    "language_info": {
      "name": "python"
    }
  },
  "cells": [
    {
      "cell_type": "markdown",
      "metadata": {
        "id": "view-in-github",
        "colab_type": "text"
      },
      "source": [
        "<a href=\"https://colab.research.google.com/github/Ans365332/6may-file-example/blob/main/Untitled26.ipynb\" target=\"_parent\"><img src=\"https://colab.research.google.com/assets/colab-badge.svg\" alt=\"Open In Colab\"/></a>"
      ]
    },
    {
      "cell_type": "code",
      "execution_count": 1,
      "metadata": {
        "colab": {
          "base_uri": "https://localhost:8080/"
        },
        "id": "cTqSzVydtTlq",
        "outputId": "84133e23-f450-44a0-9540-5a3c25a146bd"
      },
      "outputs": [
        {
          "output_type": "stream",
          "name": "stdout",
          "text": [
            "1  \n",
            "1 2  \n",
            "1 2 3  \n",
            "1 2 3 4  \n"
          ]
        }
      ],
      "source": [
        "for i in range(1,5):\n",
        "  for j in range(1,i+1):\n",
        "    print(j,end=\" \")\n",
        "  print(\" \")"
      ]
    },
    {
      "cell_type": "code",
      "source": [
        "for i in range(1,5):\n",
        "  for j in range(1,i+1):\n",
        "    print(\"1\",end=\" \")\n",
        "  print(\"  \")"
      ],
      "metadata": {
        "colab": {
          "base_uri": "https://localhost:8080/"
        },
        "id": "BhuTLDSCtY40",
        "outputId": "0c497a78-ae37-4d72-b0f1-4b3f105fe275"
      },
      "execution_count": 2,
      "outputs": [
        {
          "output_type": "stream",
          "name": "stdout",
          "text": [
            "1   \n",
            "1 1   \n",
            "1 1 1   \n",
            "1 1 1 1   \n"
          ]
        }
      ]
    },
    {
      "cell_type": "code",
      "source": [
        "count=1\n",
        "for i in range(1,5):\n",
        "  for j in range(1,i+1):\n",
        "    print(count,end=\" \")\n",
        "    count+=1\n",
        "  print(\"  \")\n"
      ],
      "metadata": {
        "colab": {
          "base_uri": "https://localhost:8080/"
        },
        "id": "gZTaRKJPtkYa",
        "outputId": "cf63dff9-476f-4bc7-8409-b8af76ec39ca"
      },
      "execution_count": 8,
      "outputs": [
        {
          "output_type": "stream",
          "name": "stdout",
          "text": [
            "1   \n",
            "2 3   \n",
            "4 5 6   \n",
            "7 8 9 10   \n"
          ]
        }
      ]
    },
    {
      "cell_type": "code",
      "source": [
        "for i in range(65,69):\n",
        "  for j in range(65,i+1):\n",
        "    print(chr(j),end=\" \")\n",
        "  print(\" \")"
      ],
      "metadata": {
        "colab": {
          "base_uri": "https://localhost:8080/"
        },
        "id": "9roDRhBbuOLq",
        "outputId": "2c96ef22-5e59-45ce-e04e-724ebd613cb8"
      },
      "execution_count": 14,
      "outputs": [
        {
          "output_type": "stream",
          "name": "stdout",
          "text": [
            "A  \n",
            "A B  \n",
            "A B C  \n",
            "A B C D  \n"
          ]
        }
      ]
    },
    {
      "cell_type": "code",
      "source": [
        "count=65\n",
        "for i in range(65,69):\n",
        "  for j in range(65,i+1):\n",
        "    print(chr(count),end=\" \")\n",
        "    count+=1\n",
        "  print(\"  \")\n"
      ],
      "metadata": {
        "colab": {
          "base_uri": "https://localhost:8080/"
        },
        "id": "wODDG-wQutDM",
        "outputId": "1b23272d-cb18-427b-93c5-e9ad0376fe00"
      },
      "execution_count": 17,
      "outputs": [
        {
          "output_type": "stream",
          "name": "stdout",
          "text": [
            "A   \n",
            "B C   \n",
            "D E F   \n",
            "G H I J   \n"
          ]
        }
      ]
    }
  ]
}