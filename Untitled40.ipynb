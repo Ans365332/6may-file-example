{
  "nbformat": 4,
  "nbformat_minor": 0,
  "metadata": {
    "colab": {
      "provenance": [],
      "authorship_tag": "ABX9TyPmPmCn6fTpEj+UkaSQbjhE",
      "include_colab_link": true
    },
    "kernelspec": {
      "name": "python3",
      "display_name": "Python 3"
    },
    "language_info": {
      "name": "python"
    }
  },
  "cells": [
    {
      "cell_type": "markdown",
      "metadata": {
        "id": "view-in-github",
        "colab_type": "text"
      },
      "source": [
        "<a href=\"https://colab.research.google.com/github/Ans365332/6may-file-example/blob/main/Untitled40.ipynb\" target=\"_parent\"><img src=\"https://colab.research.google.com/assets/colab-badge.svg\" alt=\"Open In Colab\"/></a>"
      ]
    },
    {
      "cell_type": "code",
      "execution_count": 13,
      "metadata": {
        "id": "qlgOsyj4_oYE",
        "colab": {
          "base_uri": "https://localhost:8080/"
        },
        "outputId": "caee5b24-9946-43e9-e476-6846a973f10c"
      },
      "outputs": [
        {
          "output_type": "stream",
          "name": "stdout",
          "text": [
            "[50, 48, 46, 44, 42, 40, 38, 36, 34, 32, 30, 28, 26]\n"
          ]
        }
      ],
      "source": [
        "list=[]\n",
        "i=50\n",
        "while(i>24):\n",
        "\n",
        "  if(i%2==0):\n",
        "        list.append(i)\n",
        "  i-=1\n",
        "\n",
        "print(list)"
      ]
    },
    {
      "cell_type": "code",
      "source": [
        "list=[]\n",
        "i=50\n",
        "while(i>24):\n",
        "  temp=[]\n",
        "  if(i%2==0):\n",
        "   temp.append(i)\n",
        "   list.append(temp)\n",
        "  i-=1\n",
        "\n",
        "print(list)"
      ],
      "metadata": {
        "colab": {
          "base_uri": "https://localhost:8080/"
        },
        "id": "FS_wwSxGED-d",
        "outputId": "dd41d62a-a55a-4c7c-db16-ef7fd05718d9"
      },
      "execution_count": 15,
      "outputs": [
        {
          "output_type": "stream",
          "name": "stdout",
          "text": [
            "[[50], [48], [46], [44], [42], [40], [38], [36], [34], [32], [30], [28], [26]]\n"
          ]
        }
      ]
    },
    {
      "cell_type": "code",
      "source": [
        "a=[]\n",
        "for i in range(2,4):\n",
        "  temp=[]\n",
        "  for j in range(1,11):\n",
        "    temp.append(i*j)\n",
        "  a.append(temp)\n",
        "\n",
        "print(a)\n"
      ],
      "metadata": {
        "colab": {
          "base_uri": "https://localhost:8080/"
        },
        "id": "FaStVlZJE83G",
        "outputId": "b8504b0e-6def-46c7-8e5b-97adbfad1f54"
      },
      "execution_count": 23,
      "outputs": [
        {
          "output_type": "stream",
          "name": "stdout",
          "text": [
            "[[2, 4, 6, 8, 10, 12, 14, 16, 18, 20], [3, 6, 9, 12, 15, 18, 21, 24, 27, 30]]\n"
          ]
        }
      ]
    },
    {
      "cell_type": "code",
      "source": [
        "for i in range(1,4):\n",
        "  for j in range(1,4-i+1):\n",
        "    print(\" \",end=\"\")\n",
        "  for j in range(1,i+1):\n",
        "    if(j==1 or j==i ):\n",
        "     print(\"1\",end=\" \")\n",
        "    else:\n",
        "      print(\"*\",end=\" \")\n",
        "  print(\" \")"
      ],
      "metadata": {
        "colab": {
          "base_uri": "https://localhost:8080/"
        },
        "id": "WbEiKnzQGmIK",
        "outputId": "2d4384c2-65ee-4f68-b430-6a08e244dcbe"
      },
      "execution_count": 30,
      "outputs": [
        {
          "output_type": "stream",
          "name": "stdout",
          "text": [
            "  1  \n",
            " 1 1  \n",
            "1 * 1  \n"
          ]
        }
      ]
    },
    {
      "cell_type": "code",
      "source": [
        "n=[]\n",
        "for i in range(1,4):\n",
        "  temp=[]\n",
        "  for j in range(1,i+1):\n",
        "    if(j==1 or j==i ):\n",
        "     temp.append(1)\n",
        "    else:\n",
        "       temp.append('*')\n",
        "  n.append(temp)\n",
        "print(n)"
      ],
      "metadata": {
        "colab": {
          "base_uri": "https://localhost:8080/"
        },
        "id": "9O9Ue8b6IkU4",
        "outputId": "a52df1a8-3bea-4927-cc5c-237314303f0a"
      },
      "execution_count": 45,
      "outputs": [
        {
          "output_type": "stream",
          "name": "stdout",
          "text": [
            "[[1], [1, 1], [1, '*', 1]]\n"
          ]
        }
      ]
    },
    {
      "cell_type": "code",
      "source": [
        "n=[]\n",
        "for i in range(0,3):\n",
        "  temp=[]\n",
        "  for j in range(1,i+1):\n",
        "    if(j==1 or j==i ):\n",
        "     temp.append(1)\n",
        "    else:\n",
        "       temp.append(\"*\")\n",
        "  n.append(temp)\n",
        "\n",
        "print(n)\n"
      ],
      "metadata": {
        "colab": {
          "base_uri": "https://localhost:8080/"
        },
        "id": "3sOYXmPLKyKt",
        "outputId": "93896fc5-805a-411e-a7d9-970662a3e069"
      },
      "execution_count": 46,
      "outputs": [
        {
          "output_type": "stream",
          "name": "stdout",
          "text": [
            "[[1], [1, 1], [1, '*', 1]]\n"
          ]
        },
        {
          "output_type": "execute_result",
          "data": {
            "text/plain": [
              "2"
            ]
          },
          "metadata": {},
          "execution_count": 46
        }
      ]
    },
    {
      "cell_type": "code",
      "source": [
        "n=[[1],[1,1],[1,'*',1],[1,'*','*',1],[1,'*','*','*',1]]\n",
        "for i in range(len(n)):\n",
        "\n",
        "  for j in range(1,i):\n",
        "\n",
        "     n[i][j]=n[i-1][j-1]+n[i-1][j]\n",
        "\n",
        "print(n)\n",
        "\n",
        "\n"
      ],
      "metadata": {
        "colab": {
          "base_uri": "https://localhost:8080/"
        },
        "id": "r8e_Sg8kQtnX",
        "outputId": "9c7cd606-25b5-4ad5-b751-4325f49ae8da"
      },
      "execution_count": 87,
      "outputs": [
        {
          "output_type": "stream",
          "name": "stdout",
          "text": [
            "[[1], [1, 1], [1, 2, 1], [1, 3, 3, 1], [1, 4, 6, 4, 1]]\n"
          ]
        }
      ]
    }
  ]
}