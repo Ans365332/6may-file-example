{
  "nbformat": 4,
  "nbformat_minor": 0,
  "metadata": {
    "colab": {
      "provenance": [],
      "authorship_tag": "ABX9TyOuR0xUf59ZgQKoNAD5xLxL",
      "include_colab_link": true
    },
    "kernelspec": {
      "name": "python3",
      "display_name": "Python 3"
    },
    "language_info": {
      "name": "python"
    }
  },
  "cells": [
    {
      "cell_type": "markdown",
      "metadata": {
        "id": "view-in-github",
        "colab_type": "text"
      },
      "source": [
        "<a href=\"https://colab.research.google.com/github/Ans365332/6may-file-example/blob/main/Untitled25.ipynb\" target=\"_parent\"><img src=\"https://colab.research.google.com/assets/colab-badge.svg\" alt=\"Open In Colab\"/></a>"
      ]
    },
    {
      "cell_type": "code",
      "source": [
        "data=\"tushar\"\n",
        "i=0\n",
        "while(i<6):\n",
        "  print(i,data[i])\n",
        "  i+=1"
      ],
      "metadata": {
        "colab": {
          "base_uri": "https://localhost:8080/"
        },
        "id": "aU-wneIsNYI9",
        "outputId": "36acbed6-b4a2-479c-9e5b-d5ec060f4a3e"
      },
      "execution_count": null,
      "outputs": [
        {
          "output_type": "stream",
          "name": "stdout",
          "text": [
            "0 t\n",
            "1 u\n",
            "2 s\n",
            "3 h\n",
            "4 a\n",
            "5 r\n"
          ]
        }
      ]
    },
    {
      "cell_type": "code",
      "execution_count": null,
      "metadata": {
        "colab": {
          "base_uri": "https://localhost:8080/"
        },
        "id": "-mr9kSTvK3FY",
        "outputId": "bae0d337-b8df-42d9-a5c5-525c0f750ea4"
      },
      "outputs": [
        {
          "output_type": "stream",
          "name": "stdout",
          "text": [
            "5 r\n",
            "4 a\n",
            "3 h\n",
            "2 s\n",
            "1 u\n",
            "0 t\n"
          ]
        }
      ],
      "source": [
        "data=\"tushar\"\n",
        "for i in range(5,-1,-1):\n",
        "  print(i,data[i])\n"
      ]
    },
    {
      "cell_type": "code",
      "source": [
        "data=\"tushar\"\n",
        "i=5\n",
        "while(i>=0):\n",
        "  print(i,data[i])\n",
        "  i-=1"
      ],
      "metadata": {
        "colab": {
          "base_uri": "https://localhost:8080/"
        },
        "id": "G0kDp1alN3eb",
        "outputId": "66f98c7e-b787-43a0-8295-0b1d847c3609"
      },
      "execution_count": null,
      "outputs": [
        {
          "output_type": "stream",
          "name": "stdout",
          "text": [
            "5 r\n",
            "4 a\n",
            "3 h\n",
            "2 s\n",
            "1 u\n",
            "0 t\n"
          ]
        }
      ]
    },
    {
      "cell_type": "code",
      "source": [
        "data=\"tushar\"\n",
        "i=0\n",
        "j=5\n",
        "while(i<6):\n",
        "  print(i,data[i],data[j])\n",
        "  i+=1\n",
        "  j-=1\n"
      ],
      "metadata": {
        "colab": {
          "base_uri": "https://localhost:8080/"
        },
        "id": "hIzRpGkhN267",
        "outputId": "7a1c04dc-9fed-453c-fbce-004af8d64e43"
      },
      "execution_count": null,
      "outputs": [
        {
          "output_type": "stream",
          "name": "stdout",
          "text": [
            "0 t r\n",
            "1 u a\n",
            "2 s h\n",
            "3 h s\n",
            "4 a u\n",
            "5 r t\n"
          ]
        }
      ]
    },
    {
      "cell_type": "code",
      "source": [
        "data=\"tussat\"\n",
        "i=0\n",
        "j=5\n",
        "while(i<j):\n",
        "  if(data[i]==data[j]):\n",
        "    print(i,j)\n",
        "\n",
        "  i+=1\n",
        "  j-=1\n"
      ],
      "metadata": {
        "colab": {
          "base_uri": "https://localhost:8080/"
        },
        "id": "T5hWhvTZPsqv",
        "outputId": "eed1ab08-ce5e-4b06-c1fc-4bc7c7d07da5"
      },
      "execution_count": null,
      "outputs": [
        {
          "output_type": "stream",
          "name": "stdout",
          "text": [
            "0 5\n",
            "2 3\n"
          ]
        }
      ]
    },
    {
      "cell_type": "code",
      "source": [
        "ta"
      ],
      "metadata": {
        "id": "CC-cqCQGVoIY"
      },
      "execution_count": null,
      "outputs": []
    },
    {
      "cell_type": "code",
      "source": [
        "#pallindrom----->\n",
        "data=\"tussut\"\n",
        "i=0\n",
        "j=5\n",
        "a=0\n",
        "while(i<j):\n",
        "  if(data[i]!=data[j]):\n",
        "     a=1\n",
        "     break\n",
        "\n",
        "  i+=1\n",
        "  j-=1\n",
        "\n",
        "if(a==1):\n",
        "  print(\"not a pallindrome\")\n",
        "else:\n",
        "  print(\" pallindrome\")"
      ],
      "metadata": {
        "colab": {
          "base_uri": "https://localhost:8080/"
        },
        "id": "0IO6VGnaRJuB",
        "outputId": "f9957ac5-0707-41a9-f1ef-dc50de79783c"
      },
      "execution_count": null,
      "outputs": [
        {
          "output_type": "stream",
          "name": "stdout",
          "text": [
            " pallindrome\n"
          ]
        }
      ]
    },
    {
      "cell_type": "code",
      "source": [
        "data=\"regexsoftware\"\n",
        "i=0\n",
        "j=12\n",
        "while(i<j):\n",
        "  print(data[i],i)\n",
        "  i+=1\n",
        "  j-=1"
      ],
      "metadata": {
        "colab": {
          "base_uri": "https://localhost:8080/"
        },
        "id": "AfmGlgZcU_OU",
        "outputId": "c2bae936-8657-4dc8-fe9e-abfa2b477aba"
      },
      "execution_count": null,
      "outputs": [
        {
          "output_type": "stream",
          "name": "stdout",
          "text": [
            "r 0\n",
            "e 1\n",
            "g 2\n",
            "e 3\n",
            "x 4\n",
            "s 5\n"
          ]
        }
      ]
    },
    {
      "cell_type": "code",
      "source": [
        "\n",
        "data=\"regexsregex\"\n",
        "i=0\n",
        "j=len(data)//2+1\n",
        "while(i<len(data)//2):\n",
        "  print(i,data[i],j,data[j])\n",
        "  i+=1\n",
        "  j+=1"
      ],
      "metadata": {
        "colab": {
          "base_uri": "https://localhost:8080/"
        },
        "id": "kt-5dPm3Wvcv",
        "outputId": "920b4dbe-ae46-4977-e048-d41769c77047"
      },
      "execution_count": null,
      "outputs": [
        {
          "output_type": "stream",
          "name": "stdout",
          "text": [
            "0 r 6 r\n",
            "1 e 7 e\n",
            "2 g 8 g\n",
            "3 e 9 e\n",
            "4 x 10 x\n"
          ]
        }
      ]
    },
    {
      "cell_type": "code",
      "source": [
        "#symmetric condition\n",
        "data=\"regexsregex\"\n",
        "i=0\n",
        "j=len(data)//2+1\n",
        "a=0\n",
        "while(i<len(data)):\n",
        "  if(data[i]==data[j]):\n",
        "    a=1\n",
        "    break\n",
        "  i+=1\n",
        "  j+=1\n",
        "if(a==0):\n",
        "  print(\"Not a symmetry\")\n",
        "else:\n",
        "  print(\"symmetry\")\n",
        "\n"
      ],
      "metadata": {
        "colab": {
          "base_uri": "https://localhost:8080/"
        },
        "id": "h9XI7LJWajca",
        "outputId": "ae34bc4d-4f96-499d-f62f-3217a1abde38"
      },
      "execution_count": null,
      "outputs": [
        {
          "output_type": "stream",
          "name": "stdout",
          "text": [
            "symmetry\n"
          ]
        }
      ]
    },
    {
      "cell_type": "code",
      "source": [
        "a=input(\"Enter your string:\")\n",
        "b=int(input(\"Enter position:\"))\n",
        "i=0\n",
        "while(i<=(len(a)-1)):\n",
        "  if(i==b):\n",
        "   print(a[b])\n",
        "\n",
        "  i+=1\n"
      ],
      "metadata": {
        "colab": {
          "base_uri": "https://localhost:8080/"
        },
        "id": "Ac1lGbA7bsJz",
        "outputId": "0f873e4e-b17e-48d4-b128-0172a8dfbb80"
      },
      "execution_count": null,
      "outputs": [
        {
          "output_type": "stream",
          "name": "stdout",
          "text": [
            "Enter your string:anshu\n",
            "Enter position:1\n",
            "n\n"
          ]
        }
      ]
    },
    {
      "cell_type": "code",
      "source": [
        "a=input(\"Enter your string:\")\n",
        "b=input(\"Enter your character:\")\n",
        "i=0\n",
        "while(i<=(len(a)-1)):\n",
        "   if(b==a[i]):\n",
        "     print(i)\n",
        "   i+=1\n",
        "\n",
        "\n"
      ],
      "metadata": {
        "colab": {
          "base_uri": "https://localhost:8080/"
        },
        "id": "ZqmBrNOLhnoE",
        "outputId": "332186a1-4ffa-4d90-bf75-54ce22126447"
      },
      "execution_count": null,
      "outputs": [
        {
          "output_type": "stream",
          "name": "stdout",
          "text": [
            "Enter your string:anshu\n",
            "Enter your character:s\n",
            "2\n"
          ]
        }
      ]
    },
    {
      "cell_type": "code",
      "source": [
        "data=input(\"Enter your string:\")\n",
        "b=int(input(\"Enter postion i:\"))\n",
        "c=int(input(\"Enter postion j:\"))\n",
        "\n",
        "i=0\n",
        "j=len(data)-1\n",
        "a=0\n",
        "while(i<(len(data)-1)):\n",
        "  if(data[i]!=data[j]):\n",
        "    a=1\n",
        "    break\n",
        "  i+=1\n",
        "  j-=1\n",
        "\n",
        "if(a==1):\n",
        "  print(\"no\")\n",
        "else:\n",
        "  print(\"yes\")\n",
        "\n"
      ],
      "metadata": {
        "colab": {
          "base_uri": "https://localhost:8080/"
        },
        "id": "N347AKpHl0eb",
        "outputId": "f1a46566-2dfc-4caf-9c9c-67a3fdcfd64c"
      },
      "execution_count": 2,
      "outputs": [
        {
          "output_type": "stream",
          "name": "stdout",
          "text": [
            "Enter your string:abcxcba\n",
            "Enter postion i:2\n",
            "Enter postion j:4\n",
            "yes\n"
          ]
        }
      ]
    },
    {
      "cell_type": "code",
      "source": [
        "for i in range(1,9):\n",
        "  print(\"---->python student\",i)\n",
        "\n",
        "  for j in range(1,7):\n",
        "    print(\"student--\",i,\"assignment\",j)"
      ],
      "metadata": {
        "colab": {
          "base_uri": "https://localhost:8080/"
        },
        "id": "RLjQ2rLPUn35",
        "outputId": "e7d21b8a-7f21-4b02-9957-36e4b3ce24ec"
      },
      "execution_count": 4,
      "outputs": [
        {
          "output_type": "stream",
          "name": "stdout",
          "text": [
            "---->python student 1\n",
            "student-- 1 assignment 1\n",
            "student-- 1 assignment 2\n",
            "student-- 1 assignment 3\n",
            "student-- 1 assignment 4\n",
            "student-- 1 assignment 5\n",
            "student-- 1 assignment 6\n",
            "---->python student 2\n",
            "student-- 2 assignment 1\n",
            "student-- 2 assignment 2\n",
            "student-- 2 assignment 3\n",
            "student-- 2 assignment 4\n",
            "student-- 2 assignment 5\n",
            "student-- 2 assignment 6\n",
            "---->python student 3\n",
            "student-- 3 assignment 1\n",
            "student-- 3 assignment 2\n",
            "student-- 3 assignment 3\n",
            "student-- 3 assignment 4\n",
            "student-- 3 assignment 5\n",
            "student-- 3 assignment 6\n",
            "---->python student 4\n",
            "student-- 4 assignment 1\n",
            "student-- 4 assignment 2\n",
            "student-- 4 assignment 3\n",
            "student-- 4 assignment 4\n",
            "student-- 4 assignment 5\n",
            "student-- 4 assignment 6\n",
            "---->python student 5\n",
            "student-- 5 assignment 1\n",
            "student-- 5 assignment 2\n",
            "student-- 5 assignment 3\n",
            "student-- 5 assignment 4\n",
            "student-- 5 assignment 5\n",
            "student-- 5 assignment 6\n",
            "---->python student 6\n",
            "student-- 6 assignment 1\n",
            "student-- 6 assignment 2\n",
            "student-- 6 assignment 3\n",
            "student-- 6 assignment 4\n",
            "student-- 6 assignment 5\n",
            "student-- 6 assignment 6\n",
            "---->python student 7\n",
            "student-- 7 assignment 1\n",
            "student-- 7 assignment 2\n",
            "student-- 7 assignment 3\n",
            "student-- 7 assignment 4\n",
            "student-- 7 assignment 5\n",
            "student-- 7 assignment 6\n",
            "---->python student 8\n",
            "student-- 8 assignment 1\n",
            "student-- 8 assignment 2\n",
            "student-- 8 assignment 3\n",
            "student-- 8 assignment 4\n",
            "student-- 8 assignment 5\n",
            "student-- 8 assignment 6\n"
          ]
        }
      ]
    },
    {
      "cell_type": "code",
      "source": [
        "for i in range(10,0,-1):\n",
        "  print(\"python student\",i)\n",
        "\n",
        "  for j in range(1,9):\n",
        "    print(\"student---\",i,\"assignment\",j)"
      ],
      "metadata": {
        "colab": {
          "base_uri": "https://localhost:8080/"
        },
        "id": "RTdIXJa9Xgl8",
        "outputId": "e5a46104-e1e5-447f-aa17-ddb07928b9d0"
      },
      "execution_count": 5,
      "outputs": [
        {
          "output_type": "stream",
          "name": "stdout",
          "text": [
            "python student 10\n",
            "student--- 10 assignment 1\n",
            "student--- 10 assignment 2\n",
            "student--- 10 assignment 3\n",
            "student--- 10 assignment 4\n",
            "student--- 10 assignment 5\n",
            "student--- 10 assignment 6\n",
            "student--- 10 assignment 7\n",
            "student--- 10 assignment 8\n",
            "python student 9\n",
            "student--- 9 assignment 1\n",
            "student--- 9 assignment 2\n",
            "student--- 9 assignment 3\n",
            "student--- 9 assignment 4\n",
            "student--- 9 assignment 5\n",
            "student--- 9 assignment 6\n",
            "student--- 9 assignment 7\n",
            "student--- 9 assignment 8\n",
            "python student 8\n",
            "student--- 8 assignment 1\n",
            "student--- 8 assignment 2\n",
            "student--- 8 assignment 3\n",
            "student--- 8 assignment 4\n",
            "student--- 8 assignment 5\n",
            "student--- 8 assignment 6\n",
            "student--- 8 assignment 7\n",
            "student--- 8 assignment 8\n",
            "python student 7\n",
            "student--- 7 assignment 1\n",
            "student--- 7 assignment 2\n",
            "student--- 7 assignment 3\n",
            "student--- 7 assignment 4\n",
            "student--- 7 assignment 5\n",
            "student--- 7 assignment 6\n",
            "student--- 7 assignment 7\n",
            "student--- 7 assignment 8\n",
            "python student 6\n",
            "student--- 6 assignment 1\n",
            "student--- 6 assignment 2\n",
            "student--- 6 assignment 3\n",
            "student--- 6 assignment 4\n",
            "student--- 6 assignment 5\n",
            "student--- 6 assignment 6\n",
            "student--- 6 assignment 7\n",
            "student--- 6 assignment 8\n",
            "python student 5\n",
            "student--- 5 assignment 1\n",
            "student--- 5 assignment 2\n",
            "student--- 5 assignment 3\n",
            "student--- 5 assignment 4\n",
            "student--- 5 assignment 5\n",
            "student--- 5 assignment 6\n",
            "student--- 5 assignment 7\n",
            "student--- 5 assignment 8\n",
            "python student 4\n",
            "student--- 4 assignment 1\n",
            "student--- 4 assignment 2\n",
            "student--- 4 assignment 3\n",
            "student--- 4 assignment 4\n",
            "student--- 4 assignment 5\n",
            "student--- 4 assignment 6\n",
            "student--- 4 assignment 7\n",
            "student--- 4 assignment 8\n",
            "python student 3\n",
            "student--- 3 assignment 1\n",
            "student--- 3 assignment 2\n",
            "student--- 3 assignment 3\n",
            "student--- 3 assignment 4\n",
            "student--- 3 assignment 5\n",
            "student--- 3 assignment 6\n",
            "student--- 3 assignment 7\n",
            "student--- 3 assignment 8\n",
            "python student 2\n",
            "student--- 2 assignment 1\n",
            "student--- 2 assignment 2\n",
            "student--- 2 assignment 3\n",
            "student--- 2 assignment 4\n",
            "student--- 2 assignment 5\n",
            "student--- 2 assignment 6\n",
            "student--- 2 assignment 7\n",
            "student--- 2 assignment 8\n",
            "python student 1\n",
            "student--- 1 assignment 1\n",
            "student--- 1 assignment 2\n",
            "student--- 1 assignment 3\n",
            "student--- 1 assignment 4\n",
            "student--- 1 assignment 5\n",
            "student--- 1 assignment 6\n",
            "student--- 1 assignment 7\n",
            "student--- 1 assignment 8\n"
          ]
        }
      ]
    },
    {
      "cell_type": "code",
      "source": [
        "count=1\n",
        "for i in range(1,9):\n",
        "  print(\"python student:\",i)\n",
        "\n",
        "  for j in range(1,7):\n",
        "    print(\"Assignment:\",count,end=\" \")\n",
        "    count+=1\n",
        "  print(\"  \")"
      ],
      "metadata": {
        "colab": {
          "base_uri": "https://localhost:8080/"
        },
        "id": "8ox1xG-zZkYR",
        "outputId": "de50f65d-1b73-42ff-b24d-34189c5e3ba5"
      },
      "execution_count": 11,
      "outputs": [
        {
          "output_type": "stream",
          "name": "stdout",
          "text": [
            "python student: 1\n",
            "Assignment: 1 Assignment: 2 Assignment: 3 Assignment: 4 Assignment: 5 Assignment: 6   \n",
            "python student: 2\n",
            "Assignment: 7 Assignment: 8 Assignment: 9 Assignment: 10 Assignment: 11 Assignment: 12   \n",
            "python student: 3\n",
            "Assignment: 13 Assignment: 14 Assignment: 15 Assignment: 16 Assignment: 17 Assignment: 18   \n",
            "python student: 4\n",
            "Assignment: 19 Assignment: 20 Assignment: 21 Assignment: 22 Assignment: 23 Assignment: 24   \n",
            "python student: 5\n",
            "Assignment: 25 Assignment: 26 Assignment: 27 Assignment: 28 Assignment: 29 Assignment: 30   \n",
            "python student: 6\n",
            "Assignment: 31 Assignment: 32 Assignment: 33 Assignment: 34 Assignment: 35 Assignment: 36   \n",
            "python student: 7\n",
            "Assignment: 37 Assignment: 38 Assignment: 39 Assignment: 40 Assignment: 41 Assignment: 42   \n",
            "python student: 8\n",
            "Assignment: 43 Assignment: 44 Assignment: 45 Assignment: 46 Assignment: 47 Assignment: 48   \n"
          ]
        }
      ]
    },
    {
      "cell_type": "code",
      "source": [
        "for i in range(1,5):\n",
        "  print(\"python student:\",i)\n",
        "\n",
        "  for j in range(1,6-i):\n",
        "    print(\"Assignment:\",j,end=\" \")\n",
        "\n",
        "  print(\" \")"
      ],
      "metadata": {
        "colab": {
          "base_uri": "https://localhost:8080/"
        },
        "id": "vAe0TQ8HbOEN",
        "outputId": "f698962b-8d74-41af-e2db-618fb177b0d5"
      },
      "execution_count": 19,
      "outputs": [
        {
          "output_type": "stream",
          "name": "stdout",
          "text": [
            "python student: 1\n",
            "Assignment: 1 Assignment: 2 Assignment: 3 Assignment: 4  \n",
            "python student: 2\n",
            "Assignment: 1 Assignment: 2 Assignment: 3  \n",
            "python student: 3\n",
            "Assignment: 1 Assignment: 2  \n",
            "python student: 4\n",
            "Assignment: 1  \n"
          ]
        }
      ]
    },
    {
      "cell_type": "code",
      "source": [
        "for i in range(5,0,-1):\n",
        "  print(\"python student:\",i)\n",
        "\n",
        "  for j in range(1,i+1):\n",
        "    print(\"Assignment:\",j,end=\" \")\n",
        "  print(\"   \")"
      ],
      "metadata": {
        "colab": {
          "base_uri": "https://localhost:8080/"
        },
        "id": "thst-DA1fFAc",
        "outputId": "90008251-10c3-4cfd-ed94-ac12f4cf3037"
      },
      "execution_count": 25,
      "outputs": [
        {
          "output_type": "stream",
          "name": "stdout",
          "text": [
            "python student: 5\n",
            "Assignment: 1 Assignment: 2 Assignment: 3 Assignment: 4 Assignment: 5    \n",
            "python student: 4\n",
            "Assignment: 1 Assignment: 2 Assignment: 3 Assignment: 4    \n",
            "python student: 3\n",
            "Assignment: 1 Assignment: 2 Assignment: 3    \n",
            "python student: 2\n",
            "Assignment: 1 Assignment: 2    \n",
            "python student: 1\n",
            "Assignment: 1    \n"
          ]
        }
      ]
    },
    {
      "cell_type": "code",
      "source": [
        "for i in range(1,5):\n",
        "  for j in range(1,i+1):\n",
        "    print(\"*\",end=\"  \")\n",
        "  print(\"  \")"
      ],
      "metadata": {
        "colab": {
          "base_uri": "https://localhost:8080/"
        },
        "id": "myX5NjU-gHtY",
        "outputId": "194aed74-2936-41ae-dc8c-8ecf94e0f126"
      },
      "execution_count": 28,
      "outputs": [
        {
          "output_type": "stream",
          "name": "stdout",
          "text": [
            "*    \n",
            "*  *    \n",
            "*  *  *    \n",
            "*  *  *  *    \n"
          ]
        }
      ]
    },
    {
      "cell_type": "code",
      "source": [
        "for i in range(1,5):\n",
        "  for j in range(1,5):\n",
        "    print(i,end=\" \")\n",
        "  print(\"  \")"
      ],
      "metadata": {
        "colab": {
          "base_uri": "https://localhost:8080/"
        },
        "id": "Ul-qkNpRjsoQ",
        "outputId": "75565a08-6145-4a30-8933-562ed0e9a425"
      },
      "execution_count": 47,
      "outputs": [
        {
          "output_type": "stream",
          "name": "stdout",
          "text": [
            "1 1 1 1   \n",
            "2 2 2 2   \n",
            "3 3 3 3   \n",
            "4 4 4 4   \n"
          ]
        }
      ]
    },
    {
      "cell_type": "code",
      "source": [
        "for i in range(4,-1,-1):\n",
        "  for j in range(4,0,-1):\n",
        "    print(i,end=\"  \")\n",
        "  print(\"  \")"
      ],
      "metadata": {
        "colab": {
          "base_uri": "https://localhost:8080/"
        },
        "id": "V9c383xSkh8X",
        "outputId": "69101aea-44c7-4666-d90c-1906368d5909"
      },
      "execution_count": 50,
      "outputs": [
        {
          "output_type": "stream",
          "name": "stdout",
          "text": [
            "4  4  4  4    \n",
            "3  3  3  3    \n",
            "2  2  2  2    \n",
            "1  1  1  1    \n",
            "0  0  0  0    \n"
          ]
        }
      ]
    },
    {
      "cell_type": "code",
      "source": [
        "for i in range(1,5):\n",
        "  for j in range(1,5):\n",
        "    print(j,end=\"  \")\n",
        "  print(\"  \")"
      ],
      "metadata": {
        "colab": {
          "base_uri": "https://localhost:8080/"
        },
        "id": "9ud7mVM5lexQ",
        "outputId": "8e0b1d14-aa65-417c-a072-1bc6d114541e"
      },
      "execution_count": 48,
      "outputs": [
        {
          "output_type": "stream",
          "name": "stdout",
          "text": [
            "1  2  3  4    \n",
            "1  2  3  4    \n",
            "1  2  3  4    \n",
            "1  2  3  4    \n"
          ]
        }
      ]
    },
    {
      "cell_type": "code",
      "source": [
        "for i in range(7,11):\n",
        "  for j in range(7,10):\n",
        "    print(j,end=\" \")\n",
        "  print(\" \")"
      ],
      "metadata": {
        "colab": {
          "base_uri": "https://localhost:8080/"
        },
        "id": "rGqFoiUql5XZ",
        "outputId": "2b1924c3-ed35-4fe3-f8de-55c7fdf9620d"
      },
      "execution_count": 56,
      "outputs": [
        {
          "output_type": "stream",
          "name": "stdout",
          "text": [
            "7 8 9  \n",
            "7 8 9  \n",
            "7 8 9  \n",
            "7 8 9  \n"
          ]
        }
      ]
    },
    {
      "cell_type": "code",
      "source": [
        "for i in range(65,69):\n",
        "  for j in range(65,69):\n",
        "    print(chr(j),end=\" \")\n",
        "  print(\"  \")"
      ],
      "metadata": {
        "colab": {
          "base_uri": "https://localhost:8080/"
        },
        "id": "KJ3xk1JhmNWI",
        "outputId": "ea772e7f-0a86-450a-bc82-d41586db9b65"
      },
      "execution_count": 57,
      "outputs": [
        {
          "output_type": "stream",
          "name": "stdout",
          "text": [
            "A B C D   \n",
            "A B C D   \n",
            "A B C D   \n",
            "A B C D   \n"
          ]
        }
      ]
    },
    {
      "cell_type": "code",
      "source": [
        ""
      ],
      "metadata": {
        "id": "dP3H5dHAmvx6"
      },
      "execution_count": 97,
      "outputs": []
    },
    {
      "cell_type": "code",
      "source": [
        "for i in range(1,5):\n",
        "  for j in range(1,i+1):\n",
        "    print(j,end=\" \")\n",
        "  print(\" \")"
      ],
      "metadata": {
        "colab": {
          "base_uri": "https://localhost:8080/"
        },
        "id": "S4y3UJt-nJdL",
        "outputId": "208f7d59-eb94-40bf-94ed-2ff5e9729932"
      },
      "execution_count": 62,
      "outputs": [
        {
          "output_type": "stream",
          "name": "stdout",
          "text": [
            "1  \n",
            "1 2  \n",
            "1 2 3  \n",
            "1 2 3 4  \n"
          ]
        }
      ]
    },
    {
      "cell_type": "code",
      "source": [
        "for i in range(1,5):\n",
        "  for j in range(4,i-1,-1):\n",
        "    print(j,end=\" \")\n",
        "  print(\" \")"
      ],
      "metadata": {
        "colab": {
          "base_uri": "https://localhost:8080/"
        },
        "id": "FIBiJl78nQvF",
        "outputId": "8963a71c-4dfb-4596-8e17-301f027c5ec4"
      },
      "execution_count": 71,
      "outputs": [
        {
          "output_type": "stream",
          "name": "stdout",
          "text": [
            "4 3 2 1  \n",
            "4 3 2  \n",
            "4 3  \n",
            "4  \n"
          ]
        }
      ]
    },
    {
      "cell_type": "code",
      "source": [],
      "metadata": {
        "id": "-itijXvOqKSy"
      },
      "execution_count": 97,
      "outputs": []
    },
    {
      "cell_type": "code",
      "source": [],
      "metadata": {
        "id": "mHW-qUeIsb5-"
      },
      "execution_count": 95,
      "outputs": []
    }
  ]
}