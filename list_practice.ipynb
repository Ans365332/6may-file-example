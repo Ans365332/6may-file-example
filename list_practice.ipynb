{
  "nbformat": 4,
  "nbformat_minor": 0,
  "metadata": {
    "colab": {
      "provenance": [],
      "authorship_tag": "ABX9TyOk7JPXWt45EbGWl2xggBCY",
      "include_colab_link": true
    },
    "kernelspec": {
      "name": "python3",
      "display_name": "Python 3"
    },
    "language_info": {
      "name": "python"
    }
  },
  "cells": [
    {
      "cell_type": "markdown",
      "metadata": {
        "id": "view-in-github",
        "colab_type": "text"
      },
      "source": [
        "<a href=\"https://colab.research.google.com/github/Ans365332/6may-file-example/blob/main/list_practice.ipynb\" target=\"_parent\"><img src=\"https://colab.research.google.com/assets/colab-badge.svg\" alt=\"Open In Colab\"/></a>"
      ]
    },
    {
      "cell_type": "code",
      "execution_count": null,
      "metadata": {
        "colab": {
          "base_uri": "https://localhost:8080/"
        },
        "id": "0zJGiK2fhNRe",
        "outputId": "de9dcd94-147a-4214-cc53-3a5cd5087574"
      },
      "outputs": [
        {
          "output_type": "stream",
          "name": "stdout",
          "text": [
            "99\n"
          ]
        }
      ],
      "source": [
        "n=[10,20,4,45,99]\n",
        "max=n[0]\n",
        "for i in range(0,len(n)):\n",
        "  if(n[i]>max):\n",
        "    max=n[i]\n",
        "print(max)"
      ]
    },
    {
      "cell_type": "code",
      "source": [
        "n=[10,20,30,40]\n",
        "sum=0\n",
        "for i in range(0,len(n)):\n",
        "  sum+=n[i]\n",
        "print(sum)"
      ],
      "metadata": {
        "colab": {
          "base_uri": "https://localhost:8080/"
        },
        "id": "IcB45UtIh74p",
        "outputId": "771aa8fa-4fdf-4c36-93ce-58fb83e2db49"
      },
      "execution_count": null,
      "outputs": [
        {
          "output_type": "stream",
          "name": "stdout",
          "text": [
            "100\n"
          ]
        }
      ]
    },
    {
      "cell_type": "code",
      "source": [
        "n=[1,2,3,4,5]\n",
        "j=len(n)-1\n",
        "\n",
        "for i in range(len(n)//2):\n",
        "  s=n[i]\n",
        "  n[i]=n[j]\n",
        "  n[j]=s\n",
        "  j-=1\n",
        "print(n)"
      ],
      "metadata": {
        "colab": {
          "base_uri": "https://localhost:8080/"
        },
        "id": "itLTT1NriXmZ",
        "outputId": "fe2f6642-eafb-446c-dfa1-b6ad0fb6c741"
      },
      "execution_count": 1,
      "outputs": [
        {
          "output_type": "stream",
          "name": "stdout",
          "text": [
            "[5, 4, 3, 2, 1]\n"
          ]
        }
      ]
    },
    {
      "cell_type": "code",
      "source": [
        "n=[1,3,2,4,6,5,8]\n",
        "for i in range(0,len(n)):\n",
        "  for j in range(len(n)-i-1):\n",
        "    if(n[j]>n[j+1]):\n",
        "      n[j],n[j+1]=n[j+1],n[j]\n",
        "print(n)"
      ],
      "metadata": {
        "id": "fcZ2ZIYCdXkS",
        "outputId": "5bcdc772-832a-47f0-a982-032cb4494c0e",
        "colab": {
          "base_uri": "https://localhost:8080/"
        }
      },
      "execution_count": 11,
      "outputs": [
        {
          "output_type": "stream",
          "name": "stdout",
          "text": [
            "[1, 2, 3, 4, 5, 6, 8]\n"
          ]
        }
      ]
    },
    {
      "cell_type": "code",
      "source": [
        "n = [1, 2, 2, 3, 4, 4, 5]\n",
        "unique = []\n",
        "\n",
        "for i in range(len(n)):\n",
        "    duplicate = 0\n",
        "    for j in range(len(unique)):\n",
        "        if n[i] == unique[j]:\n",
        "            duplicate = 1\n",
        "            break\n",
        "    if not duplicate:\n",
        "        unique.append(n[i])\n",
        "\n",
        "print(unique)"
      ],
      "metadata": {
        "id": "OgHWej1DfhVy",
        "outputId": "4d5499d2-a636-44d6-e4f0-6734b0e716c8",
        "colab": {
          "base_uri": "https://localhost:8080/"
        }
      },
      "execution_count": 15,
      "outputs": [
        {
          "output_type": "stream",
          "name": "stdout",
          "text": [
            "[1, 2, 3, 4, 5]\n"
          ]
        }
      ]
    },
    {
      "cell_type": "code",
      "source": [
        "n=[1,2,3,4,3,5,6]\n",
        "target_sum=6\n",
        "newlist=[]\n",
        "for i in range(0,len(n)):\n",
        "  for j in range(i+1,len(n)):\n",
        "    if(n[i]+n[j]==6):\n",
        "      newlist.append((n[i],n[j]))\n",
        "print(newlist)\n"
      ],
      "metadata": {
        "id": "pngUsUQGhqwn",
        "outputId": "62a49a07-47e7-4f10-cecd-f7bbecbb023d",
        "colab": {
          "base_uri": "https://localhost:8080/"
        }
      },
      "execution_count": 20,
      "outputs": [
        {
          "output_type": "stream",
          "name": "stdout",
          "text": [
            "[(1, 5), (2, 4), (3, 3)]\n"
          ]
        }
      ]
    },
    {
      "cell_type": "code",
      "source": [
        "n=[1,2,3,4,5]\n",
        "largest=n[0]\n",
        "smallest=n[0]\n",
        "sum=0\n",
        "for i in range(0,len(n)):\n",
        "  if(n[i]<smallest):\n",
        "    smallest=n[i]\n",
        "  if(n[i]>largest):\n",
        "    largest=n[i]\n",
        "\n",
        "  sum+=n[i]\n",
        "\n",
        "result=sum-largest-smallest\n",
        "print(result)"
      ],
      "metadata": {
        "id": "ZWwHR-SOiujv",
        "outputId": "1bb03f3d-9526-48a7-e569-f2f9f562f661",
        "colab": {
          "base_uri": "https://localhost:8080/"
        }
      },
      "execution_count": 26,
      "outputs": [
        {
          "output_type": "stream",
          "name": "stdout",
          "text": [
            "9\n"
          ]
        }
      ]
    },
    {
      "cell_type": "code",
      "source": [
        "n=[1,2,3,2,1]\n",
        "i=0\n",
        "j=len(n)-1\n",
        "a=0\n",
        "while(i<j):\n",
        "  if(n[i]!=n[j]):\n",
        "    a=1\n",
        "  break\n",
        "  i+=1\n",
        "  j-=1\n",
        "if(a==0):\n",
        "  print(\"True\")\n",
        "else:\n",
        "  print(\"False\")\n"
      ],
      "metadata": {
        "id": "cT_B9fm9kAa-",
        "outputId": "47aa12fc-4563-45ec-b7f5-5cff399ca91e",
        "colab": {
          "base_uri": "https://localhost:8080/"
        }
      },
      "execution_count": 27,
      "outputs": [
        {
          "output_type": "stream",
          "name": "stdout",
          "text": [
            "True\n"
          ]
        }
      ]
    },
    {
      "cell_type": "code",
      "source": [
        "n=[1,2,3,2,4,5,1,6]\n",
        "unique=[]\n",
        "for i in range(len(n)):\n",
        "  dup=0\n",
        "  for j in range(len(unique)):\n",
        "    if(n[i]==unique[j]):\n",
        "      dup=1\n",
        "      break\n",
        "  if(dup==0):\n",
        "   unique.append(n[i])\n",
        "print(unique)\n",
        "\n"
      ],
      "metadata": {
        "id": "2LgCf7o-koBx",
        "outputId": "80fe35f8-da58-4110-b75b-eb7aceaa160d",
        "colab": {
          "base_uri": "https://localhost:8080/"
        }
      },
      "execution_count": 30,
      "outputs": [
        {
          "output_type": "stream",
          "name": "stdout",
          "text": [
            "[1, 2, 3, 4, 5, 6]\n"
          ]
        }
      ]
    },
    {
      "cell_type": "code",
      "source": [
        "n=[1,2,3,4,5]\n",
        "m=[3,4,5,6,7]\n",
        "result=[]\n",
        "for i in range(len(n)):\n",
        "  for j in range(len(m)):\n",
        "    if(n[i]==m[j]):\n",
        "      result.append(n[i])\n",
        "print(result)\n",
        "\n"
      ],
      "metadata": {
        "id": "L3wrtCcSmRTA",
        "outputId": "da8981ca-eaf4-44ae-cfa6-fc79e540cdf4",
        "colab": {
          "base_uri": "https://localhost:8080/"
        }
      },
      "execution_count": 31,
      "outputs": [
        {
          "output_type": "stream",
          "name": "stdout",
          "text": [
            "[3, 4, 5]\n"
          ]
        }
      ]
    },
    {
      "cell_type": "code",
      "source": [
        "n=[\"apple\",\"banana\",\"strawberry\",\"kiwi\"]\n",
        "longest=n[0]\n",
        "for i in range(len(n)):\n",
        "  if(longest<n[i]):\n",
        "    longest=n[i]\n",
        "print(longest)"
      ],
      "metadata": {
        "id": "wNjaVCK2m_y_",
        "outputId": "f38e9b6e-0f89-4c74-8f82-24bae3d49253",
        "colab": {
          "base_uri": "https://localhost:8080/"
        }
      },
      "execution_count": 32,
      "outputs": [
        {
          "output_type": "stream",
          "name": "stdout",
          "text": [
            "strawberry\n"
          ]
        }
      ]
    },
    {
      "cell_type": "code",
      "source": [
        "n=[1,2,4,5,6]\n",
        "s=len(n)+1\n",
        "expectedsum=0\n",
        "actualsum=0\n",
        "\n",
        "for i in range(1,s+1):\n",
        "  expectedsum+=i\n",
        "for o in range(len(n)):\n",
        "  actualsum+=n[o]\n",
        "result=expectedsum-actualsum\n",
        "print(result)\n"
      ],
      "metadata": {
        "id": "577TESmAnZTU",
        "outputId": "44789c32-0eb6-4694-eaf9-227246702d96",
        "colab": {
          "base_uri": "https://localhost:8080/"
        }
      },
      "execution_count": 35,
      "outputs": [
        {
          "output_type": "stream",
          "name": "stdout",
          "text": [
            "3\n"
          ]
        }
      ]
    }
  ]
}