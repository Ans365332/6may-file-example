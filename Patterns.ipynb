{
  "nbformat": 4,
  "nbformat_minor": 0,
  "metadata": {
    "colab": {
      "provenance": [],
      "authorship_tag": "ABX9TyM1t54iLtrGdODVM0UQlssm",
      "include_colab_link": true
    },
    "kernelspec": {
      "name": "python3",
      "display_name": "Python 3"
    },
    "language_info": {
      "name": "python"
    }
  },
  "cells": [
    {
      "cell_type": "markdown",
      "metadata": {
        "id": "view-in-github",
        "colab_type": "text"
      },
      "source": [
        "<a href=\"https://colab.research.google.com/github/Ans365332/6may-file-example/blob/main/Patterns.ipynb\" target=\"_parent\"><img src=\"https://colab.research.google.com/assets/colab-badge.svg\" alt=\"Open In Colab\"/></a>"
      ]
    },
    {
      "cell_type": "code",
      "execution_count": null,
      "metadata": {
        "id": "NK4butPqxKrM"
      },
      "outputs": [],
      "source": [
        "#PATTERNS--->\n"
      ]
    },
    {
      "cell_type": "code",
      "source": [
        "for i in range(1,7):\n",
        "  for j in range(1,7-i+1):\n",
        "    print(\"*\",end=\" \")\n",
        "  print(\"  \")"
      ],
      "metadata": {
        "colab": {
          "base_uri": "https://localhost:8080/"
        },
        "id": "q3hVejwYxWnb",
        "outputId": "edf1d85b-3e05-4f73-c30c-7f4c6a6638d3"
      },
      "execution_count": 9,
      "outputs": [
        {
          "output_type": "stream",
          "name": "stdout",
          "text": [
            "* * * * * *   \n",
            "* * * * *   \n",
            "* * * *   \n",
            "* * *   \n",
            "* *   \n",
            "*   \n"
          ]
        }
      ]
    },
    {
      "cell_type": "code",
      "source": [
        "for i in range(1,6):\n",
        "  for j in range(1,i):\n",
        "    print(\"-\",end=\" \")\n",
        "\n",
        "  for j in range(1,6-i+1):\n",
        "    print(\"*\",end=\" \")\n",
        "\n",
        "  print(\"  \")"
      ],
      "metadata": {
        "colab": {
          "base_uri": "https://localhost:8080/"
        },
        "id": "U3MaBf8-y4jM",
        "outputId": "39fd8ad1-df54-4423-d487-0b13e91efe39"
      },
      "execution_count": 16,
      "outputs": [
        {
          "output_type": "stream",
          "name": "stdout",
          "text": [
            "* * * * *   \n",
            "- * * * *   \n",
            "- - * * *   \n",
            "- - - * *   \n",
            "- - - - *   \n"
          ]
        }
      ]
    },
    {
      "cell_type": "code",
      "source": [
        "for i in range(1,6):\n",
        "  for j in range(1,6-i+1):\n",
        "    print(\"*\",end=\" \")\n",
        "  print(\"  \")\n"
      ],
      "metadata": {
        "colab": {
          "base_uri": "https://localhost:8080/"
        },
        "id": "x_O6dcjT0la-",
        "outputId": "7d219441-a0c0-4634-c6e8-3dfb9e2cb563"
      },
      "execution_count": 15,
      "outputs": [
        {
          "output_type": "stream",
          "name": "stdout",
          "text": [
            "* * * * *   \n",
            "* * * *   \n",
            "* * *   \n",
            "* *   \n",
            "*   \n"
          ]
        }
      ]
    },
    {
      "cell_type": "code",
      "source": [
        "for i in range(1,6):\n",
        "  for j in range(1,6-i):\n",
        "    print(\"-\",end=\" \")\n",
        "\n",
        "  for j in range(1,i+1):\n",
        "    print(\"*\",end=\" \")\n",
        "\n",
        "  print(\" \")"
      ],
      "metadata": {
        "colab": {
          "base_uri": "https://localhost:8080/"
        },
        "id": "AIiPwDMj2F-I",
        "outputId": "817d816e-c854-4fef-ccaa-c82a7c110a3f"
      },
      "execution_count": 24,
      "outputs": [
        {
          "output_type": "stream",
          "name": "stdout",
          "text": [
            "- - - - *  \n",
            "- - - * *  \n",
            "- - * * *  \n",
            "- * * * *  \n",
            "* * * * *  \n"
          ]
        }
      ]
    },
    {
      "cell_type": "code",
      "source": [
        "for i in range(1,5):\n",
        "  n=68\n",
        "  for j in range(1,i+1):\n",
        "    print(chr(n),end=\" \")\n",
        "    n-=1\n",
        "  print(\"  \")"
      ],
      "metadata": {
        "colab": {
          "base_uri": "https://localhost:8080/"
        },
        "id": "3qNr-4nx21d8",
        "outputId": "139d72c2-4a67-4a6c-b277-fb766646ca6e"
      },
      "execution_count": 40,
      "outputs": [
        {
          "output_type": "stream",
          "name": "stdout",
          "text": [
            "D   \n",
            "D C   \n",
            "D C B   \n",
            "D C B A   \n"
          ]
        }
      ]
    },
    {
      "cell_type": "code",
      "source": [
        "for i in range(1,6):\n",
        "  for j in range(1,i+1):\n",
        "    if(j%2==0):\n",
        "      print(\"2\",end=\" \")\n",
        "    else:\n",
        "      print(\"1\",end=\" \")\n",
        "  print(\"  \")"
      ],
      "metadata": {
        "colab": {
          "base_uri": "https://localhost:8080/"
        },
        "id": "WYeWXf2Z_B1E",
        "outputId": "832458ad-9f11-4c1d-af15-a74e89f72bc5"
      },
      "execution_count": 39,
      "outputs": [
        {
          "output_type": "stream",
          "name": "stdout",
          "text": [
            "1   \n",
            "1 2   \n",
            "1 2 1   \n",
            "1 2 1 2   \n",
            "1 2 1 2 1   \n"
          ]
        }
      ]
    },
    {
      "cell_type": "code",
      "source": [
        "for i in range(5,1,-1):\n",
        "  n=68\n",
        "  for j in range(1,i):\n",
        "    print(chr(n),end=\" \")\n",
        "    n-=1\n",
        "  print(\"  \")"
      ],
      "metadata": {
        "colab": {
          "base_uri": "https://localhost:8080/"
        },
        "id": "b42Fkyir_r3G",
        "outputId": "28c35516-a48b-4156-c08d-e6209cd3690f"
      },
      "execution_count": 42,
      "outputs": [
        {
          "output_type": "stream",
          "name": "stdout",
          "text": [
            "D C B A   \n",
            "D C B   \n",
            "D C   \n",
            "D   \n"
          ]
        }
      ]
    },
    {
      "cell_type": "code",
      "source": [
        "n=70\n",
        "for i in range(1,5):\n",
        "\n",
        "  for j in range(1,i+1):\n",
        "    print(chr(n),end=\" \")\n",
        "    n+=2\n",
        "  print(\" \")"
      ],
      "metadata": {
        "colab": {
          "base_uri": "https://localhost:8080/"
        },
        "id": "ucp6MT7M_rwq",
        "outputId": "c387f3e5-3bc6-47a1-d625-098b52816894"
      },
      "execution_count": 44,
      "outputs": [
        {
          "output_type": "stream",
          "name": "stdout",
          "text": [
            "F  \n",
            "H J  \n",
            "L N P  \n",
            "R T V X  \n"
          ]
        }
      ]
    },
    {
      "cell_type": "code",
      "source": [
        "for i in range(1,5):\n",
        "  for j in range(1,i):\n",
        "    print(\" \",end=\" \")\n",
        "\n",
        "  for j in range(1,5-i+1):\n",
        "    print(\"*\",end=\" \")\n",
        "  print(\"  \")"
      ],
      "metadata": {
        "colab": {
          "base_uri": "https://localhost:8080/"
        },
        "id": "Pe_6N_RbA729",
        "outputId": "a0894702-01de-4e6a-c100-0b31126fac9e"
      },
      "execution_count": 46,
      "outputs": [
        {
          "output_type": "stream",
          "name": "stdout",
          "text": [
            "* * * *   \n",
            "  * * *   \n",
            "    * *   \n",
            "      *   \n"
          ]
        }
      ]
    },
    {
      "cell_type": "code",
      "source": [
        "for i in range(1,5):\n",
        "  for j in range(1,i+1):\n",
        "    print(j,end=\" \")\n",
        "  print(\"  \")"
      ],
      "metadata": {
        "colab": {
          "base_uri": "https://localhost:8080/"
        },
        "id": "5IhFy1N_BtRB",
        "outputId": "5bb14444-c224-47d2-e078-c1f4256ddb82"
      },
      "execution_count": 47,
      "outputs": [
        {
          "output_type": "stream",
          "name": "stdout",
          "text": [
            "1   \n",
            "1 2   \n",
            "1 2 3   \n",
            "1 2 3 4   \n"
          ]
        }
      ]
    },
    {
      "cell_type": "code",
      "source": [
        "count=1\n",
        "for i in range(1,5):\n",
        "  for j in range(1,i+1):\n",
        "    print(count,end=\" \")\n",
        "    count+=1\n",
        "  print(\"  \")"
      ],
      "metadata": {
        "colab": {
          "base_uri": "https://localhost:8080/"
        },
        "id": "tnJuZRG-E_uh",
        "outputId": "50f78b92-e50d-41b6-b999-2f9725b00823"
      },
      "execution_count": 48,
      "outputs": [
        {
          "output_type": "stream",
          "name": "stdout",
          "text": [
            "1   \n",
            "2 3   \n",
            "4 5 6   \n",
            "7 8 9 10   \n"
          ]
        }
      ]
    },
    {
      "cell_type": "code",
      "source": [
        "count=10\n",
        "for i in range(1,5):\n",
        "  for j in range(1,i+1):\n",
        "    print(count,end=\" \")\n",
        "    count-=1\n",
        "  print(\"  \")"
      ],
      "metadata": {
        "colab": {
          "base_uri": "https://localhost:8080/"
        },
        "id": "2wlKRaxRF4yK",
        "outputId": "1241122a-6ff4-4c84-a73a-40386ae807ae"
      },
      "execution_count": 49,
      "outputs": [
        {
          "output_type": "stream",
          "name": "stdout",
          "text": [
            "10   \n",
            "9 8   \n",
            "7 6 5   \n",
            "4 3 2 1   \n"
          ]
        }
      ]
    },
    {
      "cell_type": "code",
      "source": [
        "\n",
        "for i in range(1,5):\n",
        "  count=65\n",
        "  for j in range(1,i+1):\n",
        "    print(chr(count),end=\" \")\n",
        "    count+=1\n",
        "  print(\"  \")"
      ],
      "metadata": {
        "colab": {
          "base_uri": "https://localhost:8080/"
        },
        "id": "8XhB3RlrGA1Y",
        "outputId": "855ee7d3-bd6c-421e-d2f4-c327c949440e"
      },
      "execution_count": 52,
      "outputs": [
        {
          "output_type": "stream",
          "name": "stdout",
          "text": [
            "A   \n",
            "A B   \n",
            "A B C   \n",
            "A B C D   \n"
          ]
        }
      ]
    },
    {
      "cell_type": "code",
      "source": [
        "count=65\n",
        "for i in range(1,5):\n",
        "\n",
        "  for j in range(1,i+1):\n",
        "    print(chr(count),end=\" \")\n",
        "    count+=1\n",
        "  print(\"  \")"
      ],
      "metadata": {
        "colab": {
          "base_uri": "https://localhost:8080/"
        },
        "id": "ebcTZZtIGT2z",
        "outputId": "49f5ee39-2448-4305-d3bf-0cb42ff4877f"
      },
      "execution_count": 53,
      "outputs": [
        {
          "output_type": "stream",
          "name": "stdout",
          "text": [
            "A   \n",
            "B C   \n",
            "D E F   \n",
            "G H I J   \n"
          ]
        }
      ]
    },
    {
      "cell_type": "code",
      "source": [
        "count=90\n",
        "for i in range(1,5):\n",
        "\n",
        "  for j in range(1,i+1):\n",
        "    print(chr(count),end=\" \")\n",
        "    count-=2\n",
        "  print(\"  \")"
      ],
      "metadata": {
        "colab": {
          "base_uri": "https://localhost:8080/"
        },
        "id": "ESy4rbq9GkzA",
        "outputId": "421baffc-d98c-46e6-f28c-a07d8707dab5"
      },
      "execution_count": 55,
      "outputs": [
        {
          "output_type": "stream",
          "name": "stdout",
          "text": [
            "Z   \n",
            "X V   \n",
            "T R P   \n",
            "N L J H   \n"
          ]
        }
      ]
    },
    {
      "cell_type": "code",
      "source": [
        "\n",
        "for i in range(1,6):\n",
        "  for j in range(1,i+1):\n",
        "    if(j==1)or(j==i)or(i==5):\n",
        "      print(\"*\",end=\" \")\n",
        "    else:\n",
        "      print(\" \",end=\" \")\n",
        "  print(\"  \")"
      ],
      "metadata": {
        "colab": {
          "base_uri": "https://localhost:8080/"
        },
        "id": "_xlG7WydG20s",
        "outputId": "5cda43a8-701c-4d80-b59f-29db43013198"
      },
      "execution_count": 65,
      "outputs": [
        {
          "output_type": "stream",
          "name": "stdout",
          "text": [
            "*   \n",
            "* *   \n",
            "*   *   \n",
            "*     *   \n",
            "* * * * *   \n"
          ]
        }
      ]
    },
    {
      "cell_type": "code",
      "source": [
        "count=1\n",
        "n=97\n",
        "for i in range(1,5):\n",
        "  for j in range(1,i*i+2):\n",
        "    if(j%2==0):\n",
        "      print(chr(n),end=\" \")\n",
        "      n+=1\n",
        "    else:\n",
        "      print(count,end=\" \")\n",
        "      count+=1\n",
        "  print(\"  \")"
      ],
      "metadata": {
        "colab": {
          "base_uri": "https://localhost:8080/"
        },
        "id": "4GxZ2SnwIeEo",
        "outputId": "73ec0b11-b0a7-4a2f-aed7-68e1ae624051"
      },
      "execution_count": 86,
      "outputs": [
        {
          "output_type": "stream",
          "name": "stdout",
          "text": [
            "1 a   \n",
            "2 b 3 c 4   \n",
            "5 d 6 e 7 f 8 g 9 h   \n",
            "10 i 11 j 12 k 13 l 14 m 15 n 16 o 17 p 18   \n"
          ]
        }
      ]
    }
  ]
}