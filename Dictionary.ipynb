{
  "nbformat": 4,
  "nbformat_minor": 0,
  "metadata": {
    "colab": {
      "provenance": [],
      "authorship_tag": "ABX9TyOEVJmK46RkwH02ztd5xnvO",
      "include_colab_link": true
    },
    "kernelspec": {
      "name": "python3",
      "display_name": "Python 3"
    },
    "language_info": {
      "name": "python"
    }
  },
  "cells": [
    {
      "cell_type": "markdown",
      "metadata": {
        "id": "view-in-github",
        "colab_type": "text"
      },
      "source": [
        "<a href=\"https://colab.research.google.com/github/Ans365332/6may-file-example/blob/main/Dictionary.ipynb\" target=\"_parent\"><img src=\"https://colab.research.google.com/assets/colab-badge.svg\" alt=\"Open In Colab\"/></a>"
      ]
    },
    {
      "cell_type": "code",
      "execution_count": 8,
      "metadata": {
        "colab": {
          "base_uri": "https://localhost:8080/"
        },
        "id": "TTSwEres-Ibq",
        "outputId": "cf9969e5-b4dc-4164-a8d8-09d3355b7dab"
      },
      "outputs": [
        {
          "output_type": "stream",
          "name": "stdout",
          "text": [
            "{10: 'Yash', 11: 'happy', 'salary': 8000}\n",
            "{10: 'Yash', 11: 'happy', 'salary': 8000, 19: 'kajal'}\n",
            "{10: 'Yash', 11: 'happy', 'salary': 9000, 19: 'kajal'}\n"
          ]
        }
      ],
      "source": [
        "myadhar={10:\"Yash\",11:\"happy\",\"salary\":8000}\n",
        "print(myadhar)\n",
        "myadhar[19]=\"kajal\"\n",
        "print(myadhar)\n",
        "myadhar.keys()\n",
        "myadhar.values()\n",
        "myadhar[\"salary\"]+=1000\n",
        "myadhar[\"salary\"]\n",
        "print(myadhar)"
      ]
    },
    {
      "cell_type": "code",
      "source": [
        "dic={\"total\":0}\n",
        "i=1\n",
        "while(i<10):\n",
        "  dic[\"total\"]=i\n",
        "  i+=1\n",
        "print(dic)"
      ],
      "metadata": {
        "colab": {
          "base_uri": "https://localhost:8080/"
        },
        "id": "01JS94yUB7Ku",
        "outputId": "3d135231-34be-4066-d2eb-a3ab22a46918"
      },
      "execution_count": 12,
      "outputs": [
        {
          "output_type": "stream",
          "name": "stdout",
          "text": [
            "{'total': 9}\n"
          ]
        }
      ]
    },
    {
      "cell_type": "code",
      "source": [
        "str=\"anshu\"\n",
        "dic={\"total\":0}\n",
        "\n",
        "for ch in str:\n",
        "\n",
        "  dic[\"total\"]+=1  #we can use dictonary in place of count\n",
        "print(dic)"
      ],
      "metadata": {
        "colab": {
          "base_uri": "https://localhost:8080/"
        },
        "id": "UPT2A_MzCcyF",
        "outputId": "ff647095-3468-4acf-ae51-617a02330a98"
      },
      "execution_count": 23,
      "outputs": [
        {
          "output_type": "stream",
          "name": "stdout",
          "text": [
            "{'total': 5}\n"
          ]
        }
      ]
    },
    {
      "cell_type": "code",
      "source": [
        "str=\"anshu\"\n",
        "dict={\"total\":0}\n",
        "\n",
        "for ch in str:\n",
        "  if(ch=='a'or ch=='e'or ch=='i'or ch=='o'or ch=='u'or ch=='A'or ch=='E'or ch=='I'or ch=='O'or ch=='U'):\n",
        "\n",
        "    dict[\"total\"]+=1\n",
        "print(dict)"
      ],
      "metadata": {
        "colab": {
          "base_uri": "https://localhost:8080/"
        },
        "id": "9xWvNgC5Dkdo",
        "outputId": "d20da75f-c29e-4a6d-e103-7e987c3e8533"
      },
      "execution_count": 22,
      "outputs": [
        {
          "output_type": "stream",
          "name": "stdout",
          "text": [
            "{'total': 1}\n"
          ]
        }
      ]
    },
    {
      "cell_type": "code",
      "source": [
        "dic={}\n",
        "i=0\n",
        "while(i<5):\n",
        "  dic[i]=i*i\n",
        "  i+=1\n",
        "print(dic)\n",
        "\n",
        "\n"
      ],
      "metadata": {
        "colab": {
          "base_uri": "https://localhost:8080/"
        },
        "id": "a86KsUh1GwpX",
        "outputId": "14329776-daab-467d-b39b-e909700e1c4e"
      },
      "execution_count": 26,
      "outputs": [
        {
          "output_type": "stream",
          "name": "stdout",
          "text": [
            "{0: 0, 1: 1, 2: 4, 3: 9, 4: 16}\n"
          ]
        }
      ]
    },
    {
      "cell_type": "code",
      "source": [
        "str=\"adefghi\"\n",
        "dict={}\n",
        "for ch in str:\n",
        "  if(ch=='a'or ch=='e'or ch=='i'or ch=='o'or ch=='u'or ch=='A'or ch=='E'or ch=='I'or ch=='O'or ch=='U'):\n",
        "    dict[ch]=1\n",
        "print(dict)\n",
        ""
      ],
      "metadata": {
        "colab": {
          "base_uri": "https://localhost:8080/"
        },
        "id": "3XfZRAmnIW3Y",
        "outputId": "d8b958a1-5a0e-4921-e13d-90c830b21f10"
      },
      "execution_count": 29,
      "outputs": [
        {
          "output_type": "stream",
          "name": "stdout",
          "text": [
            "{'a': 1, 'e': 1, 'i': 1}\n"
          ]
        }
      ]
    },
    {
      "cell_type": "code",
      "source": [
        "s = 'adefghi'\n",
        "v = 'aeiouAEIOU'\n",
        "dict = {}\n",
        "for i in s:\n",
        "  if i in v:\n",
        "    dict[i]=s.count(i)\n",
        "\n",
        "print(dict)"
      ],
      "metadata": {
        "colab": {
          "base_uri": "https://localhost:8080/"
        },
        "id": "lDx6N4_fJfpS",
        "outputId": "b5104c00-ec0a-4e05-e697-c3fedc43213b"
      },
      "execution_count": 30,
      "outputs": [
        {
          "output_type": "stream",
          "name": "stdout",
          "text": [
            "{'a': 1, 'e': 1, 'i': 1}\n"
          ]
        }
      ]
    }
  ]
}